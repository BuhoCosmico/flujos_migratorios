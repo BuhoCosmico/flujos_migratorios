{
 "cells": [
  {
   "attachments": {},
   "cell_type": "markdown",
   "metadata": {},
   "source": [
    "## Importación de dependencias y lectura de datos en bruto"
   ]
  },
  {
   "cell_type": "code",
   "execution_count": 3,
   "metadata": {},
   "outputs": [],
   "source": [
    "import pandas as pd\n",
    "from matplotlib import pyplot as plt\n",
    "import numpy as np"
   ]
  },
  {
   "cell_type": "code",
   "execution_count": 8,
   "metadata": {},
   "outputs": [],
   "source": [
    "wpp_df = pd.read_excel(\"../datasets/raw/world_population_prospects/WPP2022_GEN_F01_DEMOGRAPHIC_INDICATORS_COMPACT_REV1.xlsx\", index_col=0)\n",
    "wpp_df.drop(['Variant','Notes','Location code','ISO3 Alpha-code','ISO2 Alpha-code','SDMX code**','Parent code'],axis=1,inplace=True)"
   ]
  },
  {
   "attachments": {},
   "cell_type": "markdown",
   "metadata": {},
   "source": [
    "## Vista superficial al dataset"
   ]
  },
  {
   "attachments": {},
   "cell_type": "markdown",
   "metadata": {},
   "source": [
    "En este dataset se encuentran un gran numero de campos. Estos podrían ser resumidos o cortados posteriormente al limpiar y normalizar los datos para ingresarse a las tablas SQL, quizás mediante su acotación en variables categoricas ordinales, ya que varios son algo redundantes (la tasa de sexo de la población, por ejemplo)"
   ]
  },
  {
   "cell_type": "code",
   "execution_count": 106,
   "metadata": {},
   "outputs": [
    {
     "data": {
      "text/html": [
       "<div>\n",
       "<style scoped>\n",
       "    .dataframe tbody tr th:only-of-type {\n",
       "        vertical-align: middle;\n",
       "    }\n",
       "\n",
       "    .dataframe tbody tr th {\n",
       "        vertical-align: top;\n",
       "    }\n",
       "\n",
       "    .dataframe thead th {\n",
       "        text-align: right;\n",
       "    }\n",
       "</style>\n",
       "<table border=\"1\" class=\"dataframe\">\n",
       "  <thead>\n",
       "    <tr style=\"text-align: right;\">\n",
       "      <th></th>\n",
       "      <th>Region, subregion, country or area *</th>\n",
       "      <th>Type</th>\n",
       "      <th>Year</th>\n",
       "      <th>Total Population, as of 1 January (thousands)</th>\n",
       "      <th>Total Population, as of 1 July (thousands)</th>\n",
       "      <th>Male Population, as of 1 July (thousands)</th>\n",
       "      <th>Female Population, as of 1 July (thousands)</th>\n",
       "      <th>Population Density, as of 1 July (persons per square km)</th>\n",
       "      <th>Population Sex Ratio, as of 1 July (males per 100 females)</th>\n",
       "      <th>Median Age, as of 1 July (years)</th>\n",
       "      <th>...</th>\n",
       "      <th>Male Mortality before Age 60 (deaths under age 60 per 1,000 male live births)</th>\n",
       "      <th>Female Mortality before Age 60 (deaths under age 60 per 1,000 female live births)</th>\n",
       "      <th>Mortality between Age 15 and 50, both sexes (deaths under age 50 per 1,000 alive at age 15)</th>\n",
       "      <th>Male Mortality between Age 15 and 50 (deaths under age 50 per 1,000 males alive at age 15)</th>\n",
       "      <th>Female Mortality between Age 15 and 50 (deaths under age 50 per 1,000 females alive at age 15)</th>\n",
       "      <th>Mortality between Age 15 and 60, both sexes (deaths under age 60 per 1,000 alive at age 15)</th>\n",
       "      <th>Male Mortality between Age 15 and 60 (deaths under age 60 per 1,000 males alive at age 15)</th>\n",
       "      <th>Female Mortality between Age 15 and 60 (deaths under age 60 per 1,000 females alive at age 15)</th>\n",
       "      <th>Net Number of Migrants (thousands)</th>\n",
       "      <th>Net Migration Rate (per 1,000 population)</th>\n",
       "    </tr>\n",
       "    <tr>\n",
       "      <th>Index</th>\n",
       "      <th></th>\n",
       "      <th></th>\n",
       "      <th></th>\n",
       "      <th></th>\n",
       "      <th></th>\n",
       "      <th></th>\n",
       "      <th></th>\n",
       "      <th></th>\n",
       "      <th></th>\n",
       "      <th></th>\n",
       "      <th></th>\n",
       "      <th></th>\n",
       "      <th></th>\n",
       "      <th></th>\n",
       "      <th></th>\n",
       "      <th></th>\n",
       "      <th></th>\n",
       "      <th></th>\n",
       "      <th></th>\n",
       "      <th></th>\n",
       "      <th></th>\n",
       "    </tr>\n",
       "  </thead>\n",
       "  <tbody>\n",
       "    <tr>\n",
       "      <th>1</th>\n",
       "      <td>WORLD</td>\n",
       "      <td>World</td>\n",
       "      <td>1950.0</td>\n",
       "      <td>2477674.732</td>\n",
       "      <td>2499322.157</td>\n",
       "      <td>1245362.965</td>\n",
       "      <td>1253959.192</td>\n",
       "      <td>19.166</td>\n",
       "      <td>99.314</td>\n",
       "      <td>22.224</td>\n",
       "      <td>...</td>\n",
       "      <td>580.75</td>\n",
       "      <td>498.04</td>\n",
       "      <td>240.316</td>\n",
       "      <td>271.625</td>\n",
       "      <td>208.192</td>\n",
       "      <td>378.697</td>\n",
       "      <td>430.259</td>\n",
       "      <td>324.931</td>\n",
       "      <td>0</td>\n",
       "      <td>0</td>\n",
       "    </tr>\n",
       "    <tr>\n",
       "      <th>2</th>\n",
       "      <td>WORLD</td>\n",
       "      <td>World</td>\n",
       "      <td>1951.0</td>\n",
       "      <td>2520969.582</td>\n",
       "      <td>2543130.38</td>\n",
       "      <td>1267473.182</td>\n",
       "      <td>1275657.198</td>\n",
       "      <td>19.502</td>\n",
       "      <td>99.358</td>\n",
       "      <td>22.172</td>\n",
       "      <td>...</td>\n",
       "      <td>566.728</td>\n",
       "      <td>490.199</td>\n",
       "      <td>231.177</td>\n",
       "      <td>258.09</td>\n",
       "      <td>203.78</td>\n",
       "      <td>368.319</td>\n",
       "      <td>415.836</td>\n",
       "      <td>319.336</td>\n",
       "      <td>0</td>\n",
       "      <td>0</td>\n",
       "    </tr>\n",
       "    <tr>\n",
       "      <th>3</th>\n",
       "      <td>WORLD</td>\n",
       "      <td>World</td>\n",
       "      <td>1952.0</td>\n",
       "      <td>2565291.179</td>\n",
       "      <td>2590270.899</td>\n",
       "      <td>1291399.982</td>\n",
       "      <td>1298870.917</td>\n",
       "      <td>19.864</td>\n",
       "      <td>99.425</td>\n",
       "      <td>22.108</td>\n",
       "      <td>...</td>\n",
       "      <td>546.317</td>\n",
       "      <td>477.264</td>\n",
       "      <td>218.674</td>\n",
       "      <td>240.034</td>\n",
       "      <td>197.142</td>\n",
       "      <td>353.055</td>\n",
       "      <td>395.533</td>\n",
       "      <td>309.91</td>\n",
       "      <td>0</td>\n",
       "      <td>0</td>\n",
       "    </tr>\n",
       "    <tr>\n",
       "      <th>4</th>\n",
       "      <td>WORLD</td>\n",
       "      <td>World</td>\n",
       "      <td>1953.0</td>\n",
       "      <td>2615250.618</td>\n",
       "      <td>2640278.797</td>\n",
       "      <td>1316659.222</td>\n",
       "      <td>1323619.574</td>\n",
       "      <td>20.247</td>\n",
       "      <td>99.474</td>\n",
       "      <td>22.036</td>\n",
       "      <td>...</td>\n",
       "      <td>535.829</td>\n",
       "      <td>469.532</td>\n",
       "      <td>212.872</td>\n",
       "      <td>232.602</td>\n",
       "      <td>193.049</td>\n",
       "      <td>345.083</td>\n",
       "      <td>385.843</td>\n",
       "      <td>303.905</td>\n",
       "      <td>0</td>\n",
       "      <td>0</td>\n",
       "    </tr>\n",
       "    <tr>\n",
       "      <th>5</th>\n",
       "      <td>WORLD</td>\n",
       "      <td>World</td>\n",
       "      <td>1954.0</td>\n",
       "      <td>2665306.975</td>\n",
       "      <td>2691979.339</td>\n",
       "      <td>1342923.171</td>\n",
       "      <td>1349056.168</td>\n",
       "      <td>20.643</td>\n",
       "      <td>99.545</td>\n",
       "      <td>21.952</td>\n",
       "      <td>...</td>\n",
       "      <td>523.124</td>\n",
       "      <td>458.484</td>\n",
       "      <td>205.762</td>\n",
       "      <td>224.05</td>\n",
       "      <td>187.444</td>\n",
       "      <td>335.442</td>\n",
       "      <td>374.658</td>\n",
       "      <td>295.994</td>\n",
       "      <td>0</td>\n",
       "      <td>0</td>\n",
       "    </tr>\n",
       "    <tr>\n",
       "      <th>...</th>\n",
       "      <td>...</td>\n",
       "      <td>...</td>\n",
       "      <td>...</td>\n",
       "      <td>...</td>\n",
       "      <td>...</td>\n",
       "      <td>...</td>\n",
       "      <td>...</td>\n",
       "      <td>...</td>\n",
       "      <td>...</td>\n",
       "      <td>...</td>\n",
       "      <td>...</td>\n",
       "      <td>...</td>\n",
       "      <td>...</td>\n",
       "      <td>...</td>\n",
       "      <td>...</td>\n",
       "      <td>...</td>\n",
       "      <td>...</td>\n",
       "      <td>...</td>\n",
       "      <td>...</td>\n",
       "      <td>...</td>\n",
       "      <td>...</td>\n",
       "    </tr>\n",
       "    <tr>\n",
       "      <th>20592</th>\n",
       "      <td>Wallis and Futuna Islands</td>\n",
       "      <td>Country/Area</td>\n",
       "      <td>2017.0</td>\n",
       "      <td>12.002</td>\n",
       "      <td>11.936</td>\n",
       "      <td>5.769</td>\n",
       "      <td>6.167</td>\n",
       "      <td>85.257</td>\n",
       "      <td>93.562</td>\n",
       "      <td>33.847</td>\n",
       "      <td>...</td>\n",
       "      <td>92.066</td>\n",
       "      <td>102.718</td>\n",
       "      <td>30.643</td>\n",
       "      <td>26.781</td>\n",
       "      <td>33.892</td>\n",
       "      <td>82.852</td>\n",
       "      <td>82.197</td>\n",
       "      <td>83.32</td>\n",
       "      <td>-0.201</td>\n",
       "      <td>-16.706</td>\n",
       "    </tr>\n",
       "    <tr>\n",
       "      <th>20593</th>\n",
       "      <td>Wallis and Futuna Islands</td>\n",
       "      <td>Country/Area</td>\n",
       "      <td>2018.0</td>\n",
       "      <td>11.87</td>\n",
       "      <td>11.816</td>\n",
       "      <td>5.703</td>\n",
       "      <td>6.112</td>\n",
       "      <td>84.396</td>\n",
       "      <td>93.301</td>\n",
       "      <td>34.397</td>\n",
       "      <td>...</td>\n",
       "      <td>99.196</td>\n",
       "      <td>89.345</td>\n",
       "      <td>29.201</td>\n",
       "      <td>29.159</td>\n",
       "      <td>29.17</td>\n",
       "      <td>79.633</td>\n",
       "      <td>88.556</td>\n",
       "      <td>72.163</td>\n",
       "      <td>-0.171</td>\n",
       "      <td>-14.368</td>\n",
       "    </tr>\n",
       "    <tr>\n",
       "      <th>20594</th>\n",
       "      <td>Wallis and Futuna Islands</td>\n",
       "      <td>Country/Area</td>\n",
       "      <td>2019.0</td>\n",
       "      <td>11.761</td>\n",
       "      <td>11.714</td>\n",
       "      <td>5.648</td>\n",
       "      <td>6.066</td>\n",
       "      <td>83.671</td>\n",
       "      <td>93.109</td>\n",
       "      <td>34.962</td>\n",
       "      <td>...</td>\n",
       "      <td>77.781</td>\n",
       "      <td>80.136</td>\n",
       "      <td>24.304</td>\n",
       "      <td>22.291</td>\n",
       "      <td>25.981</td>\n",
       "      <td>66.639</td>\n",
       "      <td>69.324</td>\n",
       "      <td>64.496</td>\n",
       "      <td>-0.171</td>\n",
       "      <td>-14.489</td>\n",
       "    </tr>\n",
       "    <tr>\n",
       "      <th>20595</th>\n",
       "      <td>Wallis and Futuna Islands</td>\n",
       "      <td>Country/Area</td>\n",
       "      <td>2020.0</td>\n",
       "      <td>11.667</td>\n",
       "      <td>11.655</td>\n",
       "      <td>5.614</td>\n",
       "      <td>6.04</td>\n",
       "      <td>83.246</td>\n",
       "      <td>92.955</td>\n",
       "      <td>35.453</td>\n",
       "      <td>...</td>\n",
       "      <td>85.608</td>\n",
       "      <td>86.364</td>\n",
       "      <td>26.572</td>\n",
       "      <td>24.691</td>\n",
       "      <td>28.127</td>\n",
       "      <td>72.73</td>\n",
       "      <td>76.411</td>\n",
       "      <td>69.685</td>\n",
       "      <td>-0.083</td>\n",
       "      <td>-7.096</td>\n",
       "    </tr>\n",
       "    <tr>\n",
       "      <th>20596</th>\n",
       "      <td>Wallis and Futuna Islands</td>\n",
       "      <td>Country/Area</td>\n",
       "      <td>2021.0</td>\n",
       "      <td>11.642</td>\n",
       "      <td>11.627</td>\n",
       "      <td>5.595</td>\n",
       "      <td>6.032</td>\n",
       "      <td>83.054</td>\n",
       "      <td>92.748</td>\n",
       "      <td>35.836</td>\n",
       "      <td>...</td>\n",
       "      <td>89.321</td>\n",
       "      <td>84.68</td>\n",
       "      <td>25.848</td>\n",
       "      <td>24.836</td>\n",
       "      <td>26.644</td>\n",
       "      <td>74.207</td>\n",
       "      <td>80.373</td>\n",
       "      <td>68.905</td>\n",
       "      <td>-0.083</td>\n",
       "      <td>-7.112</td>\n",
       "    </tr>\n",
       "  </tbody>\n",
       "</table>\n",
       "<p>20596 rows × 57 columns</p>\n",
       "</div>"
      ],
      "text/plain": [
       "      Region, subregion, country or area *          Type    Year  \\\n",
       "Index                                                              \n",
       "1                                    WORLD         World  1950.0   \n",
       "2                                    WORLD         World  1951.0   \n",
       "3                                    WORLD         World  1952.0   \n",
       "4                                    WORLD         World  1953.0   \n",
       "5                                    WORLD         World  1954.0   \n",
       "...                                    ...           ...     ...   \n",
       "20592            Wallis and Futuna Islands  Country/Area  2017.0   \n",
       "20593            Wallis and Futuna Islands  Country/Area  2018.0   \n",
       "20594            Wallis and Futuna Islands  Country/Area  2019.0   \n",
       "20595            Wallis and Futuna Islands  Country/Area  2020.0   \n",
       "20596            Wallis and Futuna Islands  Country/Area  2021.0   \n",
       "\n",
       "      Total Population, as of 1 January (thousands)  \\\n",
       "Index                                                 \n",
       "1                                       2477674.732   \n",
       "2                                       2520969.582   \n",
       "3                                       2565291.179   \n",
       "4                                       2615250.618   \n",
       "5                                       2665306.975   \n",
       "...                                             ...   \n",
       "20592                                        12.002   \n",
       "20593                                         11.87   \n",
       "20594                                        11.761   \n",
       "20595                                        11.667   \n",
       "20596                                        11.642   \n",
       "\n",
       "      Total Population, as of 1 July (thousands)  \\\n",
       "Index                                              \n",
       "1                                    2499322.157   \n",
       "2                                     2543130.38   \n",
       "3                                    2590270.899   \n",
       "4                                    2640278.797   \n",
       "5                                    2691979.339   \n",
       "...                                          ...   \n",
       "20592                                     11.936   \n",
       "20593                                     11.816   \n",
       "20594                                     11.714   \n",
       "20595                                     11.655   \n",
       "20596                                     11.627   \n",
       "\n",
       "      Male Population, as of 1 July (thousands)  \\\n",
       "Index                                             \n",
       "1                                   1245362.965   \n",
       "2                                   1267473.182   \n",
       "3                                   1291399.982   \n",
       "4                                   1316659.222   \n",
       "5                                   1342923.171   \n",
       "...                                         ...   \n",
       "20592                                     5.769   \n",
       "20593                                     5.703   \n",
       "20594                                     5.648   \n",
       "20595                                     5.614   \n",
       "20596                                     5.595   \n",
       "\n",
       "      Female Population, as of 1 July (thousands)  \\\n",
       "Index                                               \n",
       "1                                     1253959.192   \n",
       "2                                     1275657.198   \n",
       "3                                     1298870.917   \n",
       "4                                     1323619.574   \n",
       "5                                     1349056.168   \n",
       "...                                           ...   \n",
       "20592                                       6.167   \n",
       "20593                                       6.112   \n",
       "20594                                       6.066   \n",
       "20595                                        6.04   \n",
       "20596                                       6.032   \n",
       "\n",
       "      Population Density, as of 1 July (persons per square km)  \\\n",
       "Index                                                            \n",
       "1                                                 19.166         \n",
       "2                                                 19.502         \n",
       "3                                                 19.864         \n",
       "4                                                 20.247         \n",
       "5                                                 20.643         \n",
       "...                                                  ...         \n",
       "20592                                             85.257         \n",
       "20593                                             84.396         \n",
       "20594                                             83.671         \n",
       "20595                                             83.246         \n",
       "20596                                             83.054         \n",
       "\n",
       "      Population Sex Ratio, as of 1 July (males per 100 females)  \\\n",
       "Index                                                              \n",
       "1                                                 99.314           \n",
       "2                                                 99.358           \n",
       "3                                                 99.425           \n",
       "4                                                 99.474           \n",
       "5                                                 99.545           \n",
       "...                                                  ...           \n",
       "20592                                             93.562           \n",
       "20593                                             93.301           \n",
       "20594                                             93.109           \n",
       "20595                                             92.955           \n",
       "20596                                             92.748           \n",
       "\n",
       "      Median Age, as of 1 July (years)  ...  \\\n",
       "Index                                   ...   \n",
       "1                               22.224  ...   \n",
       "2                               22.172  ...   \n",
       "3                               22.108  ...   \n",
       "4                               22.036  ...   \n",
       "5                               21.952  ...   \n",
       "...                                ...  ...   \n",
       "20592                           33.847  ...   \n",
       "20593                           34.397  ...   \n",
       "20594                           34.962  ...   \n",
       "20595                           35.453  ...   \n",
       "20596                           35.836  ...   \n",
       "\n",
       "      Male Mortality before Age 60 (deaths under age 60 per 1,000 male live births)  \\\n",
       "Index                                                                                 \n",
       "1                                                 580.75                              \n",
       "2                                                566.728                              \n",
       "3                                                546.317                              \n",
       "4                                                535.829                              \n",
       "5                                                523.124                              \n",
       "...                                                  ...                              \n",
       "20592                                             92.066                              \n",
       "20593                                             99.196                              \n",
       "20594                                             77.781                              \n",
       "20595                                             85.608                              \n",
       "20596                                             89.321                              \n",
       "\n",
       "      Female Mortality before Age 60 (deaths under age 60 per 1,000 female live births)  \\\n",
       "Index                                                                                     \n",
       "1                                                 498.04                                  \n",
       "2                                                490.199                                  \n",
       "3                                                477.264                                  \n",
       "4                                                469.532                                  \n",
       "5                                                458.484                                  \n",
       "...                                                  ...                                  \n",
       "20592                                            102.718                                  \n",
       "20593                                             89.345                                  \n",
       "20594                                             80.136                                  \n",
       "20595                                             86.364                                  \n",
       "20596                                              84.68                                  \n",
       "\n",
       "      Mortality between Age 15 and 50, both sexes (deaths under age 50 per 1,000 alive at age 15)  \\\n",
       "Index                                                                                               \n",
       "1                                                240.316                                            \n",
       "2                                                231.177                                            \n",
       "3                                                218.674                                            \n",
       "4                                                212.872                                            \n",
       "5                                                205.762                                            \n",
       "...                                                  ...                                            \n",
       "20592                                             30.643                                            \n",
       "20593                                             29.201                                            \n",
       "20594                                             24.304                                            \n",
       "20595                                             26.572                                            \n",
       "20596                                             25.848                                            \n",
       "\n",
       "      Male Mortality between Age 15 and 50 (deaths under age 50 per 1,000 males alive at age 15)  \\\n",
       "Index                                                                                              \n",
       "1                                                271.625                                           \n",
       "2                                                 258.09                                           \n",
       "3                                                240.034                                           \n",
       "4                                                232.602                                           \n",
       "5                                                 224.05                                           \n",
       "...                                                  ...                                           \n",
       "20592                                             26.781                                           \n",
       "20593                                             29.159                                           \n",
       "20594                                             22.291                                           \n",
       "20595                                             24.691                                           \n",
       "20596                                             24.836                                           \n",
       "\n",
       "      Female Mortality between Age 15 and 50 (deaths under age 50 per 1,000 females alive at age 15)  \\\n",
       "Index                                                                                                  \n",
       "1                                                208.192                                               \n",
       "2                                                 203.78                                               \n",
       "3                                                197.142                                               \n",
       "4                                                193.049                                               \n",
       "5                                                187.444                                               \n",
       "...                                                  ...                                               \n",
       "20592                                             33.892                                               \n",
       "20593                                              29.17                                               \n",
       "20594                                             25.981                                               \n",
       "20595                                             28.127                                               \n",
       "20596                                             26.644                                               \n",
       "\n",
       "      Mortality between Age 15 and 60, both sexes (deaths under age 60 per 1,000 alive at age 15)  \\\n",
       "Index                                                                                               \n",
       "1                                                378.697                                            \n",
       "2                                                368.319                                            \n",
       "3                                                353.055                                            \n",
       "4                                                345.083                                            \n",
       "5                                                335.442                                            \n",
       "...                                                  ...                                            \n",
       "20592                                             82.852                                            \n",
       "20593                                             79.633                                            \n",
       "20594                                             66.639                                            \n",
       "20595                                              72.73                                            \n",
       "20596                                             74.207                                            \n",
       "\n",
       "      Male Mortality between Age 15 and 60 (deaths under age 60 per 1,000 males alive at age 15)  \\\n",
       "Index                                                                                              \n",
       "1                                                430.259                                           \n",
       "2                                                415.836                                           \n",
       "3                                                395.533                                           \n",
       "4                                                385.843                                           \n",
       "5                                                374.658                                           \n",
       "...                                                  ...                                           \n",
       "20592                                             82.197                                           \n",
       "20593                                             88.556                                           \n",
       "20594                                             69.324                                           \n",
       "20595                                             76.411                                           \n",
       "20596                                             80.373                                           \n",
       "\n",
       "      Female Mortality between Age 15 and 60 (deaths under age 60 per 1,000 females alive at age 15)  \\\n",
       "Index                                                                                                  \n",
       "1                                                324.931                                               \n",
       "2                                                319.336                                               \n",
       "3                                                 309.91                                               \n",
       "4                                                303.905                                               \n",
       "5                                                295.994                                               \n",
       "...                                                  ...                                               \n",
       "20592                                              83.32                                               \n",
       "20593                                             72.163                                               \n",
       "20594                                             64.496                                               \n",
       "20595                                             69.685                                               \n",
       "20596                                             68.905                                               \n",
       "\n",
       "      Net Number of Migrants (thousands)  \\\n",
       "Index                                      \n",
       "1                                      0   \n",
       "2                                      0   \n",
       "3                                      0   \n",
       "4                                      0   \n",
       "5                                      0   \n",
       "...                                  ...   \n",
       "20592                             -0.201   \n",
       "20593                             -0.171   \n",
       "20594                             -0.171   \n",
       "20595                             -0.083   \n",
       "20596                             -0.083   \n",
       "\n",
       "      Net Migration Rate (per 1,000 population)  \n",
       "Index                                            \n",
       "1                                             0  \n",
       "2                                             0  \n",
       "3                                             0  \n",
       "4                                             0  \n",
       "5                                             0  \n",
       "...                                         ...  \n",
       "20592                                   -16.706  \n",
       "20593                                   -14.368  \n",
       "20594                                   -14.489  \n",
       "20595                                    -7.096  \n",
       "20596                                    -7.112  \n",
       "\n",
       "[20596 rows x 57 columns]"
      ]
     },
     "execution_count": 106,
     "metadata": {},
     "output_type": "execute_result"
    }
   ],
   "source": [
    "wpp_df"
   ]
  },
  {
   "attachments": {},
   "cell_type": "markdown",
   "metadata": {},
   "source": [
    "### Tipos de regiones"
   ]
  },
  {
   "attachments": {},
   "cell_type": "markdown",
   "metadata": {},
   "source": [
    "En los la columna \"Type\" del dataset, observamos que los distintos grupos son algo díficiles de generalizar. El grupo \"World\" se puede extrapolar de los demás datos, el grupo \"Label/Separator\" es un valor que es inútil para nuestros propositos, y los demás los tendremos que analizar a pie para ver sí vale la pena mantenerlos adentro:"
   ]
  },
  {
   "cell_type": "code",
   "execution_count": 107,
   "metadata": {},
   "outputs": [
    {
     "data": {
      "text/plain": [
       "array(['World', 'Label/Separator', 'SDG region', 'Development Group',\n",
       "       'Special other', 'Income Group', 'Region', 'Subregion',\n",
       "       'Country/Area'], dtype=object)"
      ]
     },
     "execution_count": 107,
     "metadata": {},
     "output_type": "execute_result"
    }
   ],
   "source": [
    "wpp_df.Type.unique()"
   ]
  },
  {
   "attachments": {},
   "cell_type": "markdown",
   "metadata": {},
   "source": [
    "'SDG Region' corresponde a las regiones divididas según aquellas que considera Sustainable Development Goals, un reporte de la división de estadísticas de la UN."
   ]
  },
  {
   "cell_type": "code",
   "execution_count": 108,
   "metadata": {},
   "outputs": [
    {
     "data": {
      "text/plain": [
       "array(['Sub-Saharan Africa', 'Northern Africa and Western Asia',\n",
       "       'Central and Southern Asia', 'Eastern and South-Eastern Asia',\n",
       "       'Latin America and the Caribbean',\n",
       "       'Oceania (excluding Australia and New Zealand)',\n",
       "       'Australia/New Zealand', 'Europe and Northern America'],\n",
       "      dtype=object)"
      ]
     },
     "execution_count": 108,
     "metadata": {},
     "output_type": "execute_result"
    }
   ],
   "source": [
    "wpp_df[wpp_df.Type == 'SDG region']['Region, subregion, country or area *'].unique()"
   ]
  },
  {
   "cell_type": "markdown",
   "metadata": {},
   "source": [
    "'Region' en este dataset simplemente se refiere a los continentes."
   ]
  },
  {
   "cell_type": "code",
   "execution_count": 109,
   "metadata": {},
   "outputs": [
    {
     "data": {
      "text/plain": [
       "array(['AFRICA', 'ASIA', 'EUROPE', 'LATIN AMERICA AND THE CARIBBEAN',\n",
       "       'NORTHERN AMERICA', 'OCEANIA'], dtype=object)"
      ]
     },
     "execution_count": 109,
     "metadata": {},
     "output_type": "execute_result"
    }
   ],
   "source": [
    "wpp_df[wpp_df.Type == 'Region']['Region, subregion, country or area *'].unique()"
   ]
  },
  {
   "attachments": {},
   "cell_type": "markdown",
   "metadata": {},
   "source": [
    "'Subregion' se refiere, entonces, a las subregiones de estos continentes:"
   ]
  },
  {
   "cell_type": "code",
   "execution_count": 110,
   "metadata": {},
   "outputs": [
    {
     "data": {
      "text/plain": [
       "array(['Eastern Africa', 'Middle Africa', 'Northern Africa',\n",
       "       'Southern Africa', 'Western Africa', 'Central Asia',\n",
       "       'Eastern Asia', 'Southern Asia', 'South-Eastern Asia',\n",
       "       'Western Asia', 'Eastern Europe', 'Northern Europe',\n",
       "       'Southern Europe', 'Western Europe', 'Caribbean',\n",
       "       'Central America', 'South America', 'Australia/New Zealand',\n",
       "       'Melanesia', 'Micronesia', 'Polynesia'], dtype=object)"
      ]
     },
     "execution_count": 110,
     "metadata": {},
     "output_type": "execute_result"
    }
   ],
   "source": [
    "wpp_df[wpp_df.Type == 'Subregion']['Region, subregion, country or area *'].unique()"
   ]
  },
  {
   "attachments": {},
   "cell_type": "markdown",
   "metadata": {},
   "source": [
    "Las siguientes divide los países según grupos de ingreso y desarrollo economico, sería prudente ponerlos en un dataset separado posteriormente."
   ]
  },
  {
   "cell_type": "code",
   "execution_count": 111,
   "metadata": {},
   "outputs": [
    {
     "data": {
      "text/plain": [
       "array(['Land-locked Developing Countries (LLDC)',\n",
       "       'Small Island Developing States (SIDS)'], dtype=object)"
      ]
     },
     "execution_count": 111,
     "metadata": {},
     "output_type": "execute_result"
    }
   ],
   "source": [
    "wpp_df[wpp_df.Type == 'Special other']['Region, subregion, country or area *'].unique()"
   ]
  },
  {
   "cell_type": "code",
   "execution_count": 112,
   "metadata": {},
   "outputs": [
    {
     "data": {
      "text/plain": [
       "array(['High-income countries', 'Middle-income countries',\n",
       "       'Upper-middle-income countries', 'Lower-middle-income countries',\n",
       "       'Low-income countries', 'No income group available'], dtype=object)"
      ]
     },
     "execution_count": 112,
     "metadata": {},
     "output_type": "execute_result"
    }
   ],
   "source": [
    "wpp_df[wpp_df.Type == 'Income Group']['Region, subregion, country or area *'].unique()"
   ]
  },
  {
   "cell_type": "code",
   "execution_count": 113,
   "metadata": {},
   "outputs": [
    {
     "data": {
      "text/plain": [
       "array(['More developed regions', 'Less developed regions',\n",
       "       'Least developed countries',\n",
       "       'Less developed regions, excluding least developed countries',\n",
       "       'Less developed regions, excluding China'], dtype=object)"
      ]
     },
     "execution_count": 113,
     "metadata": {},
     "output_type": "execute_result"
    }
   ],
   "source": [
    "wpp_df[wpp_df.Type == 'Development Group']['Region, subregion, country or area *'].unique()"
   ]
  },
  {
   "attachments": {},
   "cell_type": "markdown",
   "metadata": {},
   "source": [
    "### Busqueda de valores duplicados o nulos"
   ]
  },
  {
   "attachments": {},
   "cell_type": "markdown",
   "metadata": {},
   "source": [
    "Buscamos primeros cuales son los valores nulos y en que columnas están:"
   ]
  },
  {
   "cell_type": "code",
   "execution_count": 114,
   "metadata": {},
   "outputs": [
    {
     "data": {
      "text/plain": [
       "Year    4\n",
       "dtype: int64"
      ]
     },
     "execution_count": 114,
     "metadata": {},
     "output_type": "execute_result"
    }
   ],
   "source": [
    "null_counts = wpp_df.isnull().sum()\n",
    "null_counts[null_counts > 0].sort_values(ascending=False)"
   ]
  },
  {
   "cell_type": "markdown",
   "metadata": {},
   "source": [
    "Evaluemos cuales son estos valores nulos en Year:"
   ]
  },
  {
   "cell_type": "code",
   "execution_count": 115,
   "metadata": {},
   "outputs": [
    {
     "data": {
      "text/plain": [
       "Index\n",
       "73     NaN\n",
       "650    NaN\n",
       "1155   NaN\n",
       "1588   NaN\n",
       "Name: Year, dtype: float64"
      ]
     },
     "execution_count": 115,
     "metadata": {},
     "output_type": "execute_result"
    }
   ],
   "source": [
    "wpp_df[pd.to_numeric(wpp_df['Year'], errors='coerce').isnull()]['Year']"
   ]
  },
  {
   "cell_type": "code",
   "execution_count": 116,
   "metadata": {},
   "outputs": [
    {
     "data": {
      "text/html": [
       "<div>\n",
       "<style scoped>\n",
       "    .dataframe tbody tr th:only-of-type {\n",
       "        vertical-align: middle;\n",
       "    }\n",
       "\n",
       "    .dataframe tbody tr th {\n",
       "        vertical-align: top;\n",
       "    }\n",
       "\n",
       "    .dataframe thead th {\n",
       "        text-align: right;\n",
       "    }\n",
       "</style>\n",
       "<table border=\"1\" class=\"dataframe\">\n",
       "  <thead>\n",
       "    <tr style=\"text-align: right;\">\n",
       "      <th></th>\n",
       "      <th>Region, subregion, country or area *</th>\n",
       "      <th>Type</th>\n",
       "      <th>Year</th>\n",
       "      <th>Total Population, as of 1 January (thousands)</th>\n",
       "      <th>Total Population, as of 1 July (thousands)</th>\n",
       "      <th>Male Population, as of 1 July (thousands)</th>\n",
       "      <th>Female Population, as of 1 July (thousands)</th>\n",
       "      <th>Population Density, as of 1 July (persons per square km)</th>\n",
       "      <th>Population Sex Ratio, as of 1 July (males per 100 females)</th>\n",
       "      <th>Median Age, as of 1 July (years)</th>\n",
       "      <th>...</th>\n",
       "      <th>Male Mortality before Age 60 (deaths under age 60 per 1,000 male live births)</th>\n",
       "      <th>Female Mortality before Age 60 (deaths under age 60 per 1,000 female live births)</th>\n",
       "      <th>Mortality between Age 15 and 50, both sexes (deaths under age 50 per 1,000 alive at age 15)</th>\n",
       "      <th>Male Mortality between Age 15 and 50 (deaths under age 50 per 1,000 males alive at age 15)</th>\n",
       "      <th>Female Mortality between Age 15 and 50 (deaths under age 50 per 1,000 females alive at age 15)</th>\n",
       "      <th>Mortality between Age 15 and 60, both sexes (deaths under age 60 per 1,000 alive at age 15)</th>\n",
       "      <th>Male Mortality between Age 15 and 60 (deaths under age 60 per 1,000 males alive at age 15)</th>\n",
       "      <th>Female Mortality between Age 15 and 60 (deaths under age 60 per 1,000 females alive at age 15)</th>\n",
       "      <th>Net Number of Migrants (thousands)</th>\n",
       "      <th>Net Migration Rate (per 1,000 population)</th>\n",
       "    </tr>\n",
       "    <tr>\n",
       "      <th>Index</th>\n",
       "      <th></th>\n",
       "      <th></th>\n",
       "      <th></th>\n",
       "      <th></th>\n",
       "      <th></th>\n",
       "      <th></th>\n",
       "      <th></th>\n",
       "      <th></th>\n",
       "      <th></th>\n",
       "      <th></th>\n",
       "      <th></th>\n",
       "      <th></th>\n",
       "      <th></th>\n",
       "      <th></th>\n",
       "      <th></th>\n",
       "      <th></th>\n",
       "      <th></th>\n",
       "      <th></th>\n",
       "      <th></th>\n",
       "      <th></th>\n",
       "      <th></th>\n",
       "    </tr>\n",
       "  </thead>\n",
       "  <tbody>\n",
       "    <tr>\n",
       "      <th>73</th>\n",
       "      <td>Sustainable Development Goal (SDG) regions</td>\n",
       "      <td>Label/Separator</td>\n",
       "      <td>NaN</td>\n",
       "      <td>...</td>\n",
       "      <td>...</td>\n",
       "      <td>...</td>\n",
       "      <td>...</td>\n",
       "      <td>...</td>\n",
       "      <td>...</td>\n",
       "      <td>...</td>\n",
       "      <td>...</td>\n",
       "      <td>...</td>\n",
       "      <td>...</td>\n",
       "      <td>...</td>\n",
       "      <td>...</td>\n",
       "      <td>...</td>\n",
       "      <td>...</td>\n",
       "      <td>...</td>\n",
       "      <td>...</td>\n",
       "      <td>...</td>\n",
       "      <td>...</td>\n",
       "    </tr>\n",
       "    <tr>\n",
       "      <th>650</th>\n",
       "      <td>UN development groups</td>\n",
       "      <td>Label/Separator</td>\n",
       "      <td>NaN</td>\n",
       "      <td>...</td>\n",
       "      <td>...</td>\n",
       "      <td>...</td>\n",
       "      <td>...</td>\n",
       "      <td>...</td>\n",
       "      <td>...</td>\n",
       "      <td>...</td>\n",
       "      <td>...</td>\n",
       "      <td>...</td>\n",
       "      <td>...</td>\n",
       "      <td>...</td>\n",
       "      <td>...</td>\n",
       "      <td>...</td>\n",
       "      <td>...</td>\n",
       "      <td>...</td>\n",
       "      <td>...</td>\n",
       "      <td>...</td>\n",
       "      <td>...</td>\n",
       "    </tr>\n",
       "    <tr>\n",
       "      <th>1155</th>\n",
       "      <td>World Bank income groups</td>\n",
       "      <td>Label/Separator</td>\n",
       "      <td>NaN</td>\n",
       "      <td>...</td>\n",
       "      <td>...</td>\n",
       "      <td>...</td>\n",
       "      <td>...</td>\n",
       "      <td>...</td>\n",
       "      <td>...</td>\n",
       "      <td>...</td>\n",
       "      <td>...</td>\n",
       "      <td>...</td>\n",
       "      <td>...</td>\n",
       "      <td>...</td>\n",
       "      <td>...</td>\n",
       "      <td>...</td>\n",
       "      <td>...</td>\n",
       "      <td>...</td>\n",
       "      <td>...</td>\n",
       "      <td>...</td>\n",
       "      <td>...</td>\n",
       "    </tr>\n",
       "    <tr>\n",
       "      <th>1588</th>\n",
       "      <td>Geographic regions</td>\n",
       "      <td>Label/Separator</td>\n",
       "      <td>NaN</td>\n",
       "      <td>...</td>\n",
       "      <td>...</td>\n",
       "      <td>...</td>\n",
       "      <td>...</td>\n",
       "      <td>...</td>\n",
       "      <td>...</td>\n",
       "      <td>...</td>\n",
       "      <td>...</td>\n",
       "      <td>...</td>\n",
       "      <td>...</td>\n",
       "      <td>...</td>\n",
       "      <td>...</td>\n",
       "      <td>...</td>\n",
       "      <td>...</td>\n",
       "      <td>...</td>\n",
       "      <td>...</td>\n",
       "      <td>...</td>\n",
       "      <td>...</td>\n",
       "    </tr>\n",
       "  </tbody>\n",
       "</table>\n",
       "<p>4 rows × 57 columns</p>\n",
       "</div>"
      ],
      "text/plain": [
       "             Region, subregion, country or area *             Type  Year  \\\n",
       "Index                                                                      \n",
       "73     Sustainable Development Goal (SDG) regions  Label/Separator   NaN   \n",
       "650                         UN development groups  Label/Separator   NaN   \n",
       "1155                     World Bank income groups  Label/Separator   NaN   \n",
       "1588                           Geographic regions  Label/Separator   NaN   \n",
       "\n",
       "      Total Population, as of 1 January (thousands)  \\\n",
       "Index                                                 \n",
       "73                                              ...   \n",
       "650                                             ...   \n",
       "1155                                            ...   \n",
       "1588                                            ...   \n",
       "\n",
       "      Total Population, as of 1 July (thousands)  \\\n",
       "Index                                              \n",
       "73                                           ...   \n",
       "650                                          ...   \n",
       "1155                                         ...   \n",
       "1588                                         ...   \n",
       "\n",
       "      Male Population, as of 1 July (thousands)  \\\n",
       "Index                                             \n",
       "73                                          ...   \n",
       "650                                         ...   \n",
       "1155                                        ...   \n",
       "1588                                        ...   \n",
       "\n",
       "      Female Population, as of 1 July (thousands)  \\\n",
       "Index                                               \n",
       "73                                            ...   \n",
       "650                                           ...   \n",
       "1155                                          ...   \n",
       "1588                                          ...   \n",
       "\n",
       "      Population Density, as of 1 July (persons per square km)  \\\n",
       "Index                                                            \n",
       "73                                                   ...         \n",
       "650                                                  ...         \n",
       "1155                                                 ...         \n",
       "1588                                                 ...         \n",
       "\n",
       "      Population Sex Ratio, as of 1 July (males per 100 females)  \\\n",
       "Index                                                              \n",
       "73                                                   ...           \n",
       "650                                                  ...           \n",
       "1155                                                 ...           \n",
       "1588                                                 ...           \n",
       "\n",
       "      Median Age, as of 1 July (years)  ...  \\\n",
       "Index                                   ...   \n",
       "73                                 ...  ...   \n",
       "650                                ...  ...   \n",
       "1155                               ...  ...   \n",
       "1588                               ...  ...   \n",
       "\n",
       "      Male Mortality before Age 60 (deaths under age 60 per 1,000 male live births)  \\\n",
       "Index                                                                                 \n",
       "73                                                   ...                              \n",
       "650                                                  ...                              \n",
       "1155                                                 ...                              \n",
       "1588                                                 ...                              \n",
       "\n",
       "      Female Mortality before Age 60 (deaths under age 60 per 1,000 female live births)  \\\n",
       "Index                                                                                     \n",
       "73                                                   ...                                  \n",
       "650                                                  ...                                  \n",
       "1155                                                 ...                                  \n",
       "1588                                                 ...                                  \n",
       "\n",
       "      Mortality between Age 15 and 50, both sexes (deaths under age 50 per 1,000 alive at age 15)  \\\n",
       "Index                                                                                               \n",
       "73                                                   ...                                            \n",
       "650                                                  ...                                            \n",
       "1155                                                 ...                                            \n",
       "1588                                                 ...                                            \n",
       "\n",
       "      Male Mortality between Age 15 and 50 (deaths under age 50 per 1,000 males alive at age 15)  \\\n",
       "Index                                                                                              \n",
       "73                                                   ...                                           \n",
       "650                                                  ...                                           \n",
       "1155                                                 ...                                           \n",
       "1588                                                 ...                                           \n",
       "\n",
       "      Female Mortality between Age 15 and 50 (deaths under age 50 per 1,000 females alive at age 15)  \\\n",
       "Index                                                                                                  \n",
       "73                                                   ...                                               \n",
       "650                                                  ...                                               \n",
       "1155                                                 ...                                               \n",
       "1588                                                 ...                                               \n",
       "\n",
       "      Mortality between Age 15 and 60, both sexes (deaths under age 60 per 1,000 alive at age 15)  \\\n",
       "Index                                                                                               \n",
       "73                                                   ...                                            \n",
       "650                                                  ...                                            \n",
       "1155                                                 ...                                            \n",
       "1588                                                 ...                                            \n",
       "\n",
       "      Male Mortality between Age 15 and 60 (deaths under age 60 per 1,000 males alive at age 15)  \\\n",
       "Index                                                                                              \n",
       "73                                                   ...                                           \n",
       "650                                                  ...                                           \n",
       "1155                                                 ...                                           \n",
       "1588                                                 ...                                           \n",
       "\n",
       "      Female Mortality between Age 15 and 60 (deaths under age 60 per 1,000 females alive at age 15)  \\\n",
       "Index                                                                                                  \n",
       "73                                                   ...                                               \n",
       "650                                                  ...                                               \n",
       "1155                                                 ...                                               \n",
       "1588                                                 ...                                               \n",
       "\n",
       "      Net Number of Migrants (thousands)  \\\n",
       "Index                                      \n",
       "73                                   ...   \n",
       "650                                  ...   \n",
       "1155                                 ...   \n",
       "1588                                 ...   \n",
       "\n",
       "      Net Migration Rate (per 1,000 population)  \n",
       "Index                                            \n",
       "73                                          ...  \n",
       "650                                         ...  \n",
       "1155                                        ...  \n",
       "1588                                        ...  \n",
       "\n",
       "[4 rows x 57 columns]"
      ]
     },
     "execution_count": 116,
     "metadata": {},
     "output_type": "execute_result"
    }
   ],
   "source": [
    "wpp_df.loc[[73,650,1155,1588]]"
   ]
  },
  {
   "attachments": {},
   "cell_type": "markdown",
   "metadata": {},
   "source": [
    "Son inutiles para nuestro analísis, así que los borraremos sin más."
   ]
  },
  {
   "cell_type": "code",
   "execution_count": 117,
   "metadata": {},
   "outputs": [],
   "source": [
    "wpp_df.dropna(inplace=True)"
   ]
  },
  {
   "attachments": {},
   "cell_type": "markdown",
   "metadata": {},
   "source": [
    "Después, revisaremos los valores duplicados:"
   ]
  },
  {
   "cell_type": "code",
   "execution_count": 118,
   "metadata": {},
   "outputs": [
    {
     "data": {
      "text/html": [
       "<div>\n",
       "<style scoped>\n",
       "    .dataframe tbody tr th:only-of-type {\n",
       "        vertical-align: middle;\n",
       "    }\n",
       "\n",
       "    .dataframe tbody tr th {\n",
       "        vertical-align: top;\n",
       "    }\n",
       "\n",
       "    .dataframe thead th {\n",
       "        text-align: right;\n",
       "    }\n",
       "</style>\n",
       "<table border=\"1\" class=\"dataframe\">\n",
       "  <thead>\n",
       "    <tr style=\"text-align: right;\">\n",
       "      <th></th>\n",
       "      <th>Region, subregion, country or area *</th>\n",
       "      <th>Type</th>\n",
       "      <th>Year</th>\n",
       "      <th>Total Population, as of 1 January (thousands)</th>\n",
       "      <th>Total Population, as of 1 July (thousands)</th>\n",
       "      <th>Male Population, as of 1 July (thousands)</th>\n",
       "      <th>Female Population, as of 1 July (thousands)</th>\n",
       "      <th>Population Density, as of 1 July (persons per square km)</th>\n",
       "      <th>Population Sex Ratio, as of 1 July (males per 100 females)</th>\n",
       "      <th>Median Age, as of 1 July (years)</th>\n",
       "      <th>...</th>\n",
       "      <th>Male Mortality before Age 60 (deaths under age 60 per 1,000 male live births)</th>\n",
       "      <th>Female Mortality before Age 60 (deaths under age 60 per 1,000 female live births)</th>\n",
       "      <th>Mortality between Age 15 and 50, both sexes (deaths under age 50 per 1,000 alive at age 15)</th>\n",
       "      <th>Male Mortality between Age 15 and 50 (deaths under age 50 per 1,000 males alive at age 15)</th>\n",
       "      <th>Female Mortality between Age 15 and 50 (deaths under age 50 per 1,000 females alive at age 15)</th>\n",
       "      <th>Mortality between Age 15 and 60, both sexes (deaths under age 60 per 1,000 alive at age 15)</th>\n",
       "      <th>Male Mortality between Age 15 and 60 (deaths under age 60 per 1,000 males alive at age 15)</th>\n",
       "      <th>Female Mortality between Age 15 and 60 (deaths under age 60 per 1,000 females alive at age 15)</th>\n",
       "      <th>Net Number of Migrants (thousands)</th>\n",
       "      <th>Net Migration Rate (per 1,000 population)</th>\n",
       "    </tr>\n",
       "    <tr>\n",
       "      <th>Index</th>\n",
       "      <th></th>\n",
       "      <th></th>\n",
       "      <th></th>\n",
       "      <th></th>\n",
       "      <th></th>\n",
       "      <th></th>\n",
       "      <th></th>\n",
       "      <th></th>\n",
       "      <th></th>\n",
       "      <th></th>\n",
       "      <th></th>\n",
       "      <th></th>\n",
       "      <th></th>\n",
       "      <th></th>\n",
       "      <th></th>\n",
       "      <th></th>\n",
       "      <th></th>\n",
       "      <th></th>\n",
       "      <th></th>\n",
       "      <th></th>\n",
       "      <th></th>\n",
       "    </tr>\n",
       "  </thead>\n",
       "  <tbody>\n",
       "  </tbody>\n",
       "</table>\n",
       "<p>0 rows × 57 columns</p>\n",
       "</div>"
      ],
      "text/plain": [
       "Empty DataFrame\n",
       "Columns: [Region, subregion, country or area *, Type, Year, Total Population, as of 1 January (thousands), Total Population, as of 1 July (thousands), Male Population, as of 1 July (thousands), Female Population, as of 1 July (thousands), Population Density, as of 1 July (persons per square km), Population Sex Ratio, as of 1 July (males per 100 females), Median Age, as of 1 July (years), Natural Change, Births minus Deaths (thousands), Rate of Natural Change (per 1,000 population), Population Change (thousands), Population Growth Rate (percentage), Population Annual Doubling Time (years), Births (thousands), Births by women aged 15 to 19 (thousands), Crude Birth Rate (births per 1,000 population), Total Fertility Rate (live births per woman), Net Reproduction Rate (surviving daughters per woman), Mean Age Childbearing (years), Sex Ratio at Birth (males per 100 female births), Total Deaths (thousands), Male Deaths (thousands), Female Deaths (thousands), Crude Death Rate (deaths per 1,000 population), Life Expectancy at Birth, both sexes (years), Male Life Expectancy at Birth (years), Female Life Expectancy at Birth (years), Life Expectancy at Age 15, both sexes (years), Male Life Expectancy at Age 15 (years), Female Life Expectancy at Age 15 (years), Life Expectancy at Age 65, both sexes (years), Male Life Expectancy at Age 65 (years), Female Life Expectancy at Age 65 (years), Life Expectancy at Age 80, both sexes (years), Male Life Expectancy at Age 80 (years), Female Life Expectancy at Age 80 (years), Infant Deaths, under age 1 (thousands), Infant Mortality Rate (infant deaths per 1,000 live births), Live Births Surviving to Age 1 (thousands), Under-Five Deaths, under age 5 (thousands), Under-Five Mortality (deaths under age 5 per 1,000 live births), Mortality before Age 40, both sexes (deaths under age 40 per 1,000 live births), Male Mortality before Age 40 (deaths under age 40 per 1,000 male live births), Female Mortality before Age 40 (deaths under age 40 per 1,000 female live births), Mortality before Age 60, both sexes (deaths under age 60 per 1,000 live births), Male Mortality before Age 60 (deaths under age 60 per 1,000 male live births), Female Mortality before Age 60 (deaths under age 60 per 1,000 female live births), Mortality between Age 15 and 50, both sexes (deaths under age 50 per 1,000 alive at age 15), Male Mortality between Age 15 and 50 (deaths under age 50 per 1,000 males alive at age 15), Female Mortality between Age 15 and 50 (deaths under age 50 per 1,000 females alive at age 15), Mortality between Age 15 and 60, both sexes (deaths under age 60 per 1,000 alive at age 15), Male Mortality between Age 15 and 60 (deaths under age 60 per 1,000 males alive at age 15), Female Mortality between Age 15 and 60 (deaths under age 60 per 1,000 females alive at age 15), Net Number of Migrants (thousands), Net Migration Rate (per 1,000 population)]\n",
       "Index: []\n",
       "\n",
       "[0 rows x 57 columns]"
      ]
     },
     "execution_count": 118,
     "metadata": {},
     "output_type": "execute_result"
    }
   ],
   "source": [
    "wpp_df[wpp_df.duplicated()]"
   ]
  },
  {
   "attachments": {},
   "cell_type": "markdown",
   "metadata": {},
   "source": [
    "Finalmente, revisaremos si hay valores no-numericos en las columnas pertinentes:"
   ]
  },
  {
   "cell_type": "code",
   "execution_count": 119,
   "metadata": {},
   "outputs": [
    {
     "data": {
      "text/plain": [
       "20592"
      ]
     },
     "execution_count": 119,
     "metadata": {},
     "output_type": "execute_result"
    }
   ],
   "source": [
    "len(wpp_df[wpp_df.iloc[:,3:57].applymap(np.isreal)])"
   ]
  },
  {
   "cell_type": "code",
   "execution_count": 120,
   "metadata": {},
   "outputs": [
    {
     "data": {
      "text/plain": [
       "20592"
      ]
     },
     "execution_count": 120,
     "metadata": {},
     "output_type": "execute_result"
    }
   ],
   "source": [
    "len(wpp_df)"
   ]
  },
  {
   "attachments": {},
   "cell_type": "markdown",
   "metadata": {},
   "source": [
    "Ya que no cambia la longitud del dataset al filtrar, podemos deducir que no hay valores no-numericos."
   ]
  },
  {
   "attachments": {},
   "cell_type": "markdown",
   "metadata": {},
   "source": [
    "### División de los datasets"
   ]
  },
  {
   "cell_type": "code",
   "execution_count": 125,
   "metadata": {},
   "outputs": [],
   "source": [
    "dev_wpp_df = wpp_df[(wpp_df.Type == 'Development Group') | (wpp_df.Type == 'Income Group') | (wpp_df.Type == 'Special other')]"
   ]
  },
  {
   "cell_type": "code",
   "execution_count": 26,
   "metadata": {},
   "outputs": [],
   "source": [
    "reg_wpp_df = wpp_df[(wpp_df.Type != 'World') & (wpp_df.Type != 'Label/Separator') & (wpp_df.Type != 'Development Group') & (wpp_df.Type != 'Income Group') & (wpp_df.Type != 'Special other')]"
   ]
  },
  {
   "attachments": {},
   "cell_type": "markdown",
   "metadata": {},
   "source": [
    "## Población total"
   ]
  },
  {
   "cell_type": "code",
   "execution_count": 127,
   "metadata": {},
   "outputs": [],
   "source": [
    "total_popul_df = wpp_df[wpp_df.Type == 'Country/Area'].groupby('Region, subregion, country or area *')['Total Population, as of 1 January (thousands)'].mean().reset_index().sort_values(by='Total Population, as of 1 January (thousands)',ascending=False).head(10)"
   ]
  },
  {
   "cell_type": "code",
   "execution_count": 128,
   "metadata": {},
   "outputs": [
    {
     "data": {
      "text/plain": [
       "<AxesSubplot: ylabel='Total Population, as of 1 January (thousands)'>"
      ]
     },
     "execution_count": 128,
     "metadata": {},
     "output_type": "execute_result"
    },
    {
     "data": {
      "image/png": "[encoded data removed]",
      "text/plain": [
       "<Figure size 640x480 with 1 Axes>"
      ]
     },
     "metadata": {},
     "output_type": "display_data"
    }
   ],
   "source": [
    "total_popul_df.set_index('Region, subregion, country or area *').plot.pie(y='Total Population, as of 1 January (thousands)')"
   ]
  },
  {
   "cell_type": "code",
   "execution_count": null,
   "metadata": {},
   "outputs": [],
   "source": []
  }
 ],
 "metadata": {
  "kernelspec": {
   "display_name": "venv",
   "language": "python",
   "name": "python3"
  },
  "language_info": {
   "codemirror_mode": {
    "name": "ipython",
    "version": 3
   },
   "file_extension": ".py",
   "mimetype": "text/x-python",
   "name": "python",
   "nbconvert_exporter": "python",
   "pygments_lexer": "ipython3",
   "version": "3.11.0"
  },
  "orig_nbformat": 4,
  "vscode": {
   "interpreter": {
    "hash": "9f51f3a78af393f2085a065c622ed6bb1d4ae12f91b310d8ac878fee426b316c"
   }
  }
 },
 "nbformat": 4,
 "nbformat_minor": 2
}
