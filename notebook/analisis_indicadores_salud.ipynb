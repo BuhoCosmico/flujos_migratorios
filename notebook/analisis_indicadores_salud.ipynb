{
 "cells": [
  {
   "cell_type": "code",
   "execution_count": 2,
   "metadata": {},
   "outputs": [],
   "source": [
    "import pandas as pd\n",
    "import numpy as np\n",
    "import matplotlib.pyplot as plt"
   ]
  },
  {
   "attachments": {},
   "cell_type": "markdown",
   "metadata": {},
   "source": [
    "            Análisis de datos (indicadores de salud) creando relaciones indirectas con los flujos migratorios"
   ]
  },
  {
   "attachments": {},
   "cell_type": "markdown",
   "metadata": {},
   "source": [
    "-- En este EDA trabajaremos con el dataset de indicadores de salud ya normalizado. Haciendo análisis en los indicadores de nuestro interes.\n"
   ]
  },
  {
   "cell_type": "code",
   "execution_count": 3,
   "metadata": {},
   "outputs": [],
   "source": [
    "data_salud = pd.read_csv('indicador_de_salud_normalizado.csv')"
   ]
  },
  {
   "cell_type": "code",
   "execution_count": 98,
   "metadata": {},
   "outputs": [],
   "source": [
    "inmigrantes = pd.read_csv('L-Total_inmigrantes_DESTINO_normal.csv')"
   ]
  },
  {
   "cell_type": "code",
   "execution_count": 101,
   "metadata": {},
   "outputs": [],
   "source": [
    "emigrantes = pd.read_csv('L-Total_emigrantes_ORIGEN_normal.csv')"
   ]
  },
  {
   "cell_type": "code",
   "execution_count": 107,
   "metadata": {},
   "outputs": [
    {
     "data": {
      "text/plain": [
       "61                         turkmenistan\n",
       "185            turks and caicos islands\n",
       "238                              tuvalu\n",
       "16                               uganda\n",
       "120                             ukraine\n",
       "109                united arab emirates\n",
       "133                      united kingdom\n",
       "17          united republic of tanzania\n",
       "213            united states of america\n",
       "186        united states virgin islands\n",
       "207                             uruguay\n",
       "62                           uzbekistan\n",
       "221                             vanuatu\n",
       "208    venezuela bolivarian republic of\n",
       "81                              vietnam\n",
       "92                         western asia\n",
       "35                       western sahara\n",
       "110                               yemen\n",
       "18                               zambia\n",
       "19                             zimbabwe\n",
       "Name: Region, development group, country or area, dtype: object"
      ]
     },
     "execution_count": 107,
     "metadata": {},
     "output_type": "execute_result"
    }
   ],
   "source": [
    "emigrantes['Region, development group, country or area'].sort_values(ascending=True).tail(20)"
   ]
  },
  {
   "cell_type": "code",
   "execution_count": 102,
   "metadata": {},
   "outputs": [
    {
     "data": {
      "text/html": [
       "<div>\n",
       "<style scoped>\n",
       "    .dataframe tbody tr th:only-of-type {\n",
       "        vertical-align: middle;\n",
       "    }\n",
       "\n",
       "    .dataframe tbody tr th {\n",
       "        vertical-align: top;\n",
       "    }\n",
       "\n",
       "    .dataframe thead th {\n",
       "        text-align: right;\n",
       "    }\n",
       "</style>\n",
       "<table border=\"1\" class=\"dataframe\">\n",
       "  <thead>\n",
       "    <tr style=\"text-align: right;\">\n",
       "      <th></th>\n",
       "      <th>Region, development group, country or area</th>\n",
       "      <th>Location code</th>\n",
       "      <th>1990</th>\n",
       "      <th>1995</th>\n",
       "      <th>2000</th>\n",
       "      <th>2005</th>\n",
       "      <th>2010</th>\n",
       "      <th>2015</th>\n",
       "      <th>2020</th>\n",
       "    </tr>\n",
       "  </thead>\n",
       "  <tbody>\n",
       "    <tr>\n",
       "      <th>0</th>\n",
       "      <td>burundi</td>\n",
       "      <td>108</td>\n",
       "      <td>337100</td>\n",
       "      <td>540558</td>\n",
       "      <td>758673</td>\n",
       "      <td>619916</td>\n",
       "      <td>284078</td>\n",
       "      <td>459979</td>\n",
       "      <td>551105</td>\n",
       "    </tr>\n",
       "    <tr>\n",
       "      <th>1</th>\n",
       "      <td>comoros</td>\n",
       "      <td>174</td>\n",
       "      <td>40079</td>\n",
       "      <td>51290</td>\n",
       "      <td>70502</td>\n",
       "      <td>96143</td>\n",
       "      <td>109125</td>\n",
       "      <td>121749</td>\n",
       "      <td>150823</td>\n",
       "    </tr>\n",
       "    <tr>\n",
       "      <th>2</th>\n",
       "      <td>djibouti</td>\n",
       "      <td>262</td>\n",
       "      <td>5308</td>\n",
       "      <td>6964</td>\n",
       "      <td>9055</td>\n",
       "      <td>11987</td>\n",
       "      <td>13797</td>\n",
       "      <td>16969</td>\n",
       "      <td>18365</td>\n",
       "    </tr>\n",
       "    <tr>\n",
       "      <th>3</th>\n",
       "      <td>eritrea</td>\n",
       "      <td>232</td>\n",
       "      <td>170603</td>\n",
       "      <td>375257</td>\n",
       "      <td>511506</td>\n",
       "      <td>299311</td>\n",
       "      <td>328366</td>\n",
       "      <td>624757</td>\n",
       "      <td>802822</td>\n",
       "    </tr>\n",
       "    <tr>\n",
       "      <th>4</th>\n",
       "      <td>ethiopia</td>\n",
       "      <td>231</td>\n",
       "      <td>1689941</td>\n",
       "      <td>816420</td>\n",
       "      <td>445886</td>\n",
       "      <td>524038</td>\n",
       "      <td>680290</td>\n",
       "      <td>842496</td>\n",
       "      <td>946129</td>\n",
       "    </tr>\n",
       "  </tbody>\n",
       "</table>\n",
       "</div>"
      ],
      "text/plain": [
       "  Region, development group, country or area  Location code     1990    1995  \\\n",
       "0                                    burundi            108   337100  540558   \n",
       "1                                    comoros            174    40079   51290   \n",
       "2                                   djibouti            262     5308    6964   \n",
       "3                                    eritrea            232   170603  375257   \n",
       "4                                   ethiopia            231  1689941  816420   \n",
       "\n",
       "     2000    2005    2010    2015    2020  \n",
       "0  758673  619916  284078  459979  551105  \n",
       "1   70502   96143  109125  121749  150823  \n",
       "2    9055   11987   13797   16969   18365  \n",
       "3  511506  299311  328366  624757  802822  \n",
       "4  445886  524038  680290  842496  946129  "
      ]
     },
     "execution_count": 102,
     "metadata": {},
     "output_type": "execute_result"
    }
   ],
   "source": [
    "emigrantes.head()"
   ]
  },
  {
   "cell_type": "code",
   "execution_count": 4,
   "metadata": {},
   "outputs": [
    {
     "data": {
      "text/html": [
       "<div>\n",
       "<style scoped>\n",
       "    .dataframe tbody tr th:only-of-type {\n",
       "        vertical-align: middle;\n",
       "    }\n",
       "\n",
       "    .dataframe tbody tr th {\n",
       "        vertical-align: top;\n",
       "    }\n",
       "\n",
       "    .dataframe thead th {\n",
       "        text-align: right;\n",
       "    }\n",
       "</style>\n",
       "<table border=\"1\" class=\"dataframe\">\n",
       "  <thead>\n",
       "    <tr style=\"text-align: right;\">\n",
       "      <th></th>\n",
       "      <th>Country Name</th>\n",
       "      <th>Country Code</th>\n",
       "      <th>Series Name</th>\n",
       "      <th>1990</th>\n",
       "      <th>1995</th>\n",
       "      <th>2000</th>\n",
       "      <th>2005</th>\n",
       "      <th>2010</th>\n",
       "      <th>2015</th>\n",
       "      <th>2020</th>\n",
       "      <th>cod</th>\n",
       "    </tr>\n",
       "  </thead>\n",
       "  <tbody>\n",
       "    <tr>\n",
       "      <th>0</th>\n",
       "      <td>Afghanistan</td>\n",
       "      <td>AFG</td>\n",
       "      <td>Adolescent fertility rate (births per 1,000 wo...</td>\n",
       "      <td>162.8354</td>\n",
       "      <td>164.7084</td>\n",
       "      <td>153.951</td>\n",
       "      <td>138.4284</td>\n",
       "      <td>113.715</td>\n",
       "      <td>81.693</td>\n",
       "      <td>57.509</td>\n",
       "      <td>1</td>\n",
       "    </tr>\n",
       "    <tr>\n",
       "      <th>1</th>\n",
       "      <td>Afghanistan</td>\n",
       "      <td>AFG</td>\n",
       "      <td>Adults (ages 15+) living with HIV</td>\n",
       "      <td>500.0000</td>\n",
       "      <td>890.0000</td>\n",
       "      <td>1600.000</td>\n",
       "      <td>2800.0000</td>\n",
       "      <td>4200.000</td>\n",
       "      <td>6600.000</td>\n",
       "      <td>9600.000</td>\n",
       "      <td>1</td>\n",
       "    </tr>\n",
       "    <tr>\n",
       "      <th>2</th>\n",
       "      <td>Afghanistan</td>\n",
       "      <td>AFG</td>\n",
       "      <td>Adults (ages 15-49) newly infected with HIV</td>\n",
       "      <td>100.0000</td>\n",
       "      <td>200.0000</td>\n",
       "      <td>500.000</td>\n",
       "      <td>500.0000</td>\n",
       "      <td>1000.000</td>\n",
       "      <td>1000.000</td>\n",
       "      <td>1100.000</td>\n",
       "      <td>1</td>\n",
       "    </tr>\n",
       "    <tr>\n",
       "      <th>3</th>\n",
       "      <td>Afghanistan</td>\n",
       "      <td>AFG</td>\n",
       "      <td>Children with fever receiving antimalarial dru...</td>\n",
       "      <td>0.0000</td>\n",
       "      <td>0.0000</td>\n",
       "      <td>0.000</td>\n",
       "      <td>0.0000</td>\n",
       "      <td>0.000</td>\n",
       "      <td>11.800</td>\n",
       "      <td>0.000</td>\n",
       "      <td>1</td>\n",
       "    </tr>\n",
       "    <tr>\n",
       "      <th>4</th>\n",
       "      <td>Afghanistan</td>\n",
       "      <td>AFG</td>\n",
       "      <td>Community health workers (per 1,000 people)</td>\n",
       "      <td>0.0000</td>\n",
       "      <td>0.0000</td>\n",
       "      <td>0.000</td>\n",
       "      <td>0.0000</td>\n",
       "      <td>0.000</td>\n",
       "      <td>0.000</td>\n",
       "      <td>0.000</td>\n",
       "      <td>1</td>\n",
       "    </tr>\n",
       "  </tbody>\n",
       "</table>\n",
       "</div>"
      ],
      "text/plain": [
       "  Country Name Country Code  \\\n",
       "0  Afghanistan          AFG   \n",
       "1  Afghanistan          AFG   \n",
       "2  Afghanistan          AFG   \n",
       "3  Afghanistan          AFG   \n",
       "4  Afghanistan          AFG   \n",
       "\n",
       "                                         Series Name      1990      1995  \\\n",
       "0  Adolescent fertility rate (births per 1,000 wo...  162.8354  164.7084   \n",
       "1                  Adults (ages 15+) living with HIV  500.0000  890.0000   \n",
       "2        Adults (ages 15-49) newly infected with HIV  100.0000  200.0000   \n",
       "3  Children with fever receiving antimalarial dru...    0.0000    0.0000   \n",
       "4        Community health workers (per 1,000 people)    0.0000    0.0000   \n",
       "\n",
       "       2000       2005      2010      2015      2020  cod  \n",
       "0   153.951   138.4284   113.715    81.693    57.509    1  \n",
       "1  1600.000  2800.0000  4200.000  6600.000  9600.000    1  \n",
       "2   500.000   500.0000  1000.000  1000.000  1100.000    1  \n",
       "3     0.000     0.0000     0.000    11.800     0.000    1  \n",
       "4     0.000     0.0000     0.000     0.000     0.000    1  "
      ]
     },
     "execution_count": 4,
     "metadata": {},
     "output_type": "execute_result"
    }
   ],
   "source": [
    "data_salud.head()"
   ]
  },
  {
   "cell_type": "code",
   "execution_count": 5,
   "metadata": {},
   "outputs": [
    {
     "data": {
      "text/plain": [
       "(6510, 11)"
      ]
     },
     "execution_count": 5,
     "metadata": {},
     "output_type": "execute_result"
    }
   ],
   "source": [
    "data_salud.shape"
   ]
  },
  {
   "cell_type": "code",
   "execution_count": 6,
   "metadata": {},
   "outputs": [],
   "source": [
    "data_salud.drop(columns={'Country Code'}, inplace=True)"
   ]
  },
  {
   "cell_type": "code",
   "execution_count": 7,
   "metadata": {},
   "outputs": [],
   "source": [
    "data_cod = data_salud['cod']"
   ]
  },
  {
   "cell_type": "code",
   "execution_count": 8,
   "metadata": {},
   "outputs": [],
   "source": [
    "data_salud.drop(columns={'cod'},inplace=True)"
   ]
  },
  {
   "cell_type": "code",
   "execution_count": 9,
   "metadata": {},
   "outputs": [
    {
     "data": {
      "text/html": [
       "<div>\n",
       "<style scoped>\n",
       "    .dataframe tbody tr th:only-of-type {\n",
       "        vertical-align: middle;\n",
       "    }\n",
       "\n",
       "    .dataframe tbody tr th {\n",
       "        vertical-align: top;\n",
       "    }\n",
       "\n",
       "    .dataframe thead th {\n",
       "        text-align: right;\n",
       "    }\n",
       "</style>\n",
       "<table border=\"1\" class=\"dataframe\">\n",
       "  <thead>\n",
       "    <tr style=\"text-align: right;\">\n",
       "      <th></th>\n",
       "      <th>Country Name</th>\n",
       "      <th>Series Name</th>\n",
       "      <th>1990</th>\n",
       "      <th>1995</th>\n",
       "      <th>2000</th>\n",
       "      <th>2005</th>\n",
       "      <th>2010</th>\n",
       "      <th>2015</th>\n",
       "      <th>2020</th>\n",
       "    </tr>\n",
       "  </thead>\n",
       "  <tbody>\n",
       "    <tr>\n",
       "      <th>0</th>\n",
       "      <td>Afghanistan</td>\n",
       "      <td>Adolescent fertility rate (births per 1,000 wo...</td>\n",
       "      <td>162.8354</td>\n",
       "      <td>164.7084</td>\n",
       "      <td>153.951</td>\n",
       "      <td>138.4284</td>\n",
       "      <td>113.715</td>\n",
       "      <td>81.693</td>\n",
       "      <td>57.509</td>\n",
       "    </tr>\n",
       "    <tr>\n",
       "      <th>1</th>\n",
       "      <td>Afghanistan</td>\n",
       "      <td>Adults (ages 15+) living with HIV</td>\n",
       "      <td>500.0000</td>\n",
       "      <td>890.0000</td>\n",
       "      <td>1600.000</td>\n",
       "      <td>2800.0000</td>\n",
       "      <td>4200.000</td>\n",
       "      <td>6600.000</td>\n",
       "      <td>9600.000</td>\n",
       "    </tr>\n",
       "    <tr>\n",
       "      <th>2</th>\n",
       "      <td>Afghanistan</td>\n",
       "      <td>Adults (ages 15-49) newly infected with HIV</td>\n",
       "      <td>100.0000</td>\n",
       "      <td>200.0000</td>\n",
       "      <td>500.000</td>\n",
       "      <td>500.0000</td>\n",
       "      <td>1000.000</td>\n",
       "      <td>1000.000</td>\n",
       "      <td>1100.000</td>\n",
       "    </tr>\n",
       "    <tr>\n",
       "      <th>3</th>\n",
       "      <td>Afghanistan</td>\n",
       "      <td>Children with fever receiving antimalarial dru...</td>\n",
       "      <td>0.0000</td>\n",
       "      <td>0.0000</td>\n",
       "      <td>0.000</td>\n",
       "      <td>0.0000</td>\n",
       "      <td>0.000</td>\n",
       "      <td>11.800</td>\n",
       "      <td>0.000</td>\n",
       "    </tr>\n",
       "    <tr>\n",
       "      <th>4</th>\n",
       "      <td>Afghanistan</td>\n",
       "      <td>Community health workers (per 1,000 people)</td>\n",
       "      <td>0.0000</td>\n",
       "      <td>0.0000</td>\n",
       "      <td>0.000</td>\n",
       "      <td>0.0000</td>\n",
       "      <td>0.000</td>\n",
       "      <td>0.000</td>\n",
       "      <td>0.000</td>\n",
       "    </tr>\n",
       "    <tr>\n",
       "      <th>...</th>\n",
       "      <td>...</td>\n",
       "      <td>...</td>\n",
       "      <td>...</td>\n",
       "      <td>...</td>\n",
       "      <td>...</td>\n",
       "      <td>...</td>\n",
       "      <td>...</td>\n",
       "      <td>...</td>\n",
       "      <td>...</td>\n",
       "    </tr>\n",
       "    <tr>\n",
       "      <th>6505</th>\n",
       "      <td>Zimbabwe</td>\n",
       "      <td>Prevalence of overweight (% of children under 5)</td>\n",
       "      <td>0.0000</td>\n",
       "      <td>0.0000</td>\n",
       "      <td>0.000</td>\n",
       "      <td>8.8000</td>\n",
       "      <td>5.800</td>\n",
       "      <td>5.600</td>\n",
       "      <td>0.000</td>\n",
       "    </tr>\n",
       "    <tr>\n",
       "      <th>6506</th>\n",
       "      <td>Zimbabwe</td>\n",
       "      <td>Prevalence of undernourishment (% of population)</td>\n",
       "      <td>0.0000</td>\n",
       "      <td>0.0000</td>\n",
       "      <td>0.000</td>\n",
       "      <td>0.0000</td>\n",
       "      <td>0.000</td>\n",
       "      <td>0.000</td>\n",
       "      <td>0.000</td>\n",
       "    </tr>\n",
       "    <tr>\n",
       "      <th>6507</th>\n",
       "      <td>Zimbabwe</td>\n",
       "      <td>Probability of dying among youth ages 20-24 ye...</td>\n",
       "      <td>14.6000</td>\n",
       "      <td>20.6000</td>\n",
       "      <td>24.600</td>\n",
       "      <td>23.0000</td>\n",
       "      <td>19.400</td>\n",
       "      <td>16.400</td>\n",
       "      <td>14.700</td>\n",
       "    </tr>\n",
       "    <tr>\n",
       "      <th>6508</th>\n",
       "      <td>Zimbabwe</td>\n",
       "      <td>Probability of dying among children ages 5-9 y...</td>\n",
       "      <td>8.4000</td>\n",
       "      <td>8.4000</td>\n",
       "      <td>8.600</td>\n",
       "      <td>8.9000</td>\n",
       "      <td>8.100</td>\n",
       "      <td>5.700</td>\n",
       "      <td>4.000</td>\n",
       "    </tr>\n",
       "    <tr>\n",
       "      <th>6509</th>\n",
       "      <td>Zimbabwe</td>\n",
       "      <td>Tuberculosis death rate (per 100,000 people)</td>\n",
       "      <td>0.0000</td>\n",
       "      <td>0.0000</td>\n",
       "      <td>28.000</td>\n",
       "      <td>32.0000</td>\n",
       "      <td>8.900</td>\n",
       "      <td>7.900</td>\n",
       "      <td>12.000</td>\n",
       "    </tr>\n",
       "  </tbody>\n",
       "</table>\n",
       "<p>6510 rows × 9 columns</p>\n",
       "</div>"
      ],
      "text/plain": [
       "     Country Name                                        Series Name  \\\n",
       "0     Afghanistan  Adolescent fertility rate (births per 1,000 wo...   \n",
       "1     Afghanistan                  Adults (ages 15+) living with HIV   \n",
       "2     Afghanistan        Adults (ages 15-49) newly infected with HIV   \n",
       "3     Afghanistan  Children with fever receiving antimalarial dru...   \n",
       "4     Afghanistan        Community health workers (per 1,000 people)   \n",
       "...           ...                                                ...   \n",
       "6505     Zimbabwe   Prevalence of overweight (% of children under 5)   \n",
       "6506     Zimbabwe   Prevalence of undernourishment (% of population)   \n",
       "6507     Zimbabwe  Probability of dying among youth ages 20-24 ye...   \n",
       "6508     Zimbabwe  Probability of dying among children ages 5-9 y...   \n",
       "6509     Zimbabwe       Tuberculosis death rate (per 100,000 people)   \n",
       "\n",
       "          1990      1995      2000       2005      2010      2015      2020  \n",
       "0     162.8354  164.7084   153.951   138.4284   113.715    81.693    57.509  \n",
       "1     500.0000  890.0000  1600.000  2800.0000  4200.000  6600.000  9600.000  \n",
       "2     100.0000  200.0000   500.000   500.0000  1000.000  1000.000  1100.000  \n",
       "3       0.0000    0.0000     0.000     0.0000     0.000    11.800     0.000  \n",
       "4       0.0000    0.0000     0.000     0.0000     0.000     0.000     0.000  \n",
       "...        ...       ...       ...        ...       ...       ...       ...  \n",
       "6505    0.0000    0.0000     0.000     8.8000     5.800     5.600     0.000  \n",
       "6506    0.0000    0.0000     0.000     0.0000     0.000     0.000     0.000  \n",
       "6507   14.6000   20.6000    24.600    23.0000    19.400    16.400    14.700  \n",
       "6508    8.4000    8.4000     8.600     8.9000     8.100     5.700     4.000  \n",
       "6509    0.0000    0.0000    28.000    32.0000     8.900     7.900    12.000  \n",
       "\n",
       "[6510 rows x 9 columns]"
      ]
     },
     "execution_count": 9,
     "metadata": {},
     "output_type": "execute_result"
    }
   ],
   "source": [
    "data_salud"
   ]
  },
  {
   "cell_type": "code",
   "execution_count": 10,
   "metadata": {},
   "outputs": [],
   "source": [
    "data_transpuesta = (\n",
    "    data_salud.set_index([\"Country Name\", \"Series Name\"])\n",
    "    .rename_axis(\"year\", axis=1)\n",
    "    .stack()\n",
    "    .unstack(1)\n",
    "    .sort_values(['Country Name','year'])\n",
    "    .reset_index()\n",
    "    .rename_axis(None, axis=1)\n",
    "    .rename_axis(\"id\")\n",
    ")"
   ]
  },
  {
   "cell_type": "code",
   "execution_count": 11,
   "metadata": {},
   "outputs": [
    {
     "data": {
      "text/html": [
       "<div>\n",
       "<style scoped>\n",
       "    .dataframe tbody tr th:only-of-type {\n",
       "        vertical-align: middle;\n",
       "    }\n",
       "\n",
       "    .dataframe tbody tr th {\n",
       "        vertical-align: top;\n",
       "    }\n",
       "\n",
       "    .dataframe thead th {\n",
       "        text-align: right;\n",
       "    }\n",
       "</style>\n",
       "<table border=\"1\" class=\"dataframe\">\n",
       "  <thead>\n",
       "    <tr style=\"text-align: right;\">\n",
       "      <th></th>\n",
       "      <th>Country Name</th>\n",
       "      <th>year</th>\n",
       "      <th>Adolescent fertility rate (births per 1,000 women ages 15-19)</th>\n",
       "      <th>Adults (ages 15+) living with HIV</th>\n",
       "      <th>Adults (ages 15-49) newly infected with HIV</th>\n",
       "      <th>Children with fever receiving antimalarial drugs (% of children under age 5 with fever)</th>\n",
       "      <th>Community health workers (per 1,000 people)</th>\n",
       "      <th>Current health expenditure per capita (current US$)</th>\n",
       "      <th>Death rate, crude (per 1,000 people)</th>\n",
       "      <th>Diabetes prevalence (% of population ages 20 to 79)</th>\n",
       "      <th>...</th>\n",
       "      <th>Mortality rate attributed to unsafe water, unsafe sanitation and lack of hygiene (per 100,000 population)</th>\n",
       "      <th>Mortality rate, infant (per 1,000 live births)</th>\n",
       "      <th>People using at least basic drinking water services (% of population)</th>\n",
       "      <th>Pregnant women receiving prenatal care (%)</th>\n",
       "      <th>Prevalence of overweight (% of adults)</th>\n",
       "      <th>Prevalence of overweight (% of children under 5)</th>\n",
       "      <th>Prevalence of undernourishment (% of population)</th>\n",
       "      <th>Probability of dying among children ages 5-9 years (per 1,000)</th>\n",
       "      <th>Probability of dying among youth ages 20-24 years (per 1,000)</th>\n",
       "      <th>Tuberculosis death rate (per 100,000 people)</th>\n",
       "    </tr>\n",
       "    <tr>\n",
       "      <th>id</th>\n",
       "      <th></th>\n",
       "      <th></th>\n",
       "      <th></th>\n",
       "      <th></th>\n",
       "      <th></th>\n",
       "      <th></th>\n",
       "      <th></th>\n",
       "      <th></th>\n",
       "      <th></th>\n",
       "      <th></th>\n",
       "      <th></th>\n",
       "      <th></th>\n",
       "      <th></th>\n",
       "      <th></th>\n",
       "      <th></th>\n",
       "      <th></th>\n",
       "      <th></th>\n",
       "      <th></th>\n",
       "      <th></th>\n",
       "      <th></th>\n",
       "      <th></th>\n",
       "    </tr>\n",
       "  </thead>\n",
       "  <tbody>\n",
       "    <tr>\n",
       "      <th>0</th>\n",
       "      <td>Afghanistan</td>\n",
       "      <td>1990</td>\n",
       "      <td>162.8354</td>\n",
       "      <td>500.0</td>\n",
       "      <td>100.0</td>\n",
       "      <td>0.0</td>\n",
       "      <td>0.0</td>\n",
       "      <td>0.000000</td>\n",
       "      <td>18.449</td>\n",
       "      <td>0.0</td>\n",
       "      <td>...</td>\n",
       "      <td>0.0</td>\n",
       "      <td>120.8</td>\n",
       "      <td>0.000000</td>\n",
       "      <td>0.0</td>\n",
       "      <td>10.4</td>\n",
       "      <td>0.0</td>\n",
       "      <td>0.0</td>\n",
       "      <td>12.3</td>\n",
       "      <td>35.1</td>\n",
       "      <td>0.0</td>\n",
       "    </tr>\n",
       "    <tr>\n",
       "      <th>1</th>\n",
       "      <td>Afghanistan</td>\n",
       "      <td>1995</td>\n",
       "      <td>164.7084</td>\n",
       "      <td>890.0</td>\n",
       "      <td>200.0</td>\n",
       "      <td>0.0</td>\n",
       "      <td>0.0</td>\n",
       "      <td>0.000000</td>\n",
       "      <td>14.092</td>\n",
       "      <td>0.0</td>\n",
       "      <td>...</td>\n",
       "      <td>0.0</td>\n",
       "      <td>103.9</td>\n",
       "      <td>0.000000</td>\n",
       "      <td>0.0</td>\n",
       "      <td>12.1</td>\n",
       "      <td>0.0</td>\n",
       "      <td>0.0</td>\n",
       "      <td>8.8</td>\n",
       "      <td>24.1</td>\n",
       "      <td>0.0</td>\n",
       "    </tr>\n",
       "    <tr>\n",
       "      <th>2</th>\n",
       "      <td>Afghanistan</td>\n",
       "      <td>2000</td>\n",
       "      <td>153.9510</td>\n",
       "      <td>1600.0</td>\n",
       "      <td>500.0</td>\n",
       "      <td>0.0</td>\n",
       "      <td>0.0</td>\n",
       "      <td>0.000000</td>\n",
       "      <td>12.096</td>\n",
       "      <td>0.0</td>\n",
       "      <td>...</td>\n",
       "      <td>0.0</td>\n",
       "      <td>90.5</td>\n",
       "      <td>28.171415</td>\n",
       "      <td>36.9</td>\n",
       "      <td>14.2</td>\n",
       "      <td>0.0</td>\n",
       "      <td>0.0</td>\n",
       "      <td>6.6</td>\n",
       "      <td>15.9</td>\n",
       "      <td>68.0</td>\n",
       "    </tr>\n",
       "    <tr>\n",
       "      <th>3</th>\n",
       "      <td>Afghanistan</td>\n",
       "      <td>2005</td>\n",
       "      <td>138.4284</td>\n",
       "      <td>2800.0</td>\n",
       "      <td>500.0</td>\n",
       "      <td>0.0</td>\n",
       "      <td>0.0</td>\n",
       "      <td>23.890501</td>\n",
       "      <td>9.941</td>\n",
       "      <td>0.0</td>\n",
       "      <td>...</td>\n",
       "      <td>0.0</td>\n",
       "      <td>77.3</td>\n",
       "      <td>36.401501</td>\n",
       "      <td>0.0</td>\n",
       "      <td>16.6</td>\n",
       "      <td>0.0</td>\n",
       "      <td>36.1</td>\n",
       "      <td>5.9</td>\n",
       "      <td>11.4</td>\n",
       "      <td>47.0</td>\n",
       "    </tr>\n",
       "    <tr>\n",
       "      <th>4</th>\n",
       "      <td>Afghanistan</td>\n",
       "      <td>2010</td>\n",
       "      <td>113.7150</td>\n",
       "      <td>4200.0</td>\n",
       "      <td>1000.0</td>\n",
       "      <td>0.0</td>\n",
       "      <td>0.0</td>\n",
       "      <td>44.990532</td>\n",
       "      <td>8.254</td>\n",
       "      <td>0.0</td>\n",
       "      <td>...</td>\n",
       "      <td>0.0</td>\n",
       "      <td>64.2</td>\n",
       "      <td>48.287084</td>\n",
       "      <td>59.6</td>\n",
       "      <td>19.3</td>\n",
       "      <td>0.0</td>\n",
       "      <td>21.2</td>\n",
       "      <td>5.6</td>\n",
       "      <td>12.6</td>\n",
       "      <td>43.0</td>\n",
       "    </tr>\n",
       "    <tr>\n",
       "      <th>...</th>\n",
       "      <td>...</td>\n",
       "      <td>...</td>\n",
       "      <td>...</td>\n",
       "      <td>...</td>\n",
       "      <td>...</td>\n",
       "      <td>...</td>\n",
       "      <td>...</td>\n",
       "      <td>...</td>\n",
       "      <td>...</td>\n",
       "      <td>...</td>\n",
       "      <td>...</td>\n",
       "      <td>...</td>\n",
       "      <td>...</td>\n",
       "      <td>...</td>\n",
       "      <td>...</td>\n",
       "      <td>...</td>\n",
       "      <td>...</td>\n",
       "      <td>...</td>\n",
       "      <td>...</td>\n",
       "      <td>...</td>\n",
       "      <td>...</td>\n",
       "    </tr>\n",
       "    <tr>\n",
       "      <th>1514</th>\n",
       "      <td>Zimbabwe</td>\n",
       "      <td>2000</td>\n",
       "      <td>100.2418</td>\n",
       "      <td>1400000.0</td>\n",
       "      <td>86000.0</td>\n",
       "      <td>0.0</td>\n",
       "      <td>0.0</td>\n",
       "      <td>0.000000</td>\n",
       "      <td>16.801</td>\n",
       "      <td>0.0</td>\n",
       "      <td>...</td>\n",
       "      <td>0.0</td>\n",
       "      <td>51.9</td>\n",
       "      <td>71.869387</td>\n",
       "      <td>0.0</td>\n",
       "      <td>30.4</td>\n",
       "      <td>0.0</td>\n",
       "      <td>0.0</td>\n",
       "      <td>8.6</td>\n",
       "      <td>24.6</td>\n",
       "      <td>28.0</td>\n",
       "    </tr>\n",
       "    <tr>\n",
       "      <th>1515</th>\n",
       "      <td>Zimbabwe</td>\n",
       "      <td>2005</td>\n",
       "      <td>106.7950</td>\n",
       "      <td>1200000.0</td>\n",
       "      <td>67000.0</td>\n",
       "      <td>0.0</td>\n",
       "      <td>0.0</td>\n",
       "      <td>0.000000</td>\n",
       "      <td>16.820</td>\n",
       "      <td>0.0</td>\n",
       "      <td>...</td>\n",
       "      <td>0.0</td>\n",
       "      <td>51.7</td>\n",
       "      <td>70.163108</td>\n",
       "      <td>0.0</td>\n",
       "      <td>33.3</td>\n",
       "      <td>8.8</td>\n",
       "      <td>0.0</td>\n",
       "      <td>8.9</td>\n",
       "      <td>23.0</td>\n",
       "      <td>32.0</td>\n",
       "    </tr>\n",
       "    <tr>\n",
       "      <th>1516</th>\n",
       "      <td>Zimbabwe</td>\n",
       "      <td>2010</td>\n",
       "      <td>109.7422</td>\n",
       "      <td>1100000.0</td>\n",
       "      <td>56000.0</td>\n",
       "      <td>0.0</td>\n",
       "      <td>0.0</td>\n",
       "      <td>99.348557</td>\n",
       "      <td>13.281</td>\n",
       "      <td>0.0</td>\n",
       "      <td>...</td>\n",
       "      <td>0.0</td>\n",
       "      <td>52.1</td>\n",
       "      <td>67.540711</td>\n",
       "      <td>0.0</td>\n",
       "      <td>35.7</td>\n",
       "      <td>5.8</td>\n",
       "      <td>0.0</td>\n",
       "      <td>8.1</td>\n",
       "      <td>19.4</td>\n",
       "      <td>8.9</td>\n",
       "    </tr>\n",
       "    <tr>\n",
       "      <th>1517</th>\n",
       "      <td>Zimbabwe</td>\n",
       "      <td>2015</td>\n",
       "      <td>95.2182</td>\n",
       "      <td>1200000.0</td>\n",
       "      <td>40000.0</td>\n",
       "      <td>1.0</td>\n",
       "      <td>0.0</td>\n",
       "      <td>107.686999</td>\n",
       "      <td>8.774</td>\n",
       "      <td>0.0</td>\n",
       "      <td>...</td>\n",
       "      <td>0.0</td>\n",
       "      <td>42.1</td>\n",
       "      <td>64.954929</td>\n",
       "      <td>93.3</td>\n",
       "      <td>37.7</td>\n",
       "      <td>5.6</td>\n",
       "      <td>0.0</td>\n",
       "      <td>5.7</td>\n",
       "      <td>16.4</td>\n",
       "      <td>7.9</td>\n",
       "    </tr>\n",
       "    <tr>\n",
       "      <th>1518</th>\n",
       "      <td>Zimbabwe</td>\n",
       "      <td>2020</td>\n",
       "      <td>77.4758</td>\n",
       "      <td>1200000.0</td>\n",
       "      <td>19000.0</td>\n",
       "      <td>0.0</td>\n",
       "      <td>0.0</td>\n",
       "      <td>0.000000</td>\n",
       "      <td>8.132</td>\n",
       "      <td>0.0</td>\n",
       "      <td>...</td>\n",
       "      <td>0.0</td>\n",
       "      <td>37.9</td>\n",
       "      <td>62.666458</td>\n",
       "      <td>0.0</td>\n",
       "      <td>0.0</td>\n",
       "      <td>0.0</td>\n",
       "      <td>0.0</td>\n",
       "      <td>4.0</td>\n",
       "      <td>14.7</td>\n",
       "      <td>12.0</td>\n",
       "    </tr>\n",
       "  </tbody>\n",
       "</table>\n",
       "<p>1519 rows × 32 columns</p>\n",
       "</div>"
      ],
      "text/plain": [
       "     Country Name  year  \\\n",
       "id                        \n",
       "0     Afghanistan  1990   \n",
       "1     Afghanistan  1995   \n",
       "2     Afghanistan  2000   \n",
       "3     Afghanistan  2005   \n",
       "4     Afghanistan  2010   \n",
       "...           ...   ...   \n",
       "1514     Zimbabwe  2000   \n",
       "1515     Zimbabwe  2005   \n",
       "1516     Zimbabwe  2010   \n",
       "1517     Zimbabwe  2015   \n",
       "1518     Zimbabwe  2020   \n",
       "\n",
       "      Adolescent fertility rate (births per 1,000 women ages 15-19)  \\\n",
       "id                                                                    \n",
       "0                                              162.8354               \n",
       "1                                              164.7084               \n",
       "2                                              153.9510               \n",
       "3                                              138.4284               \n",
       "4                                              113.7150               \n",
       "...                                                 ...               \n",
       "1514                                           100.2418               \n",
       "1515                                           106.7950               \n",
       "1516                                           109.7422               \n",
       "1517                                            95.2182               \n",
       "1518                                            77.4758               \n",
       "\n",
       "      Adults (ages 15+) living with HIV  \\\n",
       "id                                        \n",
       "0                                 500.0   \n",
       "1                                 890.0   \n",
       "2                                1600.0   \n",
       "3                                2800.0   \n",
       "4                                4200.0   \n",
       "...                                 ...   \n",
       "1514                          1400000.0   \n",
       "1515                          1200000.0   \n",
       "1516                          1100000.0   \n",
       "1517                          1200000.0   \n",
       "1518                          1200000.0   \n",
       "\n",
       "      Adults (ages 15-49) newly infected with HIV  \\\n",
       "id                                                  \n",
       "0                                           100.0   \n",
       "1                                           200.0   \n",
       "2                                           500.0   \n",
       "3                                           500.0   \n",
       "4                                          1000.0   \n",
       "...                                           ...   \n",
       "1514                                      86000.0   \n",
       "1515                                      67000.0   \n",
       "1516                                      56000.0   \n",
       "1517                                      40000.0   \n",
       "1518                                      19000.0   \n",
       "\n",
       "      Children with fever receiving antimalarial drugs (% of children under age 5 with fever)  \\\n",
       "id                                                                                              \n",
       "0                                                   0.0                                         \n",
       "1                                                   0.0                                         \n",
       "2                                                   0.0                                         \n",
       "3                                                   0.0                                         \n",
       "4                                                   0.0                                         \n",
       "...                                                 ...                                         \n",
       "1514                                                0.0                                         \n",
       "1515                                                0.0                                         \n",
       "1516                                                0.0                                         \n",
       "1517                                                1.0                                         \n",
       "1518                                                0.0                                         \n",
       "\n",
       "      Community health workers (per 1,000 people)  \\\n",
       "id                                                  \n",
       "0                                             0.0   \n",
       "1                                             0.0   \n",
       "2                                             0.0   \n",
       "3                                             0.0   \n",
       "4                                             0.0   \n",
       "...                                           ...   \n",
       "1514                                          0.0   \n",
       "1515                                          0.0   \n",
       "1516                                          0.0   \n",
       "1517                                          0.0   \n",
       "1518                                          0.0   \n",
       "\n",
       "      Current health expenditure per capita (current US$)  \\\n",
       "id                                                          \n",
       "0                                              0.000000     \n",
       "1                                              0.000000     \n",
       "2                                              0.000000     \n",
       "3                                             23.890501     \n",
       "4                                             44.990532     \n",
       "...                                                 ...     \n",
       "1514                                           0.000000     \n",
       "1515                                           0.000000     \n",
       "1516                                          99.348557     \n",
       "1517                                         107.686999     \n",
       "1518                                           0.000000     \n",
       "\n",
       "      Death rate, crude (per 1,000 people)  \\\n",
       "id                                           \n",
       "0                                   18.449   \n",
       "1                                   14.092   \n",
       "2                                   12.096   \n",
       "3                                    9.941   \n",
       "4                                    8.254   \n",
       "...                                    ...   \n",
       "1514                                16.801   \n",
       "1515                                16.820   \n",
       "1516                                13.281   \n",
       "1517                                 8.774   \n",
       "1518                                 8.132   \n",
       "\n",
       "      Diabetes prevalence (% of population ages 20 to 79)  ...  \\\n",
       "id                                                         ...   \n",
       "0                                                   0.0    ...   \n",
       "1                                                   0.0    ...   \n",
       "2                                                   0.0    ...   \n",
       "3                                                   0.0    ...   \n",
       "4                                                   0.0    ...   \n",
       "...                                                 ...    ...   \n",
       "1514                                                0.0    ...   \n",
       "1515                                                0.0    ...   \n",
       "1516                                                0.0    ...   \n",
       "1517                                                0.0    ...   \n",
       "1518                                                0.0    ...   \n",
       "\n",
       "      Mortality rate attributed to unsafe water, unsafe sanitation and lack of hygiene (per 100,000 population)  \\\n",
       "id                                                                                                                \n",
       "0                                                   0.0                                                           \n",
       "1                                                   0.0                                                           \n",
       "2                                                   0.0                                                           \n",
       "3                                                   0.0                                                           \n",
       "4                                                   0.0                                                           \n",
       "...                                                 ...                                                           \n",
       "1514                                                0.0                                                           \n",
       "1515                                                0.0                                                           \n",
       "1516                                                0.0                                                           \n",
       "1517                                                0.0                                                           \n",
       "1518                                                0.0                                                           \n",
       "\n",
       "      Mortality rate, infant (per 1,000 live births)  \\\n",
       "id                                                     \n",
       "0                                              120.8   \n",
       "1                                              103.9   \n",
       "2                                               90.5   \n",
       "3                                               77.3   \n",
       "4                                               64.2   \n",
       "...                                              ...   \n",
       "1514                                            51.9   \n",
       "1515                                            51.7   \n",
       "1516                                            52.1   \n",
       "1517                                            42.1   \n",
       "1518                                            37.9   \n",
       "\n",
       "      People using at least basic drinking water services (% of population)  \\\n",
       "id                                                                            \n",
       "0                                              0.000000                       \n",
       "1                                              0.000000                       \n",
       "2                                             28.171415                       \n",
       "3                                             36.401501                       \n",
       "4                                             48.287084                       \n",
       "...                                                 ...                       \n",
       "1514                                          71.869387                       \n",
       "1515                                          70.163108                       \n",
       "1516                                          67.540711                       \n",
       "1517                                          64.954929                       \n",
       "1518                                          62.666458                       \n",
       "\n",
       "      Pregnant women receiving prenatal care (%)  \\\n",
       "id                                                 \n",
       "0                                            0.0   \n",
       "1                                            0.0   \n",
       "2                                           36.9   \n",
       "3                                            0.0   \n",
       "4                                           59.6   \n",
       "...                                          ...   \n",
       "1514                                         0.0   \n",
       "1515                                         0.0   \n",
       "1516                                         0.0   \n",
       "1517                                        93.3   \n",
       "1518                                         0.0   \n",
       "\n",
       "      Prevalence of overweight (% of adults)  \\\n",
       "id                                             \n",
       "0                                       10.4   \n",
       "1                                       12.1   \n",
       "2                                       14.2   \n",
       "3                                       16.6   \n",
       "4                                       19.3   \n",
       "...                                      ...   \n",
       "1514                                    30.4   \n",
       "1515                                    33.3   \n",
       "1516                                    35.7   \n",
       "1517                                    37.7   \n",
       "1518                                     0.0   \n",
       "\n",
       "      Prevalence of overweight (% of children under 5)  \\\n",
       "id                                                       \n",
       "0                                                  0.0   \n",
       "1                                                  0.0   \n",
       "2                                                  0.0   \n",
       "3                                                  0.0   \n",
       "4                                                  0.0   \n",
       "...                                                ...   \n",
       "1514                                               0.0   \n",
       "1515                                               8.8   \n",
       "1516                                               5.8   \n",
       "1517                                               5.6   \n",
       "1518                                               0.0   \n",
       "\n",
       "      Prevalence of undernourishment (% of population)  \\\n",
       "id                                                       \n",
       "0                                                  0.0   \n",
       "1                                                  0.0   \n",
       "2                                                  0.0   \n",
       "3                                                 36.1   \n",
       "4                                                 21.2   \n",
       "...                                                ...   \n",
       "1514                                               0.0   \n",
       "1515                                               0.0   \n",
       "1516                                               0.0   \n",
       "1517                                               0.0   \n",
       "1518                                               0.0   \n",
       "\n",
       "      Probability of dying among children ages 5-9 years (per 1,000)  \\\n",
       "id                                                                     \n",
       "0                                                  12.3                \n",
       "1                                                   8.8                \n",
       "2                                                   6.6                \n",
       "3                                                   5.9                \n",
       "4                                                   5.6                \n",
       "...                                                 ...                \n",
       "1514                                                8.6                \n",
       "1515                                                8.9                \n",
       "1516                                                8.1                \n",
       "1517                                                5.7                \n",
       "1518                                                4.0                \n",
       "\n",
       "      Probability of dying among youth ages 20-24 years (per 1,000)  \\\n",
       "id                                                                    \n",
       "0                                                  35.1               \n",
       "1                                                  24.1               \n",
       "2                                                  15.9               \n",
       "3                                                  11.4               \n",
       "4                                                  12.6               \n",
       "...                                                 ...               \n",
       "1514                                               24.6               \n",
       "1515                                               23.0               \n",
       "1516                                               19.4               \n",
       "1517                                               16.4               \n",
       "1518                                               14.7               \n",
       "\n",
       "      Tuberculosis death rate (per 100,000 people)  \n",
       "id                                                  \n",
       "0                                              0.0  \n",
       "1                                              0.0  \n",
       "2                                             68.0  \n",
       "3                                             47.0  \n",
       "4                                             43.0  \n",
       "...                                            ...  \n",
       "1514                                          28.0  \n",
       "1515                                          32.0  \n",
       "1516                                           8.9  \n",
       "1517                                           7.9  \n",
       "1518                                          12.0  \n",
       "\n",
       "[1519 rows x 32 columns]"
      ]
     },
     "execution_count": 11,
     "metadata": {},
     "output_type": "execute_result"
    }
   ],
   "source": [
    "data_transpuesta"
   ]
  },
  {
   "attachments": {},
   "cell_type": "markdown",
   "metadata": {},
   "source": [
    "Una vez transpuestas las columnas paso analizar los diferentes indicadores"
   ]
  },
  {
   "attachments": {},
   "cell_type": "markdown",
   "metadata": {},
   "source": [
    "--------Analisis de las diferentes condiciones por pais durante los años 1990-1995-2000-2005-2010-2015-2020"
   ]
  },
  {
   "cell_type": "code",
   "execution_count": 12,
   "metadata": {},
   "outputs": [
    {
     "data": {
      "text/plain": [
       "array(['1990', '1995', '2000', '2005', '2010', '2015', '2020'],\n",
       "      dtype=object)"
      ]
     },
     "execution_count": 12,
     "metadata": {},
     "output_type": "execute_result"
    }
   ],
   "source": [
    "data_transpuesta['year'].unique()"
   ]
  },
  {
   "attachments": {},
   "cell_type": "markdown",
   "metadata": {},
   "source": [
    "Se haran varios filtros por la cantidad de los distintos años en el dataframe"
   ]
  },
  {
   "cell_type": "code",
   "execution_count": 13,
   "metadata": {},
   "outputs": [],
   "source": [
    "filtro1990 = data_transpuesta[(data_transpuesta['year'] == '1990')] "
   ]
  },
  {
   "cell_type": "code",
   "execution_count": 14,
   "metadata": {},
   "outputs": [],
   "source": [
    "filtro1995 =data_transpuesta[(data_transpuesta['year'] == '1995')]"
   ]
  },
  {
   "cell_type": "code",
   "execution_count": 15,
   "metadata": {},
   "outputs": [],
   "source": [
    "filtro2000 = data_transpuesta[(data_transpuesta['year'] == '2000')]"
   ]
  },
  {
   "cell_type": "code",
   "execution_count": 16,
   "metadata": {},
   "outputs": [],
   "source": [
    "filtro2005 = data_transpuesta[(data_transpuesta['year'] == '2005')]"
   ]
  },
  {
   "cell_type": "code",
   "execution_count": 17,
   "metadata": {},
   "outputs": [],
   "source": [
    "filtro2010 = data_transpuesta[(data_transpuesta['year'] == '2010')]"
   ]
  },
  {
   "cell_type": "code",
   "execution_count": 18,
   "metadata": {},
   "outputs": [],
   "source": [
    "filtro2015 = data_transpuesta[(data_transpuesta['year'] == '2015')]"
   ]
  },
  {
   "cell_type": "code",
   "execution_count": 19,
   "metadata": {},
   "outputs": [],
   "source": [
    "filtro2020 = data_transpuesta[(data_transpuesta['year'] == '2020')]"
   ]
  },
  {
   "attachments": {},
   "cell_type": "markdown",
   "metadata": {},
   "source": [
    "            Filtrando por la media de la tasa de fecundidad adolescente (nacimientos por cada 1000 mujeres de 15 a 19 años)"
   ]
  },
  {
   "cell_type": "code",
   "execution_count": 20,
   "metadata": {},
   "outputs": [],
   "source": [
    "total_1990 = (\n",
    "    filtro1990\n",
    "    .groupby('Country Name')['Adolescent fertility rate (births per 1,000 women ages 15-19)']\n",
    "    .mean()\n",
    "    .reset_index()\n",
    "    .sort_values(by='Adolescent fertility rate (births per 1,000 women ages 15-19)',ascending=False)\n",
    ")"
   ]
  },
  {
   "cell_type": "code",
   "execution_count": 21,
   "metadata": {},
   "outputs": [
    {
     "data": {
      "text/html": [
       "<div>\n",
       "<style scoped>\n",
       "    .dataframe tbody tr th:only-of-type {\n",
       "        vertical-align: middle;\n",
       "    }\n",
       "\n",
       "    .dataframe tbody tr th {\n",
       "        vertical-align: top;\n",
       "    }\n",
       "\n",
       "    .dataframe thead th {\n",
       "        text-align: right;\n",
       "    }\n",
       "</style>\n",
       "<table border=\"1\" class=\"dataframe\">\n",
       "  <thead>\n",
       "    <tr style=\"text-align: right;\">\n",
       "      <th></th>\n",
       "      <th>Country Name</th>\n",
       "      <th>Adolescent fertility rate (births per 1,000 women ages 15-19)</th>\n",
       "    </tr>\n",
       "  </thead>\n",
       "  <tbody>\n",
       "    <tr>\n",
       "      <th>142</th>\n",
       "      <td>Niger</td>\n",
       "      <td>223.6904</td>\n",
       "    </tr>\n",
       "    <tr>\n",
       "      <th>37</th>\n",
       "      <td>Chad</td>\n",
       "      <td>218.0928</td>\n",
       "    </tr>\n",
       "    <tr>\n",
       "      <th>5</th>\n",
       "      <td>Angola</td>\n",
       "      <td>216.6000</td>\n",
       "    </tr>\n",
       "    <tr>\n",
       "      <th>121</th>\n",
       "      <td>Mali</td>\n",
       "      <td>195.5498</td>\n",
       "    </tr>\n",
       "    <tr>\n",
       "      <th>59</th>\n",
       "      <td>Equatorial guinea</td>\n",
       "      <td>192.8120</td>\n",
       "    </tr>\n",
       "  </tbody>\n",
       "</table>\n",
       "</div>"
      ],
      "text/plain": [
       "          Country Name  \\\n",
       "142              Niger   \n",
       "37                Chad   \n",
       "5               Angola   \n",
       "121               Mali   \n",
       "59   Equatorial guinea   \n",
       "\n",
       "     Adolescent fertility rate (births per 1,000 women ages 15-19)  \n",
       "142                                           223.6904              \n",
       "37                                            218.0928              \n",
       "5                                             216.6000              \n",
       "121                                           195.5498              \n",
       "59                                            192.8120              "
      ]
     },
     "execution_count": 21,
     "metadata": {},
     "output_type": "execute_result"
    }
   ],
   "source": [
    "total_1990.head()"
   ]
  },
  {
   "cell_type": "code",
   "execution_count": 24,
   "metadata": {},
   "outputs": [],
   "source": [
    "total_2000 = (\n",
    "    filtro2000\n",
    "    .groupby('Country Name')['Adolescent fertility rate (births per 1,000 women ages 15-19)']\n",
    "    .mean()\n",
    "    .reset_index()\n",
    "    .sort_values(by='Adolescent fertility rate (births per 1,000 women ages 15-19)',ascending=False)\n",
    ")"
   ]
  },
  {
   "cell_type": "code",
   "execution_count": 25,
   "metadata": {},
   "outputs": [
    {
     "data": {
      "text/html": [
       "<div>\n",
       "<style scoped>\n",
       "    .dataframe tbody tr th:only-of-type {\n",
       "        vertical-align: middle;\n",
       "    }\n",
       "\n",
       "    .dataframe tbody tr th {\n",
       "        vertical-align: top;\n",
       "    }\n",
       "\n",
       "    .dataframe thead th {\n",
       "        text-align: right;\n",
       "    }\n",
       "</style>\n",
       "<table border=\"1\" class=\"dataframe\">\n",
       "  <thead>\n",
       "    <tr style=\"text-align: right;\">\n",
       "      <th></th>\n",
       "      <th>Country Name</th>\n",
       "      <th>Adolescent fertility rate (births per 1,000 women ages 15-19)</th>\n",
       "    </tr>\n",
       "  </thead>\n",
       "  <tbody>\n",
       "    <tr>\n",
       "      <th>142</th>\n",
       "      <td>Niger</td>\n",
       "      <td>217.1594</td>\n",
       "    </tr>\n",
       "    <tr>\n",
       "      <th>37</th>\n",
       "      <td>Chad</td>\n",
       "      <td>212.4100</td>\n",
       "    </tr>\n",
       "    <tr>\n",
       "      <th>5</th>\n",
       "      <td>Angola</td>\n",
       "      <td>196.6992</td>\n",
       "    </tr>\n",
       "    <tr>\n",
       "      <th>121</th>\n",
       "      <td>Mali</td>\n",
       "      <td>188.1362</td>\n",
       "    </tr>\n",
       "    <tr>\n",
       "      <th>133</th>\n",
       "      <td>Mozambique</td>\n",
       "      <td>183.1252</td>\n",
       "    </tr>\n",
       "  </tbody>\n",
       "</table>\n",
       "</div>"
      ],
      "text/plain": [
       "    Country Name  \\\n",
       "142        Niger   \n",
       "37          Chad   \n",
       "5         Angola   \n",
       "121         Mali   \n",
       "133   Mozambique   \n",
       "\n",
       "     Adolescent fertility rate (births per 1,000 women ages 15-19)  \n",
       "142                                           217.1594              \n",
       "37                                            212.4100              \n",
       "5                                             196.6992              \n",
       "121                                           188.1362              \n",
       "133                                           183.1252              "
      ]
     },
     "execution_count": 25,
     "metadata": {},
     "output_type": "execute_result"
    }
   ],
   "source": [
    "total_2000.head()"
   ]
  },
  {
   "cell_type": "code",
   "execution_count": 32,
   "metadata": {},
   "outputs": [],
   "source": [
    "total_2020 = (\n",
    "    filtro2020\n",
    "    .groupby('Country Name')['Adolescent fertility rate (births per 1,000 women ages 15-19)']\n",
    "    .mean()\n",
    "    .reset_index()\n",
    "    .sort_values(by='Adolescent fertility rate (births per 1,000 women ages 15-19)',ascending=False)\n",
    ")"
   ]
  },
  {
   "cell_type": "code",
   "execution_count": 33,
   "metadata": {},
   "outputs": [
    {
     "data": {
      "text/html": [
       "<div>\n",
       "<style scoped>\n",
       "    .dataframe tbody tr th:only-of-type {\n",
       "        vertical-align: middle;\n",
       "    }\n",
       "\n",
       "    .dataframe tbody tr th {\n",
       "        vertical-align: top;\n",
       "    }\n",
       "\n",
       "    .dataframe thead th {\n",
       "        text-align: right;\n",
       "    }\n",
       "</style>\n",
       "<table border=\"1\" class=\"dataframe\">\n",
       "  <thead>\n",
       "    <tr style=\"text-align: right;\">\n",
       "      <th></th>\n",
       "      <th>Country Name</th>\n",
       "      <th>Adolescent fertility rate (births per 1,000 women ages 15-19)</th>\n",
       "    </tr>\n",
       "  </thead>\n",
       "  <tbody>\n",
       "    <tr>\n",
       "      <th>142</th>\n",
       "      <td>Niger</td>\n",
       "      <td>177.4642</td>\n",
       "    </tr>\n",
       "    <tr>\n",
       "      <th>121</th>\n",
       "      <td>Mali</td>\n",
       "      <td>162.3464</td>\n",
       "    </tr>\n",
       "    <tr>\n",
       "      <th>37</th>\n",
       "      <td>Chad</td>\n",
       "      <td>151.5632</td>\n",
       "    </tr>\n",
       "    <tr>\n",
       "      <th>59</th>\n",
       "      <td>Equatorial guinea</td>\n",
       "      <td>149.1132</td>\n",
       "    </tr>\n",
       "    <tr>\n",
       "      <th>5</th>\n",
       "      <td>Angola</td>\n",
       "      <td>142.8220</td>\n",
       "    </tr>\n",
       "  </tbody>\n",
       "</table>\n",
       "</div>"
      ],
      "text/plain": [
       "          Country Name  \\\n",
       "142              Niger   \n",
       "121               Mali   \n",
       "37                Chad   \n",
       "59   Equatorial guinea   \n",
       "5               Angola   \n",
       "\n",
       "     Adolescent fertility rate (births per 1,000 women ages 15-19)  \n",
       "142                                           177.4642              \n",
       "121                                           162.3464              \n",
       "37                                            151.5632              \n",
       "59                                            149.1132              \n",
       "5                                             142.8220              "
      ]
     },
     "execution_count": 33,
     "metadata": {},
     "output_type": "execute_result"
    }
   ],
   "source": [
    "total_2020.head()"
   ]
  },
  {
   "attachments": {},
   "cell_type": "markdown",
   "metadata": {},
   "source": [
    "\n",
    "\n",
    "Los paises que más indices de nacimiento tienen entre los 15 y 19 años son Nigeria, Mali, Chad, Equatorial Guinea y Angola.\n",
    "\n",
    "Cabe mencionar que desde 1990 hasta 2020 los números de nacimientos con respecto a esta condición a venido  disminuyendo"
   ]
  },
  {
   "cell_type": "code",
   "execution_count": 34,
   "metadata": {},
   "outputs": [],
   "source": [
    "##Vizualizacion del top15 de paises con mayor tasa de fertilidad por cada 1000 mujeres en la edad de 15 a 19 años\n",
    "total_popul_df = (\n",
    "    filtro1990\n",
    "    .groupby('Country Name')['Adolescent fertility rate (births per 1,000 women ages 15-19)']\n",
    "    .mean()\n",
    "    .reset_index()\n",
    "    .sort_values(by='Adolescent fertility rate (births per 1,000 women ages 15-19)',ascending=False)\n",
    ").head(16)"
   ]
  },
  {
   "cell_type": "code",
   "execution_count": 35,
   "metadata": {},
   "outputs": [
    {
     "data": {
      "text/plain": [
       "<AxesSubplot: ylabel='Adolescent fertility rate (births per 1,000 women ages 15-19)'>"
      ]
     },
     "execution_count": 35,
     "metadata": {},
     "output_type": "execute_result"
    },
    {
     "data": {
      "image/png": "[encoded data removed]",
      "text/plain": [
       "<Figure size 1000x1000 with 1 Axes>"
      ]
     },
     "metadata": {},
     "output_type": "display_data"
    }
   ],
   "source": [
    "total_popul_df.set_index('Country Name').plot.pie(y='Adolescent fertility rate (births per 1,000 women ages 15-19)', figsize=(10,10),colormap='magma')"
   ]
  },
  {
   "attachments": {},
   "cell_type": "markdown",
   "metadata": {},
   "source": [
    "                            Filtrando por la media de la probabilidad de morir entre los niños de 5 a 9 años (por 1000)"
   ]
  },
  {
   "cell_type": "code",
   "execution_count": 36,
   "metadata": {},
   "outputs": [],
   "source": [
    "serie2_1990 = (\n",
    "    filtro1990\n",
    "    .groupby('Country Name')['Probability of dying among children ages 5-9 years (per 1,000)']\n",
    "    .mean()\n",
    "    .reset_index()\n",
    "    .sort_values(by='Probability of dying among children ages 5-9 years (per 1,000)', ascending=False)\n",
    ")"
   ]
  },
  {
   "cell_type": "code",
   "execution_count": 37,
   "metadata": {},
   "outputs": [
    {
     "data": {
      "text/html": [
       "<div>\n",
       "<style scoped>\n",
       "    .dataframe tbody tr th:only-of-type {\n",
       "        vertical-align: middle;\n",
       "    }\n",
       "\n",
       "    .dataframe tbody tr th {\n",
       "        vertical-align: top;\n",
       "    }\n",
       "\n",
       "    .dataframe thead th {\n",
       "        text-align: right;\n",
       "    }\n",
       "</style>\n",
       "<table border=\"1\" class=\"dataframe\">\n",
       "  <thead>\n",
       "    <tr style=\"text-align: right;\">\n",
       "      <th></th>\n",
       "      <th>Country Name</th>\n",
       "      <th>Probability of dying among children ages 5-9 years (per 1,000)</th>\n",
       "    </tr>\n",
       "  </thead>\n",
       "  <tbody>\n",
       "    <tr>\n",
       "      <th>63</th>\n",
       "      <td>Ethiopia</td>\n",
       "      <td>52.8</td>\n",
       "    </tr>\n",
       "    <tr>\n",
       "      <th>142</th>\n",
       "      <td>Niger</td>\n",
       "      <td>49.1</td>\n",
       "    </tr>\n",
       "    <tr>\n",
       "      <th>161</th>\n",
       "      <td>Rwanda</td>\n",
       "      <td>40.9</td>\n",
       "    </tr>\n",
       "    <tr>\n",
       "      <th>133</th>\n",
       "      <td>Mozambique</td>\n",
       "      <td>40.3</td>\n",
       "    </tr>\n",
       "    <tr>\n",
       "      <th>30</th>\n",
       "      <td>Burundi</td>\n",
       "      <td>40.1</td>\n",
       "    </tr>\n",
       "  </tbody>\n",
       "</table>\n",
       "</div>"
      ],
      "text/plain": [
       "    Country Name  \\\n",
       "63      Ethiopia   \n",
       "142        Niger   \n",
       "161       Rwanda   \n",
       "133   Mozambique   \n",
       "30       Burundi   \n",
       "\n",
       "     Probability of dying among children ages 5-9 years (per 1,000)  \n",
       "63                                                52.8               \n",
       "142                                               49.1               \n",
       "161                                               40.9               \n",
       "133                                               40.3               \n",
       "30                                                40.1               "
      ]
     },
     "execution_count": 37,
     "metadata": {},
     "output_type": "execute_result"
    }
   ],
   "source": [
    "serie2_1990.head()"
   ]
  },
  {
   "cell_type": "code",
   "execution_count": 38,
   "metadata": {},
   "outputs": [],
   "source": [
    "serie2_1995 = (\n",
    "    filtro1995\n",
    "    .groupby('Country Name')['Probability of dying among children ages 5-9 years (per 1,000)']\n",
    "    .mean()\n",
    "    .reset_index()\n",
    "    .sort_values(by='Probability of dying among children ages 5-9 years (per 1,000)', ascending=False)\n",
    ")"
   ]
  },
  {
   "cell_type": "code",
   "execution_count": 39,
   "metadata": {},
   "outputs": [
    {
     "data": {
      "text/html": [
       "<div>\n",
       "<style scoped>\n",
       "    .dataframe tbody tr th:only-of-type {\n",
       "        vertical-align: middle;\n",
       "    }\n",
       "\n",
       "    .dataframe tbody tr th {\n",
       "        vertical-align: top;\n",
       "    }\n",
       "\n",
       "    .dataframe thead th {\n",
       "        text-align: right;\n",
       "    }\n",
       "</style>\n",
       "<table border=\"1\" class=\"dataframe\">\n",
       "  <thead>\n",
       "    <tr style=\"text-align: right;\">\n",
       "      <th></th>\n",
       "      <th>Country Name</th>\n",
       "      <th>Probability of dying among children ages 5-9 years (per 1,000)</th>\n",
       "    </tr>\n",
       "  </thead>\n",
       "  <tbody>\n",
       "    <tr>\n",
       "      <th>161</th>\n",
       "      <td>Rwanda</td>\n",
       "      <td>63.8</td>\n",
       "    </tr>\n",
       "    <tr>\n",
       "      <th>30</th>\n",
       "      <td>Burundi</td>\n",
       "      <td>44.8</td>\n",
       "    </tr>\n",
       "    <tr>\n",
       "      <th>142</th>\n",
       "      <td>Niger</td>\n",
       "      <td>41.8</td>\n",
       "    </tr>\n",
       "    <tr>\n",
       "      <th>63</th>\n",
       "      <td>Ethiopia</td>\n",
       "      <td>40.1</td>\n",
       "    </tr>\n",
       "    <tr>\n",
       "      <th>5</th>\n",
       "      <td>Angola</td>\n",
       "      <td>32.3</td>\n",
       "    </tr>\n",
       "  </tbody>\n",
       "</table>\n",
       "</div>"
      ],
      "text/plain": [
       "    Country Name  \\\n",
       "161       Rwanda   \n",
       "30       Burundi   \n",
       "142        Niger   \n",
       "63      Ethiopia   \n",
       "5         Angola   \n",
       "\n",
       "     Probability of dying among children ages 5-9 years (per 1,000)  \n",
       "161                                               63.8               \n",
       "30                                                44.8               \n",
       "142                                               41.8               \n",
       "63                                                40.1               \n",
       "5                                                 32.3               "
      ]
     },
     "execution_count": 39,
     "metadata": {},
     "output_type": "execute_result"
    }
   ],
   "source": [
    "serie2_1995.head()"
   ]
  },
  {
   "attachments": {},
   "cell_type": "markdown",
   "metadata": {},
   "source": [
    "Podemos apreciar como Rwanda pasa a estar en el primer nivel en numero de muertes esto se debe quizas a los eventos historicos que ocurrienron desde 1994 en esta region donde aproximadamente 800.000 personas fueron asesinadas en apenas cien días y otras dos millones huyeron del país (según google)"
   ]
  },
  {
   "attachments": {},
   "cell_type": "markdown",
   "metadata": {},
   "source": [
    "Considerar ver el flujo de migrantes de este pais durante este año"
   ]
  },
  {
   "cell_type": "code",
   "execution_count": 156,
   "metadata": {},
   "outputs": [],
   "source": [
    "filtro_migrantes_rwanda = emigrantes[emigrantes['Region, development group, country or area'] == 'rwanda']"
   ]
  },
  {
   "cell_type": "code",
   "execution_count": 157,
   "metadata": {},
   "outputs": [
    {
     "data": {
      "text/html": [
       "<div>\n",
       "<style scoped>\n",
       "    .dataframe tbody tr th:only-of-type {\n",
       "        vertical-align: middle;\n",
       "    }\n",
       "\n",
       "    .dataframe tbody tr th {\n",
       "        vertical-align: top;\n",
       "    }\n",
       "\n",
       "    .dataframe thead th {\n",
       "        text-align: right;\n",
       "    }\n",
       "</style>\n",
       "<table border=\"1\" class=\"dataframe\">\n",
       "  <thead>\n",
       "    <tr style=\"text-align: right;\">\n",
       "      <th></th>\n",
       "      <th>Region, development group, country or area</th>\n",
       "      <th>Location code</th>\n",
       "      <th>1990</th>\n",
       "      <th>1995</th>\n",
       "      <th>2000</th>\n",
       "      <th>2005</th>\n",
       "      <th>2010</th>\n",
       "      <th>2015</th>\n",
       "      <th>2020</th>\n",
       "    </tr>\n",
       "  </thead>\n",
       "  <tbody>\n",
       "    <tr>\n",
       "      <th>12</th>\n",
       "      <td>rwanda</td>\n",
       "      <td>646</td>\n",
       "      <td>547717</td>\n",
       "      <td>2060363</td>\n",
       "      <td>318198</td>\n",
       "      <td>289100</td>\n",
       "      <td>334244</td>\n",
       "      <td>503667</td>\n",
       "      <td>492489</td>\n",
       "    </tr>\n",
       "  </tbody>\n",
       "</table>\n",
       "</div>"
      ],
      "text/plain": [
       "   Region, development group, country or area  Location code    1990     1995  \\\n",
       "12                                     rwanda            646  547717  2060363   \n",
       "\n",
       "      2000    2005    2010    2015    2020  \n",
       "12  318198  289100  334244  503667  492489  "
      ]
     },
     "execution_count": 157,
     "metadata": {},
     "output_type": "execute_result"
    }
   ],
   "source": [
    "filtro_migrantes_rwanda.head() ##Stock de migrantes: (pais de origen Rwanda)"
   ]
  },
  {
   "cell_type": "code",
   "execution_count": 181,
   "metadata": {},
   "outputs": [
    {
     "name": "stderr",
     "output_type": "stream",
     "text": [
      "C:\\Users\\USER\\AppData\\Local\\Temp\\ipykernel_17692\\834124877.py:6: UserWarning: FixedFormatter should only be used together with FixedLocator\n",
      "  ax.set_xticklabels(range(1985, 2021, 5), rotation=90)\n"
     ]
    },
    {
     "data": {
      "image/png": "[encoded data removed]",
      "text/plain": [
       "<Figure size 500x500 with 1 Axes>"
      ]
     },
     "metadata": {},
     "output_type": "display_data"
    }
   ],
   "source": [
    "fig, ax = plt.subplots(figsize=(5,5))\n",
    "\n",
    "rwanda = filtro_migrantes_rwanda.loc[filtro_migrantes_rwanda['Region, development group, country or area'] == 'rwanda', '1990':'2020']\n",
    "ax.plot(rwanda.values[0], color='blue')\n",
    "ax.set_title('Cambio en la cantidad de migrantes de Rwanda durante los ultimos años')\n",
    "ax.set_xticklabels(range(1985, 2021, 5), rotation=90)\n",
    "plt.show()"
   ]
  },
  {
   "attachments": {},
   "cell_type": "markdown",
   "metadata": {},
   "source": [
    "Podemos apreciar visualmente como el indicador de la probabilidad de morir entre los 5 -9 años afecto de manera indirecta a la poblacion en Rwanda aumentando así el flujo de migrantes durante el año 1995"
   ]
  },
  {
   "cell_type": "code",
   "execution_count": 40,
   "metadata": {},
   "outputs": [],
   "source": [
    "serie2_2000 = (\n",
    "    filtro2000\n",
    "    .groupby('Country Name')['Probability of dying among children ages 5-9 years (per 1,000)']\n",
    "    .mean()\n",
    "    .reset_index()\n",
    "    .sort_values(by='Probability of dying among children ages 5-9 years (per 1,000)', ascending=False)\n",
    ")"
   ]
  },
  {
   "cell_type": "code",
   "execution_count": 41,
   "metadata": {},
   "outputs": [
    {
     "data": {
      "text/html": [
       "<div>\n",
       "<style scoped>\n",
       "    .dataframe tbody tr th:only-of-type {\n",
       "        vertical-align: middle;\n",
       "    }\n",
       "\n",
       "    .dataframe tbody tr th {\n",
       "        vertical-align: top;\n",
       "    }\n",
       "\n",
       "    .dataframe thead th {\n",
       "        text-align: right;\n",
       "    }\n",
       "</style>\n",
       "<table border=\"1\" class=\"dataframe\">\n",
       "  <thead>\n",
       "    <tr style=\"text-align: right;\">\n",
       "      <th></th>\n",
       "      <th>Country Name</th>\n",
       "      <th>Probability of dying among children ages 5-9 years (per 1,000)</th>\n",
       "    </tr>\n",
       "  </thead>\n",
       "  <tbody>\n",
       "    <tr>\n",
       "      <th>30</th>\n",
       "      <td>Burundi</td>\n",
       "      <td>39.2</td>\n",
       "    </tr>\n",
       "    <tr>\n",
       "      <th>161</th>\n",
       "      <td>Rwanda</td>\n",
       "      <td>34.9</td>\n",
       "    </tr>\n",
       "    <tr>\n",
       "      <th>142</th>\n",
       "      <td>Niger</td>\n",
       "      <td>33.7</td>\n",
       "    </tr>\n",
       "    <tr>\n",
       "      <th>5</th>\n",
       "      <td>Angola</td>\n",
       "      <td>29.6</td>\n",
       "    </tr>\n",
       "    <tr>\n",
       "      <th>63</th>\n",
       "      <td>Ethiopia</td>\n",
       "      <td>29.3</td>\n",
       "    </tr>\n",
       "  </tbody>\n",
       "</table>\n",
       "</div>"
      ],
      "text/plain": [
       "    Country Name  \\\n",
       "30       Burundi   \n",
       "161       Rwanda   \n",
       "142        Niger   \n",
       "5         Angola   \n",
       "63      Ethiopia   \n",
       "\n",
       "     Probability of dying among children ages 5-9 years (per 1,000)  \n",
       "30                                                39.2               \n",
       "161                                               34.9               \n",
       "142                                               33.7               \n",
       "5                                                 29.6               \n",
       "63                                                29.3               "
      ]
     },
     "execution_count": 41,
     "metadata": {},
     "output_type": "execute_result"
    }
   ],
   "source": [
    "serie2_2000.head()"
   ]
  },
  {
   "cell_type": "code",
   "execution_count": 42,
   "metadata": {},
   "outputs": [],
   "source": [
    "serie2_2005 = (\n",
    "    filtro2005\n",
    "    .groupby('Country Name')['Probability of dying among children ages 5-9 years (per 1,000)']\n",
    "    .mean()\n",
    "    .reset_index()\n",
    "    .sort_values(by='Probability of dying among children ages 5-9 years (per 1,000)', ascending=False)\n",
    ")"
   ]
  },
  {
   "cell_type": "code",
   "execution_count": 43,
   "metadata": {},
   "outputs": [
    {
     "data": {
      "text/html": [
       "<div>\n",
       "<style scoped>\n",
       "    .dataframe tbody tr th:only-of-type {\n",
       "        vertical-align: middle;\n",
       "    }\n",
       "\n",
       "    .dataframe tbody tr th {\n",
       "        vertical-align: top;\n",
       "    }\n",
       "\n",
       "    .dataframe thead th {\n",
       "        text-align: right;\n",
       "    }\n",
       "</style>\n",
       "<table border=\"1\" class=\"dataframe\">\n",
       "  <thead>\n",
       "    <tr style=\"text-align: right;\">\n",
       "      <th></th>\n",
       "      <th>Country Name</th>\n",
       "      <th>Probability of dying among children ages 5-9 years (per 1,000)</th>\n",
       "    </tr>\n",
       "  </thead>\n",
       "  <tbody>\n",
       "    <tr>\n",
       "      <th>142</th>\n",
       "      <td>Niger</td>\n",
       "      <td>26.9</td>\n",
       "    </tr>\n",
       "    <tr>\n",
       "      <th>175</th>\n",
       "      <td>Somalia</td>\n",
       "      <td>24.8</td>\n",
       "    </tr>\n",
       "    <tr>\n",
       "      <th>30</th>\n",
       "      <td>Burundi</td>\n",
       "      <td>24.0</td>\n",
       "    </tr>\n",
       "    <tr>\n",
       "      <th>5</th>\n",
       "      <td>Angola</td>\n",
       "      <td>23.8</td>\n",
       "    </tr>\n",
       "    <tr>\n",
       "      <th>37</th>\n",
       "      <td>Chad</td>\n",
       "      <td>22.5</td>\n",
       "    </tr>\n",
       "  </tbody>\n",
       "</table>\n",
       "</div>"
      ],
      "text/plain": [
       "    Country Name  \\\n",
       "142        Niger   \n",
       "175      Somalia   \n",
       "30       Burundi   \n",
       "5         Angola   \n",
       "37          Chad   \n",
       "\n",
       "     Probability of dying among children ages 5-9 years (per 1,000)  \n",
       "142                                               26.9               \n",
       "175                                               24.8               \n",
       "30                                                24.0               \n",
       "5                                                 23.8               \n",
       "37                                                22.5               "
      ]
     },
     "execution_count": 43,
     "metadata": {},
     "output_type": "execute_result"
    }
   ],
   "source": [
    "serie2_2005.head()"
   ]
  },
  {
   "cell_type": "code",
   "execution_count": 44,
   "metadata": {},
   "outputs": [],
   "source": [
    "serie2_2010 = (\n",
    "    filtro2010\n",
    "    .groupby('Country Name')['Probability of dying among children ages 5-9 years (per 1,000)']\n",
    "    .mean()\n",
    "    .reset_index()\n",
    "    .sort_values(by='Probability of dying among children ages 5-9 years (per 1,000)', ascending=False)\n",
    ")"
   ]
  },
  {
   "cell_type": "code",
   "execution_count": 45,
   "metadata": {},
   "outputs": [
    {
     "data": {
      "text/html": [
       "<div>\n",
       "<style scoped>\n",
       "    .dataframe tbody tr th:only-of-type {\n",
       "        vertical-align: middle;\n",
       "    }\n",
       "\n",
       "    .dataframe tbody tr th {\n",
       "        vertical-align: top;\n",
       "    }\n",
       "\n",
       "    .dataframe thead th {\n",
       "        text-align: right;\n",
       "    }\n",
       "</style>\n",
       "<table border=\"1\" class=\"dataframe\">\n",
       "  <thead>\n",
       "    <tr style=\"text-align: right;\">\n",
       "      <th></th>\n",
       "      <th>Country Name</th>\n",
       "      <th>Probability of dying among children ages 5-9 years (per 1,000)</th>\n",
       "    </tr>\n",
       "  </thead>\n",
       "  <tbody>\n",
       "    <tr>\n",
       "      <th>142</th>\n",
       "      <td>Niger</td>\n",
       "      <td>26.9</td>\n",
       "    </tr>\n",
       "    <tr>\n",
       "      <th>175</th>\n",
       "      <td>Somalia</td>\n",
       "      <td>24.8</td>\n",
       "    </tr>\n",
       "    <tr>\n",
       "      <th>30</th>\n",
       "      <td>Burundi</td>\n",
       "      <td>24.0</td>\n",
       "    </tr>\n",
       "    <tr>\n",
       "      <th>5</th>\n",
       "      <td>Angola</td>\n",
       "      <td>23.8</td>\n",
       "    </tr>\n",
       "    <tr>\n",
       "      <th>37</th>\n",
       "      <td>Chad</td>\n",
       "      <td>22.5</td>\n",
       "    </tr>\n",
       "  </tbody>\n",
       "</table>\n",
       "</div>"
      ],
      "text/plain": [
       "    Country Name  \\\n",
       "142        Niger   \n",
       "175      Somalia   \n",
       "30       Burundi   \n",
       "5         Angola   \n",
       "37          Chad   \n",
       "\n",
       "     Probability of dying among children ages 5-9 years (per 1,000)  \n",
       "142                                               26.9               \n",
       "175                                               24.8               \n",
       "30                                                24.0               \n",
       "5                                                 23.8               \n",
       "37                                                22.5               "
      ]
     },
     "execution_count": 45,
     "metadata": {},
     "output_type": "execute_result"
    }
   ],
   "source": [
    "serie2_2005.head()"
   ]
  },
  {
   "cell_type": "code",
   "execution_count": 46,
   "metadata": {},
   "outputs": [],
   "source": [
    "serie2_2010 = (\n",
    "    filtro2010\n",
    "    .groupby('Country Name')['Probability of dying among children ages 5-9 years (per 1,000)']\n",
    "    .mean()\n",
    "    .reset_index()\n",
    "    .sort_values(by='Probability of dying among children ages 5-9 years (per 1,000)', ascending=False)\n",
    ")"
   ]
  },
  {
   "cell_type": "code",
   "execution_count": 47,
   "metadata": {},
   "outputs": [
    {
     "data": {
      "text/html": [
       "<div>\n",
       "<style scoped>\n",
       "    .dataframe tbody tr th:only-of-type {\n",
       "        vertical-align: middle;\n",
       "    }\n",
       "\n",
       "    .dataframe tbody tr th {\n",
       "        vertical-align: top;\n",
       "    }\n",
       "\n",
       "    .dataframe thead th {\n",
       "        text-align: right;\n",
       "    }\n",
       "</style>\n",
       "<table border=\"1\" class=\"dataframe\">\n",
       "  <thead>\n",
       "    <tr style=\"text-align: right;\">\n",
       "      <th></th>\n",
       "      <th>Country Name</th>\n",
       "      <th>Probability of dying among children ages 5-9 years (per 1,000)</th>\n",
       "    </tr>\n",
       "  </thead>\n",
       "  <tbody>\n",
       "    <tr>\n",
       "      <th>83</th>\n",
       "      <td>Haiti</td>\n",
       "      <td>100.7</td>\n",
       "    </tr>\n",
       "    <tr>\n",
       "      <th>175</th>\n",
       "      <td>Somalia</td>\n",
       "      <td>25.2</td>\n",
       "    </tr>\n",
       "    <tr>\n",
       "      <th>142</th>\n",
       "      <td>Niger</td>\n",
       "      <td>22.1</td>\n",
       "    </tr>\n",
       "    <tr>\n",
       "      <th>37</th>\n",
       "      <td>Chad</td>\n",
       "      <td>19.0</td>\n",
       "    </tr>\n",
       "    <tr>\n",
       "      <th>36</th>\n",
       "      <td>Central african republic</td>\n",
       "      <td>17.8</td>\n",
       "    </tr>\n",
       "  </tbody>\n",
       "</table>\n",
       "</div>"
      ],
      "text/plain": [
       "                 Country Name  \\\n",
       "83                      Haiti   \n",
       "175                   Somalia   \n",
       "142                     Niger   \n",
       "37                       Chad   \n",
       "36   Central african republic   \n",
       "\n",
       "     Probability of dying among children ages 5-9 years (per 1,000)  \n",
       "83                                               100.7               \n",
       "175                                               25.2               \n",
       "142                                               22.1               \n",
       "37                                                19.0               \n",
       "36                                                17.8               "
      ]
     },
     "execution_count": 47,
     "metadata": {},
     "output_type": "execute_result"
    }
   ],
   "source": [
    "serie2_2010.head()"
   ]
  },
  {
   "attachments": {},
   "cell_type": "markdown",
   "metadata": {},
   "source": [
    "Podemos apreciar como Haiti se posiciona en el primer país con mas muertes en niños de 5 - 9 años según los eventos historicos en este año hubo un terremoto que dejo más de 360000 muertes y aproximadamente 1500000 damnificados se deberia ver el flujo migratorio para este pais despues de estos eventos"
   ]
  },
  {
   "cell_type": "code",
   "execution_count": 48,
   "metadata": {},
   "outputs": [],
   "source": [
    "serie2_2015 = (\n",
    "    filtro2015\n",
    "    .groupby('Country Name')['Probability of dying among children ages 5-9 years (per 1,000)']\n",
    "    .mean()\n",
    "    .reset_index()\n",
    "    .sort_values(by='Probability of dying among children ages 5-9 years (per 1,000)', ascending=False)\n",
    ")"
   ]
  },
  {
   "cell_type": "code",
   "execution_count": 49,
   "metadata": {},
   "outputs": [
    {
     "data": {
      "text/html": [
       "<div>\n",
       "<style scoped>\n",
       "    .dataframe tbody tr th:only-of-type {\n",
       "        vertical-align: middle;\n",
       "    }\n",
       "\n",
       "    .dataframe tbody tr th {\n",
       "        vertical-align: top;\n",
       "    }\n",
       "\n",
       "    .dataframe thead th {\n",
       "        text-align: right;\n",
       "    }\n",
       "</style>\n",
       "<table border=\"1\" class=\"dataframe\">\n",
       "  <thead>\n",
       "    <tr style=\"text-align: right;\">\n",
       "      <th></th>\n",
       "      <th>Country Name</th>\n",
       "      <th>Probability of dying among children ages 5-9 years (per 1,000)</th>\n",
       "    </tr>\n",
       "  </thead>\n",
       "  <tbody>\n",
       "    <tr>\n",
       "      <th>175</th>\n",
       "      <td>Somalia</td>\n",
       "      <td>19.0</td>\n",
       "    </tr>\n",
       "    <tr>\n",
       "      <th>142</th>\n",
       "      <td>Niger</td>\n",
       "      <td>18.7</td>\n",
       "    </tr>\n",
       "    <tr>\n",
       "      <th>36</th>\n",
       "      <td>Central african republic</td>\n",
       "      <td>17.3</td>\n",
       "    </tr>\n",
       "    <tr>\n",
       "      <th>169</th>\n",
       "      <td>Sierra leone</td>\n",
       "      <td>16.8</td>\n",
       "    </tr>\n",
       "    <tr>\n",
       "      <th>37</th>\n",
       "      <td>Chad</td>\n",
       "      <td>15.9</td>\n",
       "    </tr>\n",
       "  </tbody>\n",
       "</table>\n",
       "</div>"
      ],
      "text/plain": [
       "                 Country Name  \\\n",
       "175                   Somalia   \n",
       "142                     Niger   \n",
       "36   Central african republic   \n",
       "169              Sierra leone   \n",
       "37                       Chad   \n",
       "\n",
       "     Probability of dying among children ages 5-9 years (per 1,000)  \n",
       "175                                               19.0               \n",
       "142                                               18.7               \n",
       "36                                                17.3               \n",
       "169                                               16.8               \n",
       "37                                                15.9               "
      ]
     },
     "execution_count": 49,
     "metadata": {},
     "output_type": "execute_result"
    }
   ],
   "source": [
    "serie2_2015.head()"
   ]
  },
  {
   "cell_type": "code",
   "execution_count": 50,
   "metadata": {},
   "outputs": [],
   "source": [
    "serie2_2020 = (\n",
    "    filtro2020\n",
    "    .groupby('Country Name')['Probability of dying among children ages 5-9 years (per 1,000)']\n",
    "    .mean()\n",
    "    .reset_index()\n",
    "    .sort_values(by='Probability of dying among children ages 5-9 years (per 1,000)', ascending=False)\n",
    ")"
   ]
  },
  {
   "cell_type": "code",
   "execution_count": 51,
   "metadata": {},
   "outputs": [
    {
     "data": {
      "text/html": [
       "<div>\n",
       "<style scoped>\n",
       "    .dataframe tbody tr th:only-of-type {\n",
       "        vertical-align: middle;\n",
       "    }\n",
       "\n",
       "    .dataframe tbody tr th {\n",
       "        vertical-align: top;\n",
       "    }\n",
       "\n",
       "    .dataframe thead th {\n",
       "        text-align: right;\n",
       "    }\n",
       "</style>\n",
       "<table border=\"1\" class=\"dataframe\">\n",
       "  <thead>\n",
       "    <tr style=\"text-align: right;\">\n",
       "      <th></th>\n",
       "      <th>Country Name</th>\n",
       "      <th>Probability of dying among children ages 5-9 years (per 1,000)</th>\n",
       "    </tr>\n",
       "  </thead>\n",
       "  <tbody>\n",
       "    <tr>\n",
       "      <th>175</th>\n",
       "      <td>Somalia</td>\n",
       "      <td>16.1</td>\n",
       "    </tr>\n",
       "    <tr>\n",
       "      <th>169</th>\n",
       "      <td>Sierra leone</td>\n",
       "      <td>15.9</td>\n",
       "    </tr>\n",
       "    <tr>\n",
       "      <th>142</th>\n",
       "      <td>Niger</td>\n",
       "      <td>15.7</td>\n",
       "    </tr>\n",
       "    <tr>\n",
       "      <th>36</th>\n",
       "      <td>Central african republic</td>\n",
       "      <td>15.7</td>\n",
       "    </tr>\n",
       "    <tr>\n",
       "      <th>143</th>\n",
       "      <td>Nigeria</td>\n",
       "      <td>14.1</td>\n",
       "    </tr>\n",
       "  </tbody>\n",
       "</table>\n",
       "</div>"
      ],
      "text/plain": [
       "                 Country Name  \\\n",
       "175                   Somalia   \n",
       "169              Sierra leone   \n",
       "142                     Niger   \n",
       "36   Central african republic   \n",
       "143                   Nigeria   \n",
       "\n",
       "     Probability of dying among children ages 5-9 years (per 1,000)  \n",
       "175                                               16.1               \n",
       "169                                               15.9               \n",
       "142                                               15.7               \n",
       "36                                                15.7               \n",
       "143                                               14.1               "
      ]
     },
     "execution_count": 51,
     "metadata": {},
     "output_type": "execute_result"
    }
   ],
   "source": [
    "serie2_2020.head()"
   ]
  },
  {
   "attachments": {},
   "cell_type": "markdown",
   "metadata": {},
   "source": [
    "Los paises con mas probabilidad de morir en infantes desde los 5 a 9 años son Somalia, Sierra Leone, Niger y Nigeria \n",
    "\n",
    "Evaluar el flujo de emigrantes de paises como estos es muy probable de que la población quiera huir de estos paises buscando una mejor calidad de vida"
   ]
  },
  {
   "cell_type": "code",
   "execution_count": 148,
   "metadata": {},
   "outputs": [],
   "source": [
    "filtro_regiones = emigrantes[(emigrantes['Region, development group, country or area'] == 'somalia') |\n",
    "                             (emigrantes['Region, development group, country or area'] == 'sierra leone') |\n",
    "                             (emigrantes['Region, development group, country or area'] == 'niger') |\n",
    "                             (emigrantes['Region, development group, country or area'] == 'nigeria') |\n",
    "                             (emigrantes['Region, development group, country or area'] == 'haiti') |\n",
    "                             (emigrantes['Region, development group, country or area'] == 'chad')]"
   ]
  },
  {
   "cell_type": "code",
   "execution_count": 184,
   "metadata": {},
   "outputs": [
    {
     "name": "stderr",
     "output_type": "stream",
     "text": [
      "C:\\Users\\USER\\AppData\\Local\\Temp\\ipykernel_17692\\1041881466.py:6: UserWarning: FixedFormatter should only be used together with FixedLocator\n",
      "  ax.set_xticklabels(range(1985, 2021, 5), rotation=90)\n"
     ]
    },
    {
     "data": {
      "image/png": "[encoded data removed]",
      "text/plain": [
       "<Figure size 500x500 with 1 Axes>"
      ]
     },
     "metadata": {},
     "output_type": "display_data"
    }
   ],
   "source": [
    "fig, ax = plt.subplots(figsize=(5,5))\n",
    "\n",
    "somalia = filtro_regiones.loc[filtro_regiones['Region, development group, country or area'] == 'somalia', '1990':'2020']\n",
    "ax.plot(somalia.values[0], color='blue')\n",
    "ax.set_title('Cambio en la cantidad de migrantes de Somalia durante los ultimos años')\n",
    "ax.set_xticklabels(range(1985, 2021, 5), rotation=90)\n",
    "plt.show()"
   ]
  },
  {
   "cell_type": "code",
   "execution_count": 186,
   "metadata": {},
   "outputs": [
    {
     "name": "stderr",
     "output_type": "stream",
     "text": [
      "C:\\Users\\USER\\AppData\\Local\\Temp\\ipykernel_17692\\3678540315.py:6: UserWarning: FixedFormatter should only be used together with FixedLocator\n",
      "  ax.set_xticklabels(range(1985, 2021, 5), rotation=90)\n"
     ]
    },
    {
     "data": {
      "image/png": "[encoded data removed]",
      "text/plain": [
       "<Figure size 500x500 with 1 Axes>"
      ]
     },
     "metadata": {},
     "output_type": "display_data"
    }
   ],
   "source": [
    "fig, ax = plt.subplots(figsize=(5,5))\n",
    "\n",
    "sierra = filtro_regiones.loc[filtro_regiones['Region, development group, country or area'] == 'sierra leone', '1990':'2020']\n",
    "ax.plot(sierra.values[0], color='blue')\n",
    "ax.set_title('Cambio en la cantidad de migrantes de Sierra leone durante los ultimos años')\n",
    "ax.set_xticklabels(range(1985, 2021, 5), rotation=90)\n",
    "plt.show()"
   ]
  },
  {
   "cell_type": "code",
   "execution_count": 188,
   "metadata": {},
   "outputs": [
    {
     "name": "stderr",
     "output_type": "stream",
     "text": [
      "C:\\Users\\USER\\AppData\\Local\\Temp\\ipykernel_17692\\1582085098.py:6: UserWarning: FixedFormatter should only be used together with FixedLocator\n",
      "  ax.set_xticklabels(range(1985, 2021, 5), rotation=90)\n"
     ]
    },
    {
     "data": {
      "image/png": "[encoded data removed]",
      "text/plain": [
       "<Figure size 500x500 with 1 Axes>"
      ]
     },
     "metadata": {},
     "output_type": "display_data"
    }
   ],
   "source": [
    "fig, ax = plt.subplots(figsize=(5,5))\n",
    "\n",
    "niger = filtro_regiones.loc[filtro_regiones['Region, development group, country or area'] == 'niger', '1990':'2020']\n",
    "ax.plot(niger.values[0], color='blue')\n",
    "ax.set_title('Cambio en la cantidad de migrantes de Niger durante los ultimos años')\n",
    "ax.set_xticklabels(range(1985, 2021, 5), rotation=90)\n",
    "plt.show()"
   ]
  },
  {
   "cell_type": "code",
   "execution_count": 189,
   "metadata": {},
   "outputs": [
    {
     "name": "stderr",
     "output_type": "stream",
     "text": [
      "C:\\Users\\USER\\AppData\\Local\\Temp\\ipykernel_17692\\1575532294.py:6: UserWarning: FixedFormatter should only be used together with FixedLocator\n",
      "  ax.set_xticklabels(range(1985, 2021, 5), rotation=90)\n"
     ]
    },
    {
     "data": {
      "image/png": "[encoded data removed]",
      "text/plain": [
       "<Figure size 500x500 with 1 Axes>"
      ]
     },
     "metadata": {},
     "output_type": "display_data"
    }
   ],
   "source": [
    "fig, ax = plt.subplots(figsize=(5,5))\n",
    "\n",
    "nigeria = filtro_regiones.loc[filtro_regiones['Region, development group, country or area'] == 'nigeria', '1990':'2020']\n",
    "ax.plot(nigeria.values[0], color='blue')\n",
    "ax.set_title('Cambio en la cantidad de migrantes de Nigeria durante los ultimos años')\n",
    "ax.set_xticklabels(range(1985, 2021, 5), rotation=90)\n",
    "plt.show()"
   ]
  },
  {
   "cell_type": "code",
   "execution_count": 191,
   "metadata": {},
   "outputs": [
    {
     "name": "stderr",
     "output_type": "stream",
     "text": [
      "C:\\Users\\USER\\AppData\\Local\\Temp\\ipykernel_17692\\3923201202.py:6: UserWarning: FixedFormatter should only be used together with FixedLocator\n",
      "  ax.set_xticklabels(range(1985, 2021, 5), rotation=90)\n"
     ]
    },
    {
     "data": {
      "image/png": "[encoded data removed]",
      "text/plain": [
       "<Figure size 500x500 with 1 Axes>"
      ]
     },
     "metadata": {},
     "output_type": "display_data"
    }
   ],
   "source": [
    "fig, ax = plt.subplots(figsize=(5,5))\n",
    "\n",
    "chad = filtro_regiones.loc[filtro_regiones['Region, development group, country or area'] == 'chad', '1990':'2020']\n",
    "ax.plot(chad.values[0], color='blue')\n",
    "ax.set_title('Cambio en la cantidad de migrantes de chad durante los ultimos años')\n",
    "ax.set_xticklabels(range(1985, 2021, 5), rotation=90)\n",
    "plt.show()"
   ]
  },
  {
   "cell_type": "code",
   "execution_count": 192,
   "metadata": {},
   "outputs": [
    {
     "name": "stderr",
     "output_type": "stream",
     "text": [
      "C:\\Users\\USER\\AppData\\Local\\Temp\\ipykernel_17692\\2313448657.py:6: UserWarning: FixedFormatter should only be used together with FixedLocator\n",
      "  ax.set_xticklabels(range(1985, 2021, 5), rotation=90)\n"
     ]
    },
    {
     "data": {
      "image/png": "[encoded data removed]",
      "text/plain": [
       "<Figure size 500x500 with 1 Axes>"
      ]
     },
     "metadata": {},
     "output_type": "display_data"
    }
   ],
   "source": [
    "fig, ax = plt.subplots(figsize=(5,5))\n",
    "\n",
    "haiti = filtro_regiones.loc[filtro_regiones['Region, development group, country or area'] == 'haiti', '1990':'2020']\n",
    "ax.plot(haiti.values[0], color='blue')\n",
    "ax.set_title('Cambio en la cantidad de migrantes de Somalia durante los ultimos años')\n",
    "ax.set_xticklabels(range(1985, 2021, 5), rotation=90)\n",
    "plt.show()"
   ]
  },
  {
   "attachments": {},
   "cell_type": "markdown",
   "metadata": {},
   "source": [
    "podemos visualizar como al pasar de los años el numero de migrantes de estos paises con más muertes en niños de de 5 a 9 años a venido en aumento, podria ser una de las causas de estos flujos migratorios en estas regiones más debastadas por la pobreza y el abandono"
   ]
  },
  {
   "cell_type": "code",
   "execution_count": 52,
   "metadata": {},
   "outputs": [],
   "source": [
    "#Veamos si las muertes de estos infantes esta relacionada a la fertilidad en embarazo precoz teniendo las madres entre los 15-19 \n",
    "\n",
    "correlacion = filtro1990['Adolescent fertility rate (births per 1,000 women ages 15-19)'].corr(filtro1990['Probability of dying among children ages 5-9 years (per 1,000)'])"
   ]
  },
  {
   "cell_type": "code",
   "execution_count": 53,
   "metadata": {},
   "outputs": [
    {
     "data": {
      "text/plain": [
       "0.7036927970616338"
      ]
     },
     "execution_count": 53,
     "metadata": {},
     "output_type": "execute_result"
    }
   ],
   "source": [
    "correlacion"
   ]
  },
  {
   "attachments": {},
   "cell_type": "markdown",
   "metadata": {},
   "source": [
    "Si llega a interesar en nuestro analisis esto podria ser una de las causas de la muerte en infantes ya que la correlacion fue positiva aunque no siempre la correlacion implique causalidad habria que ver si se necesita se podria evaluar este caso."
   ]
  },
  {
   "attachments": {},
   "cell_type": "markdown",
   "metadata": {},
   "source": [
    "                Analisis del indicador de la media personas desde los 15 años que viven con VIH"
   ]
  },
  {
   "cell_type": "code",
   "execution_count": 54,
   "metadata": {},
   "outputs": [],
   "source": [
    "serie3_1990 = (\n",
    "    filtro1990\n",
    "    .groupby('Country Name')['Adults (ages 15+) living with HIV']\n",
    "    .mean()\n",
    "    .reset_index()\n",
    "    .sort_values(by='Adults (ages 15+) living with HIV', ascending=False)\n",
    ")"
   ]
  },
  {
   "cell_type": "code",
   "execution_count": 55,
   "metadata": {},
   "outputs": [
    {
     "data": {
      "text/html": [
       "<div>\n",
       "<style scoped>\n",
       "    .dataframe tbody tr th:only-of-type {\n",
       "        vertical-align: middle;\n",
       "    }\n",
       "\n",
       "    .dataframe tbody tr th {\n",
       "        vertical-align: top;\n",
       "    }\n",
       "\n",
       "    .dataframe thead th {\n",
       "        text-align: right;\n",
       "    }\n",
       "</style>\n",
       "<table border=\"1\" class=\"dataframe\">\n",
       "  <thead>\n",
       "    <tr style=\"text-align: right;\">\n",
       "      <th></th>\n",
       "      <th>Country Name</th>\n",
       "      <th>Adults (ages 15+) living with HIV</th>\n",
       "    </tr>\n",
       "  </thead>\n",
       "  <tbody>\n",
       "    <tr>\n",
       "      <th>216</th>\n",
       "      <td>Zimbabwe</td>\n",
       "      <td>740000.0</td>\n",
       "    </tr>\n",
       "    <tr>\n",
       "      <th>201</th>\n",
       "      <td>Uganda</td>\n",
       "      <td>740000.0</td>\n",
       "    </tr>\n",
       "    <tr>\n",
       "      <th>190</th>\n",
       "      <td>Tanzania, united republic of</td>\n",
       "      <td>630000.0</td>\n",
       "    </tr>\n",
       "    <tr>\n",
       "      <th>143</th>\n",
       "      <td>Nigeria</td>\n",
       "      <td>520000.0</td>\n",
       "    </tr>\n",
       "    <tr>\n",
       "      <th>100</th>\n",
       "      <td>Kenya</td>\n",
       "      <td>490000.0</td>\n",
       "    </tr>\n",
       "  </tbody>\n",
       "</table>\n",
       "</div>"
      ],
      "text/plain": [
       "                     Country Name  Adults (ages 15+) living with HIV\n",
       "216                      Zimbabwe                           740000.0\n",
       "201                        Uganda                           740000.0\n",
       "190  Tanzania, united republic of                           630000.0\n",
       "143                       Nigeria                           520000.0\n",
       "100                         Kenya                           490000.0"
      ]
     },
     "execution_count": 55,
     "metadata": {},
     "output_type": "execute_result"
    }
   ],
   "source": [
    "serie3_1990.head()"
   ]
  },
  {
   "cell_type": "code",
   "execution_count": 62,
   "metadata": {},
   "outputs": [],
   "source": [
    "serie3_2010 = (\n",
    "    filtro2010\n",
    "    .groupby('Country Name')['Adults (ages 15+) living with HIV']\n",
    "    .mean()\n",
    "    .reset_index()\n",
    "    .sort_values(by='Adults (ages 15+) living with HIV', ascending=False)\n",
    ")"
   ]
  },
  {
   "cell_type": "code",
   "execution_count": 63,
   "metadata": {},
   "outputs": [
    {
     "data": {
      "text/html": [
       "<div>\n",
       "<style scoped>\n",
       "    .dataframe tbody tr th:only-of-type {\n",
       "        vertical-align: middle;\n",
       "    }\n",
       "\n",
       "    .dataframe tbody tr th {\n",
       "        vertical-align: top;\n",
       "    }\n",
       "\n",
       "    .dataframe thead th {\n",
       "        text-align: right;\n",
       "    }\n",
       "</style>\n",
       "<table border=\"1\" class=\"dataframe\">\n",
       "  <thead>\n",
       "    <tr style=\"text-align: right;\">\n",
       "      <th></th>\n",
       "      <th>Country Name</th>\n",
       "      <th>Adults (ages 15+) living with HIV</th>\n",
       "    </tr>\n",
       "  </thead>\n",
       "  <tbody>\n",
       "    <tr>\n",
       "      <th>176</th>\n",
       "      <td>South africa</td>\n",
       "      <td>5000000.0</td>\n",
       "    </tr>\n",
       "    <tr>\n",
       "      <th>143</th>\n",
       "      <td>Nigeria</td>\n",
       "      <td>1500000.0</td>\n",
       "    </tr>\n",
       "    <tr>\n",
       "      <th>190</th>\n",
       "      <td>Tanzania, united republic of</td>\n",
       "      <td>1200000.0</td>\n",
       "    </tr>\n",
       "    <tr>\n",
       "      <th>100</th>\n",
       "      <td>Kenya</td>\n",
       "      <td>1200000.0</td>\n",
       "    </tr>\n",
       "    <tr>\n",
       "      <th>216</th>\n",
       "      <td>Zimbabwe</td>\n",
       "      <td>1100000.0</td>\n",
       "    </tr>\n",
       "  </tbody>\n",
       "</table>\n",
       "</div>"
      ],
      "text/plain": [
       "                     Country Name  Adults (ages 15+) living with HIV\n",
       "176                  South africa                          5000000.0\n",
       "143                       Nigeria                          1500000.0\n",
       "190  Tanzania, united republic of                          1200000.0\n",
       "100                         Kenya                          1200000.0\n",
       "216                      Zimbabwe                          1100000.0"
      ]
     },
     "execution_count": 63,
     "metadata": {},
     "output_type": "execute_result"
    }
   ],
   "source": [
    "serie3_2010.head()"
   ]
  },
  {
   "cell_type": "code",
   "execution_count": 66,
   "metadata": {},
   "outputs": [],
   "source": [
    "serie3_2020 = (\n",
    "    filtro2020\n",
    "    .groupby('Country Name')['Adults (ages 15+) living with HIV']\n",
    "    .mean()\n",
    "    .reset_index()\n",
    "    .sort_values(by='Adults (ages 15+) living with HIV', ascending=False)\n",
    ")"
   ]
  },
  {
   "cell_type": "code",
   "execution_count": 67,
   "metadata": {},
   "outputs": [
    {
     "data": {
      "text/html": [
       "<div>\n",
       "<style scoped>\n",
       "    .dataframe tbody tr th:only-of-type {\n",
       "        vertical-align: middle;\n",
       "    }\n",
       "\n",
       "    .dataframe tbody tr th {\n",
       "        vertical-align: top;\n",
       "    }\n",
       "\n",
       "    .dataframe thead th {\n",
       "        text-align: right;\n",
       "    }\n",
       "</style>\n",
       "<table border=\"1\" class=\"dataframe\">\n",
       "  <thead>\n",
       "    <tr style=\"text-align: right;\">\n",
       "      <th></th>\n",
       "      <th>Country Name</th>\n",
       "      <th>Adults (ages 15+) living with HIV</th>\n",
       "    </tr>\n",
       "  </thead>\n",
       "  <tbody>\n",
       "    <tr>\n",
       "      <th>176</th>\n",
       "      <td>South africa</td>\n",
       "      <td>7100000.0</td>\n",
       "    </tr>\n",
       "    <tr>\n",
       "      <th>143</th>\n",
       "      <td>Nigeria</td>\n",
       "      <td>1700000.0</td>\n",
       "    </tr>\n",
       "    <tr>\n",
       "      <th>190</th>\n",
       "      <td>Tanzania, united republic of</td>\n",
       "      <td>1600000.0</td>\n",
       "    </tr>\n",
       "    <tr>\n",
       "      <th>201</th>\n",
       "      <td>Uganda</td>\n",
       "      <td>1300000.0</td>\n",
       "    </tr>\n",
       "    <tr>\n",
       "      <th>100</th>\n",
       "      <td>Kenya</td>\n",
       "      <td>1300000.0</td>\n",
       "    </tr>\n",
       "  </tbody>\n",
       "</table>\n",
       "</div>"
      ],
      "text/plain": [
       "                     Country Name  Adults (ages 15+) living with HIV\n",
       "176                  South africa                          7100000.0\n",
       "143                       Nigeria                          1700000.0\n",
       "190  Tanzania, united republic of                          1600000.0\n",
       "201                        Uganda                          1300000.0\n",
       "100                         Kenya                          1300000.0"
      ]
     },
     "execution_count": 67,
     "metadata": {},
     "output_type": "execute_result"
    }
   ],
   "source": [
    "serie3_2020.head()"
   ]
  },
  {
   "attachments": {},
   "cell_type": "markdown",
   "metadata": {},
   "source": [
    "Se puede apreciar que a medida que aumentan los años los casos en personas contagiadas con el virus del sida fue aumentando cada vez mas, sobretodo en estas regiones de Africa."
   ]
  },
  {
   "attachments": {},
   "cell_type": "markdown",
   "metadata": {},
   "source": [
    "                                    Análisis del indicador de muertes por cada 1000 personas"
   ]
  },
  {
   "cell_type": "code",
   "execution_count": 68,
   "metadata": {},
   "outputs": [],
   "source": [
    "serie4_1990 = (\n",
    "    filtro1990\n",
    "    .groupby('Country Name')['Death rate, crude (per 1,000 people)']\n",
    "    .mean()\n",
    "    .reset_index()\n",
    "    .sort_values(by='Death rate, crude (per 1,000 people)', ascending=False)\n",
    ")"
   ]
  },
  {
   "cell_type": "code",
   "execution_count": 69,
   "metadata": {},
   "outputs": [
    {
     "data": {
      "text/html": [
       "<div>\n",
       "<style scoped>\n",
       "    .dataframe tbody tr th:only-of-type {\n",
       "        vertical-align: middle;\n",
       "    }\n",
       "\n",
       "    .dataframe tbody tr th {\n",
       "        vertical-align: top;\n",
       "    }\n",
       "\n",
       "    .dataframe thead th {\n",
       "        text-align: right;\n",
       "    }\n",
       "</style>\n",
       "<table border=\"1\" class=\"dataframe\">\n",
       "  <thead>\n",
       "    <tr style=\"text-align: right;\">\n",
       "      <th></th>\n",
       "      <th>Country Name</th>\n",
       "      <th>Death rate, crude (per 1,000 people)</th>\n",
       "    </tr>\n",
       "  </thead>\n",
       "  <tbody>\n",
       "    <tr>\n",
       "      <th>177</th>\n",
       "      <td>South sudan</td>\n",
       "      <td>34.067</td>\n",
       "    </tr>\n",
       "    <tr>\n",
       "      <th>111</th>\n",
       "      <td>Liberia</td>\n",
       "      <td>25.501</td>\n",
       "    </tr>\n",
       "    <tr>\n",
       "      <th>142</th>\n",
       "      <td>Niger</td>\n",
       "      <td>24.067</td>\n",
       "    </tr>\n",
       "    <tr>\n",
       "      <th>118</th>\n",
       "      <td>Malawi</td>\n",
       "      <td>22.087</td>\n",
       "    </tr>\n",
       "    <tr>\n",
       "      <th>5</th>\n",
       "      <td>Angola</td>\n",
       "      <td>21.993</td>\n",
       "    </tr>\n",
       "  </tbody>\n",
       "</table>\n",
       "</div>"
      ],
      "text/plain": [
       "    Country Name  Death rate, crude (per 1,000 people)\n",
       "177  South sudan                                34.067\n",
       "111      Liberia                                25.501\n",
       "142        Niger                                24.067\n",
       "118       Malawi                                22.087\n",
       "5         Angola                                21.993"
      ]
     },
     "execution_count": 69,
     "metadata": {},
     "output_type": "execute_result"
    }
   ],
   "source": [
    "serie4_1990.head()"
   ]
  },
  {
   "cell_type": "code",
   "execution_count": 72,
   "metadata": {},
   "outputs": [],
   "source": [
    "serie4_2000 = (\n",
    "    filtro2000\n",
    "    .groupby('Country Name')['Death rate, crude (per 1,000 people)']\n",
    "    .mean()\n",
    "    .reset_index()\n",
    "    .sort_values(by='Death rate, crude (per 1,000 people)', ascending=False)\n",
    ")"
   ]
  },
  {
   "cell_type": "code",
   "execution_count": 73,
   "metadata": {},
   "outputs": [
    {
     "data": {
      "text/html": [
       "<div>\n",
       "<style scoped>\n",
       "    .dataframe tbody tr th:only-of-type {\n",
       "        vertical-align: middle;\n",
       "    }\n",
       "\n",
       "    .dataframe tbody tr th {\n",
       "        vertical-align: top;\n",
       "    }\n",
       "\n",
       "    .dataframe thead th {\n",
       "        text-align: right;\n",
       "    }\n",
       "</style>\n",
       "<table border=\"1\" class=\"dataframe\">\n",
       "  <thead>\n",
       "    <tr style=\"text-align: right;\">\n",
       "      <th></th>\n",
       "      <th>Country Name</th>\n",
       "      <th>Death rate, crude (per 1,000 people)</th>\n",
       "    </tr>\n",
       "  </thead>\n",
       "  <tbody>\n",
       "    <tr>\n",
       "      <th>169</th>\n",
       "      <td>Sierra leone</td>\n",
       "      <td>19.794</td>\n",
       "    </tr>\n",
       "    <tr>\n",
       "      <th>118</th>\n",
       "      <td>Malawi</td>\n",
       "      <td>19.559</td>\n",
       "    </tr>\n",
       "    <tr>\n",
       "      <th>177</th>\n",
       "      <td>South sudan</td>\n",
       "      <td>18.587</td>\n",
       "    </tr>\n",
       "    <tr>\n",
       "      <th>5</th>\n",
       "      <td>Angola</td>\n",
       "      <td>18.287</td>\n",
       "    </tr>\n",
       "    <tr>\n",
       "      <th>37</th>\n",
       "      <td>Chad</td>\n",
       "      <td>18.088</td>\n",
       "    </tr>\n",
       "  </tbody>\n",
       "</table>\n",
       "</div>"
      ],
      "text/plain": [
       "     Country Name  Death rate, crude (per 1,000 people)\n",
       "169  Sierra leone                                19.794\n",
       "118        Malawi                                19.559\n",
       "177   South sudan                                18.587\n",
       "5          Angola                                18.287\n",
       "37           Chad                                18.088"
      ]
     },
     "execution_count": 73,
     "metadata": {},
     "output_type": "execute_result"
    }
   ],
   "source": [
    "serie4_2000.head()"
   ]
  },
  {
   "cell_type": "code",
   "execution_count": 74,
   "metadata": {},
   "outputs": [],
   "source": [
    "serie4_2005 = (\n",
    "    filtro2005\n",
    "    .groupby('Country Name')['Death rate, crude (per 1,000 people)']\n",
    "    .mean()\n",
    "    .reset_index()\n",
    "    .sort_values(by='Death rate, crude (per 1,000 people)', ascending=False)\n",
    ")"
   ]
  },
  {
   "cell_type": "code",
   "execution_count": 75,
   "metadata": {},
   "outputs": [
    {
     "data": {
      "text/html": [
       "<div>\n",
       "<style scoped>\n",
       "    .dataframe tbody tr th:only-of-type {\n",
       "        vertical-align: middle;\n",
       "    }\n",
       "\n",
       "    .dataframe tbody tr th {\n",
       "        vertical-align: top;\n",
       "    }\n",
       "\n",
       "    .dataframe thead th {\n",
       "        text-align: right;\n",
       "    }\n",
       "</style>\n",
       "<table border=\"1\" class=\"dataframe\">\n",
       "  <thead>\n",
       "    <tr style=\"text-align: right;\">\n",
       "      <th></th>\n",
       "      <th>Country Name</th>\n",
       "      <th>Death rate, crude (per 1,000 people)</th>\n",
       "    </tr>\n",
       "  </thead>\n",
       "  <tbody>\n",
       "    <tr>\n",
       "      <th>110</th>\n",
       "      <td>Lesotho</td>\n",
       "      <td>20.605</td>\n",
       "    </tr>\n",
       "    <tr>\n",
       "      <th>62</th>\n",
       "      <td>Eswatini</td>\n",
       "      <td>18.845</td>\n",
       "    </tr>\n",
       "    <tr>\n",
       "      <th>169</th>\n",
       "      <td>Sierra leone</td>\n",
       "      <td>16.890</td>\n",
       "    </tr>\n",
       "    <tr>\n",
       "      <th>37</th>\n",
       "      <td>Chad</td>\n",
       "      <td>16.827</td>\n",
       "    </tr>\n",
       "    <tr>\n",
       "      <th>216</th>\n",
       "      <td>Zimbabwe</td>\n",
       "      <td>16.820</td>\n",
       "    </tr>\n",
       "  </tbody>\n",
       "</table>\n",
       "</div>"
      ],
      "text/plain": [
       "     Country Name  Death rate, crude (per 1,000 people)\n",
       "110       Lesotho                                20.605\n",
       "62       Eswatini                                18.845\n",
       "169  Sierra leone                                16.890\n",
       "37           Chad                                16.827\n",
       "216      Zimbabwe                                16.820"
      ]
     },
     "execution_count": 75,
     "metadata": {},
     "output_type": "execute_result"
    }
   ],
   "source": [
    "serie4_2005.head()"
   ]
  },
  {
   "cell_type": "code",
   "execution_count": 76,
   "metadata": {},
   "outputs": [],
   "source": [
    "serie4_2010 = (\n",
    "    filtro2010\n",
    "    .groupby('Country Name')['Death rate, crude (per 1,000 people)']\n",
    "    .mean()\n",
    "    .reset_index()\n",
    "    .sort_values(by='Death rate, crude (per 1,000 people)', ascending=False)\n",
    ")"
   ]
  },
  {
   "cell_type": "code",
   "execution_count": 77,
   "metadata": {},
   "outputs": [
    {
     "data": {
      "text/html": [
       "<div>\n",
       "<style scoped>\n",
       "    .dataframe tbody tr th:only-of-type {\n",
       "        vertical-align: middle;\n",
       "    }\n",
       "\n",
       "    .dataframe tbody tr th {\n",
       "        vertical-align: top;\n",
       "    }\n",
       "\n",
       "    .dataframe thead th {\n",
       "        text-align: right;\n",
       "    }\n",
       "</style>\n",
       "<table border=\"1\" class=\"dataframe\">\n",
       "  <thead>\n",
       "    <tr style=\"text-align: right;\">\n",
       "      <th></th>\n",
       "      <th>Country Name</th>\n",
       "      <th>Death rate, crude (per 1,000 people)</th>\n",
       "    </tr>\n",
       "  </thead>\n",
       "  <tbody>\n",
       "    <tr>\n",
       "      <th>110</th>\n",
       "      <td>Lesotho</td>\n",
       "      <td>18.644</td>\n",
       "    </tr>\n",
       "    <tr>\n",
       "      <th>83</th>\n",
       "      <td>Haiti</td>\n",
       "      <td>17.738</td>\n",
       "    </tr>\n",
       "    <tr>\n",
       "      <th>62</th>\n",
       "      <td>Eswatini</td>\n",
       "      <td>15.911</td>\n",
       "    </tr>\n",
       "    <tr>\n",
       "      <th>37</th>\n",
       "      <td>Chad</td>\n",
       "      <td>15.421</td>\n",
       "    </tr>\n",
       "    <tr>\n",
       "      <th>175</th>\n",
       "      <td>Somalia</td>\n",
       "      <td>15.358</td>\n",
       "    </tr>\n",
       "  </tbody>\n",
       "</table>\n",
       "</div>"
      ],
      "text/plain": [
       "    Country Name  Death rate, crude (per 1,000 people)\n",
       "110      Lesotho                                18.644\n",
       "83         Haiti                                17.738\n",
       "62      Eswatini                                15.911\n",
       "37          Chad                                15.421\n",
       "175      Somalia                                15.358"
      ]
     },
     "execution_count": 77,
     "metadata": {},
     "output_type": "execute_result"
    }
   ],
   "source": [
    "serie4_2010.head()"
   ]
  },
  {
   "cell_type": "code",
   "execution_count": 78,
   "metadata": {},
   "outputs": [],
   "source": [
    "serie4_2015 = (\n",
    "    filtro2015\n",
    "    .groupby('Country Name')['Death rate, crude (per 1,000 people)']\n",
    "    .mean()\n",
    "    .reset_index()\n",
    "    .sort_values(by='Death rate, crude (per 1,000 people)', ascending=False)\n",
    ")"
   ]
  },
  {
   "cell_type": "code",
   "execution_count": 79,
   "metadata": {},
   "outputs": [
    {
     "data": {
      "text/html": [
       "<div>\n",
       "<style scoped>\n",
       "    .dataframe tbody tr th:only-of-type {\n",
       "        vertical-align: middle;\n",
       "    }\n",
       "\n",
       "    .dataframe tbody tr th {\n",
       "        vertical-align: top;\n",
       "    }\n",
       "\n",
       "    .dataframe thead th {\n",
       "        text-align: right;\n",
       "    }\n",
       "</style>\n",
       "<table border=\"1\" class=\"dataframe\">\n",
       "  <thead>\n",
       "    <tr style=\"text-align: right;\">\n",
       "      <th></th>\n",
       "      <th>Country Name</th>\n",
       "      <th>Death rate, crude (per 1,000 people)</th>\n",
       "    </tr>\n",
       "  </thead>\n",
       "  <tbody>\n",
       "    <tr>\n",
       "      <th>28</th>\n",
       "      <td>Bulgaria</td>\n",
       "      <td>15.300</td>\n",
       "    </tr>\n",
       "    <tr>\n",
       "      <th>202</th>\n",
       "      <td>Ukraine</td>\n",
       "      <td>14.900</td>\n",
       "    </tr>\n",
       "    <tr>\n",
       "      <th>110</th>\n",
       "      <td>Lesotho</td>\n",
       "      <td>14.825</td>\n",
       "    </tr>\n",
       "    <tr>\n",
       "      <th>167</th>\n",
       "      <td>Serbia</td>\n",
       "      <td>14.600</td>\n",
       "    </tr>\n",
       "    <tr>\n",
       "      <th>108</th>\n",
       "      <td>Latvia</td>\n",
       "      <td>14.400</td>\n",
       "    </tr>\n",
       "  </tbody>\n",
       "</table>\n",
       "</div>"
      ],
      "text/plain": [
       "    Country Name  Death rate, crude (per 1,000 people)\n",
       "28      Bulgaria                                15.300\n",
       "202      Ukraine                                14.900\n",
       "110      Lesotho                                14.825\n",
       "167       Serbia                                14.600\n",
       "108       Latvia                                14.400"
      ]
     },
     "execution_count": 79,
     "metadata": {},
     "output_type": "execute_result"
    }
   ],
   "source": [
    "serie4_2015.head()"
   ]
  },
  {
   "attachments": {},
   "cell_type": "markdown",
   "metadata": {},
   "source": [
    "Ukrania aparece segundo en la tabla se debe quizas a que durante el 2014 empezo una operación de desestabilizacion de parte de Russia \n",
    "punto muy bueno para evaluar los flujos migratorios."
   ]
  },
  {
   "cell_type": "code",
   "execution_count": 118,
   "metadata": {},
   "outputs": [],
   "source": [
    "filtro_Ukrania = emigrantes[emigrantes['Region, development group, country or area'] == 'ukraine']"
   ]
  },
  {
   "cell_type": "code",
   "execution_count": 119,
   "metadata": {},
   "outputs": [
    {
     "data": {
      "text/html": [
       "<div>\n",
       "<style scoped>\n",
       "    .dataframe tbody tr th:only-of-type {\n",
       "        vertical-align: middle;\n",
       "    }\n",
       "\n",
       "    .dataframe tbody tr th {\n",
       "        vertical-align: top;\n",
       "    }\n",
       "\n",
       "    .dataframe thead th {\n",
       "        text-align: right;\n",
       "    }\n",
       "</style>\n",
       "<table border=\"1\" class=\"dataframe\">\n",
       "  <thead>\n",
       "    <tr style=\"text-align: right;\">\n",
       "      <th></th>\n",
       "      <th>Region, development group, country or area</th>\n",
       "      <th>Location code</th>\n",
       "      <th>1990</th>\n",
       "      <th>1995</th>\n",
       "      <th>2000</th>\n",
       "      <th>2005</th>\n",
       "      <th>2010</th>\n",
       "      <th>2015</th>\n",
       "      <th>2020</th>\n",
       "    </tr>\n",
       "  </thead>\n",
       "  <tbody>\n",
       "    <tr>\n",
       "      <th>120</th>\n",
       "      <td>ukraine</td>\n",
       "      <td>804</td>\n",
       "      <td>5545517</td>\n",
       "      <td>5606133</td>\n",
       "      <td>5596518</td>\n",
       "      <td>5566382</td>\n",
       "      <td>5429876</td>\n",
       "      <td>5797550</td>\n",
       "      <td>6139144</td>\n",
       "    </tr>\n",
       "  </tbody>\n",
       "</table>\n",
       "</div>"
      ],
      "text/plain": [
       "    Region, development group, country or area  Location code     1990  \\\n",
       "120                                    ukraine            804  5545517   \n",
       "\n",
       "        1995     2000     2005     2010     2015     2020  \n",
       "120  5606133  5596518  5566382  5429876  5797550  6139144  "
      ]
     },
     "execution_count": 119,
     "metadata": {},
     "output_type": "execute_result"
    }
   ],
   "source": [
    "filtro_Ukrania"
   ]
  },
  {
   "attachments": {},
   "cell_type": "markdown",
   "metadata": {},
   "source": [
    "Se puede ver un cambio significativo en la cantidad de migrantes de Ukrania desde el año 2015 hasta el 2020 producto de el aumento en número de muertes durante el 2015, muchos ciudadanos de Ukrania empezaron a emigrar."
   ]
  },
  {
   "cell_type": "code",
   "execution_count": 125,
   "metadata": {},
   "outputs": [],
   "source": [
    "filtro_muertes = serie4_2015.head(5)"
   ]
  },
  {
   "cell_type": "code",
   "execution_count": 131,
   "metadata": {},
   "outputs": [
    {
     "data": {
      "text/plain": [
       "<AxesSubplot: xlabel='Country Name'>"
      ]
     },
     "execution_count": 131,
     "metadata": {},
     "output_type": "execute_result"
    },
    {
     "data": {
      "image/png": "[encoded data removed]",
      "text/plain": [
       "<Figure size 1000x1000 with 1 Axes>"
      ]
     },
     "metadata": {},
     "output_type": "display_data"
    }
   ],
   "source": [
    "filtro_muertes.set_index('Country Name').plot.bar(y='Death rate, crude (per 1,000 people)', figsize=(10,10),colormap='Pastel1')"
   ]
  },
  {
   "attachments": {},
   "cell_type": "markdown",
   "metadata": {},
   "source": [
    "Se puede apreciar visualmente como Ukranie aparece de segundo en el grafico con mas indices de muertes por cada mil habitantes durante el 2015"
   ]
  },
  {
   "cell_type": "code",
   "execution_count": 80,
   "metadata": {},
   "outputs": [],
   "source": [
    "serie4_2020 = (\n",
    "    filtro2020\n",
    "    .groupby('Country Name')['Death rate, crude (per 1,000 people)']\n",
    "    .mean()\n",
    "    .reset_index()\n",
    "    .sort_values(by='Death rate, crude (per 1,000 people)', ascending=False)\n",
    ")"
   ]
  },
  {
   "cell_type": "code",
   "execution_count": 81,
   "metadata": {},
   "outputs": [
    {
     "data": {
      "text/html": [
       "<div>\n",
       "<style scoped>\n",
       "    .dataframe tbody tr th:only-of-type {\n",
       "        vertical-align: middle;\n",
       "    }\n",
       "\n",
       "    .dataframe tbody tr th {\n",
       "        vertical-align: top;\n",
       "    }\n",
       "\n",
       "    .dataframe thead th {\n",
       "        text-align: right;\n",
       "    }\n",
       "</style>\n",
       "<table border=\"1\" class=\"dataframe\">\n",
       "  <thead>\n",
       "    <tr style=\"text-align: right;\">\n",
       "      <th></th>\n",
       "      <th>Country Name</th>\n",
       "      <th>Death rate, crude (per 1,000 people)</th>\n",
       "    </tr>\n",
       "  </thead>\n",
       "  <tbody>\n",
       "    <tr>\n",
       "      <th>28</th>\n",
       "      <td>Bulgaria</td>\n",
       "      <td>18.0</td>\n",
       "    </tr>\n",
       "    <tr>\n",
       "      <th>167</th>\n",
       "      <td>Serbia</td>\n",
       "      <td>16.9</td>\n",
       "    </tr>\n",
       "    <tr>\n",
       "      <th>202</th>\n",
       "      <td>Ukraine</td>\n",
       "      <td>15.9</td>\n",
       "    </tr>\n",
       "    <tr>\n",
       "      <th>114</th>\n",
       "      <td>Lithuania</td>\n",
       "      <td>15.6</td>\n",
       "    </tr>\n",
       "    <tr>\n",
       "      <th>159</th>\n",
       "      <td>Romania</td>\n",
       "      <td>15.4</td>\n",
       "    </tr>\n",
       "  </tbody>\n",
       "</table>\n",
       "</div>"
      ],
      "text/plain": [
       "    Country Name  Death rate, crude (per 1,000 people)\n",
       "28      Bulgaria                                  18.0\n",
       "167       Serbia                                  16.9\n",
       "202      Ukraine                                  15.9\n",
       "114    Lithuania                                  15.6\n",
       "159      Romania                                  15.4"
      ]
     },
     "execution_count": 81,
     "metadata": {},
     "output_type": "execute_result"
    }
   ],
   "source": [
    "serie4_2020.head()"
   ]
  },
  {
   "attachments": {},
   "cell_type": "markdown",
   "metadata": {},
   "source": [
    "                                Analisis de muertes atribuida al uso de agua insalubre y falta de higiene"
   ]
  },
  {
   "cell_type": "code",
   "execution_count": 82,
   "metadata": {},
   "outputs": [],
   "source": [
    "serie4_2020 = (\n",
    "    filtro2020\n",
    "    .groupby('Country Name')['Mortality rate attributed to unsafe water, unsafe sanitation and lack of hygiene (per 100,000 population)']\n",
    "    .mean()\n",
    "    .reset_index()\n",
    "    .sort_values(by='Mortality rate attributed to unsafe water, unsafe sanitation and lack of hygiene (per 100,000 population)', ascending=False)\n",
    ")"
   ]
  },
  {
   "cell_type": "code",
   "execution_count": 150,
   "metadata": {},
   "outputs": [
    {
     "data": {
      "text/plain": [
       "array([0.])"
      ]
     },
     "execution_count": 150,
     "metadata": {},
     "output_type": "execute_result"
    }
   ],
   "source": [
    "serie4_2020['Mortality rate attributed to unsafe water, unsafe sanitation and lack of hygiene (per 100,000 population)'].unique()"
   ]
  },
  {
   "attachments": {},
   "cell_type": "markdown",
   "metadata": {},
   "source": [
    "no hay datos en la columna (Mortality rate attributed to unsafe water, unsafe sanitation and lack of hygiene (per 100,000 population)) se borrarará del dataframe"
   ]
  },
  {
   "cell_type": "code",
   "execution_count": 84,
   "metadata": {},
   "outputs": [],
   "source": [
    "data_transpuesta.drop(columns={'Mortality rate attributed to unsafe water, unsafe sanitation and lack of hygiene (per 100,000 population)'}, inplace=True)"
   ]
  },
  {
   "attachments": {},
   "cell_type": "markdown",
   "metadata": {},
   "source": [
    "Breve analisis de lo que se ha visto hasta ahora. \n",
    "\n",
    "Los indicadores de muertes y enfermedades graves casi siempre apuntan a estos paises con altos indices de pobreza historicos como lo son los paises Africanos donde hay muy poco acceso a la salud, estan espuestos a enfermedades cronicas y a vivir con ellas como es es caso de la gran cantidad de personas que viven con VIH en estos paises.\n",
    "\n"
   ]
  }
 ],
 "metadata": {
  "kernelspec": {
   "display_name": "Python 3",
   "language": "python",
   "name": "python3"
  },
  "language_info": {
   "codemirror_mode": {
    "name": "ipython",
    "version": 3
   },
   "file_extension": ".py",
   "mimetype": "text/x-python",
   "name": "python",
   "nbconvert_exporter": "python",
   "pygments_lexer": "ipython3",
   "version": "3.10.7"
  },
  "orig_nbformat": 4,
  "vscode": {
   "interpreter": {
    "hash": "df95319d8ce4e1d89f5365ae10992bc1f65da593082b1d264e8f529830ec2f02"
   }
  }
 },
 "nbformat": 4,
 "nbformat_minor": 2
}
