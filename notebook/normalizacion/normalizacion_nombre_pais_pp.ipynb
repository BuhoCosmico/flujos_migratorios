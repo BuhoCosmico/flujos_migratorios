{
 "cells": [
  {
   "cell_type": "code",
   "execution_count": 12,
   "metadata": {},
   "outputs": [],
   "source": [
    "import numpy as np \n",
    "import pandas as pd\n",
    "import pycountry"
   ]
  },
  {
   "attachments": {},
   "cell_type": "markdown",
   "metadata": {},
   "source": [
    "Se realizaran las normalizaciones de los nombres de paises generando nuevos csv para luego hacer los EDA"
   ]
  },
  {
   "cell_type": "code",
   "execution_count": 2,
   "metadata": {},
   "outputs": [],
   "source": [
    "data_destino_2000 = pd.read_csv('../../datasets/raw/proyecto_poblacion/top_16/top_16_destino_2000.csv')\n",
    "data_origen_2000 = pd.read_csv('../../datasets/raw/proyecto_poblacion/top_16/top_16_origen_2000.csv')"
   ]
  },
  {
   "cell_type": "code",
   "execution_count": 4,
   "metadata": {},
   "outputs": [
    {
     "data": {
      "text/plain": [
       "Unnamed: 0                                    0\n",
       "Region, development group, country or area    0\n",
       "Location code                                 0\n",
       "1990                                          0\n",
       "1995                                          0\n",
       "2000                                          0\n",
       "2005                                          0\n",
       "2010                                          0\n",
       "2015                                          0\n",
       "2020                                          0\n",
       "Emigracion_Promedio                           0\n",
       "Inmigracion_Promedio                          0\n",
       "dtype: int64"
      ]
     },
     "execution_count": 4,
     "metadata": {},
     "output_type": "execute_result"
    }
   ],
   "source": [
    "data_destino_2000.isna().sum()"
   ]
  },
  {
   "cell_type": "code",
   "execution_count": 5,
   "metadata": {},
   "outputs": [
    {
     "data": {
      "text/html": [
       "<div>\n",
       "<style scoped>\n",
       "    .dataframe tbody tr th:only-of-type {\n",
       "        vertical-align: middle;\n",
       "    }\n",
       "\n",
       "    .dataframe tbody tr th {\n",
       "        vertical-align: top;\n",
       "    }\n",
       "\n",
       "    .dataframe thead th {\n",
       "        text-align: right;\n",
       "    }\n",
       "</style>\n",
       "<table border=\"1\" class=\"dataframe\">\n",
       "  <thead>\n",
       "    <tr style=\"text-align: right;\">\n",
       "      <th></th>\n",
       "      <th>Unnamed: 0</th>\n",
       "      <th>Region, development group, country or area</th>\n",
       "      <th>Location code</th>\n",
       "      <th>1990</th>\n",
       "      <th>1995</th>\n",
       "      <th>2000</th>\n",
       "      <th>2005</th>\n",
       "      <th>2010</th>\n",
       "      <th>2015</th>\n",
       "      <th>2020</th>\n",
       "      <th>Emigracion_Promedio</th>\n",
       "      <th>Inmigracion_Promedio</th>\n",
       "    </tr>\n",
       "  </thead>\n",
       "  <tbody>\n",
       "  </tbody>\n",
       "</table>\n",
       "</div>"
      ],
      "text/plain": [
       "Empty DataFrame\n",
       "Columns: [Unnamed: 0, Region, development group, country or area, Location code, 1990, 1995, 2000, 2005, 2010, 2015, 2020, Emigracion_Promedio, Inmigracion_Promedio]\n",
       "Index: []"
      ]
     },
     "execution_count": 5,
     "metadata": {},
     "output_type": "execute_result"
    }
   ],
   "source": [
    "data_destino_2000[data_destino_2000.duplicated()]"
   ]
  },
  {
   "cell_type": "code",
   "execution_count": 6,
   "metadata": {},
   "outputs": [
    {
     "data": {
      "text/plain": [
       "Unnamed: 0                                    0\n",
       "Region, development group, country or area    0\n",
       "Location code                                 0\n",
       "1990                                          0\n",
       "1995                                          0\n",
       "2000                                          0\n",
       "2005                                          0\n",
       "2010                                          0\n",
       "2015                                          0\n",
       "2020                                          0\n",
       "Emigracion_Promedio                           0\n",
       "dtype: int64"
      ]
     },
     "execution_count": 6,
     "metadata": {},
     "output_type": "execute_result"
    }
   ],
   "source": [
    "data_origen_2000.isna().sum()"
   ]
  },
  {
   "cell_type": "code",
   "execution_count": 7,
   "metadata": {},
   "outputs": [
    {
     "data": {
      "text/html": [
       "<div>\n",
       "<style scoped>\n",
       "    .dataframe tbody tr th:only-of-type {\n",
       "        vertical-align: middle;\n",
       "    }\n",
       "\n",
       "    .dataframe tbody tr th {\n",
       "        vertical-align: top;\n",
       "    }\n",
       "\n",
       "    .dataframe thead th {\n",
       "        text-align: right;\n",
       "    }\n",
       "</style>\n",
       "<table border=\"1\" class=\"dataframe\">\n",
       "  <thead>\n",
       "    <tr style=\"text-align: right;\">\n",
       "      <th></th>\n",
       "      <th>Unnamed: 0</th>\n",
       "      <th>Region, development group, country or area</th>\n",
       "      <th>Location code</th>\n",
       "      <th>1990</th>\n",
       "      <th>1995</th>\n",
       "      <th>2000</th>\n",
       "      <th>2005</th>\n",
       "      <th>2010</th>\n",
       "      <th>2015</th>\n",
       "      <th>2020</th>\n",
       "      <th>Emigracion_Promedio</th>\n",
       "    </tr>\n",
       "  </thead>\n",
       "  <tbody>\n",
       "  </tbody>\n",
       "</table>\n",
       "</div>"
      ],
      "text/plain": [
       "Empty DataFrame\n",
       "Columns: [Unnamed: 0, Region, development group, country or area, Location code, 1990, 1995, 2000, 2005, 2010, 2015, 2020, Emigracion_Promedio]\n",
       "Index: []"
      ]
     },
     "execution_count": 7,
     "metadata": {},
     "output_type": "execute_result"
    }
   ],
   "source": [
    "data_origen_2000[data_origen_2000.duplicated()]"
   ]
  },
  {
   "cell_type": "code",
   "execution_count": 8,
   "metadata": {},
   "outputs": [],
   "source": [
    "data_origen_2000['Region, development group, country or area'] = data_origen_2000['Region, development group, country or area'].str.strip()\n",
    "data_destino_2000['Region, development group, country or area'] = data_destino_2000['Region, development group, country or area'].str.strip()"
   ]
  },
  {
   "cell_type": "code",
   "execution_count": 9,
   "metadata": {},
   "outputs": [],
   "source": [
    "data_origen_2000['Region, development group, country or area'] = data_origen_2000['Region, development group, country or area'].replace({\"Côte d'Ivoire\" : \"cote d'ivoire\"})\n",
    "data_destino_2000['Region, development group, country or area'] = data_destino_2000['Region, development group, country or area'].replace({\"Côte d'Ivoire\" : \"cote d'ivoire\"})"
   ]
  },
  {
   "cell_type": "code",
   "execution_count": 10,
   "metadata": {},
   "outputs": [
    {
     "data": {
      "text/plain": [
       "United States of America*     1\n",
       "Russian Federation            1\n",
       "Germany                       1\n",
       "India                         1\n",
       "France*                       1\n",
       "Ukraine*                      1\n",
       "Canada                        1\n",
       "Saudi Arabia                  1\n",
       "United Kingdom*               1\n",
       "Australia*                    1\n",
       "Pakistan                      1\n",
       "Kazakhstan                    1\n",
       "China, Hong Kong SAR*         1\n",
       "Iran (Islamic Republic of)    1\n",
       "United Arab Emirates          1\n",
       "cote d'ivoire                 1\n",
       "Name: Region, development group, country or area, dtype: int64"
      ]
     },
     "execution_count": 10,
     "metadata": {},
     "output_type": "execute_result"
    }
   ],
   "source": [
    "data_destino_2000['Region, development group, country or area'].value_counts()"
   ]
  },
  {
   "cell_type": "code",
   "execution_count": 11,
   "metadata": {},
   "outputs": [
    {
     "data": {
      "text/plain": [
       "United States of America*     1\n",
       "Russian Federation            1\n",
       "Germany                       1\n",
       "India                         1\n",
       "France*                       1\n",
       "Ukraine*                      1\n",
       "Canada                        1\n",
       "Saudi Arabia                  1\n",
       "United Kingdom*               1\n",
       "Australia*                    1\n",
       "Pakistan                      1\n",
       "Kazakhstan                    1\n",
       "China, Hong Kong SAR*         1\n",
       "Iran (Islamic Republic of)    1\n",
       "United Arab Emirates          1\n",
       "cote d'ivoire                 1\n",
       "Name: Region, development group, country or area, dtype: int64"
      ]
     },
     "execution_count": 11,
     "metadata": {},
     "output_type": "execute_result"
    }
   ],
   "source": [
    "data_origen_2000['Region, development group, country or area'].value_counts()"
   ]
  },
  {
   "attachments": {},
   "cell_type": "markdown",
   "metadata": {},
   "source": [
    "observamos que hay caracteres especiales como ** procederemos a borrarlos "
   ]
  },
  {
   "cell_type": "code",
   "execution_count": 13,
   "metadata": {},
   "outputs": [],
   "source": [
    "def normalize_country(name):\n",
    "\n",
    "    custom_mapping = {\n",
    "        \"Iran (Islamic Republic of)\": \"iran\",\n",
    "        \"côte d'ivoire\": \"cote d'ivoire\",\n",
    "        \"China, Hong Kong SAR*\": \"hong kong\",\n",
    "        \"hong kong sar, china\": \"hong kong\",\n",
    "        \"iran, islamic rep.\": \"iran\"\n",
    "    }\n",
    "    \n",
    "    if name in custom_mapping:\n",
    "        return custom_mapping[name]\n",
    "    try:\n",
    "        country = pycountry.countries.lookup(name)\n",
    "        return country.name\n",
    "    except LookupError:\n",
    "        if name == \"United States of America*\":\n",
    "            return \"United States\"\n",
    "        elif name == \"Iran (Islamic Republic of)\":\n",
    "            return \"iran\"\n",
    "        elif name == \"Russian Federation\":\n",
    "            return \"Russia\"\n",
    "        elif name == \"France*\":\n",
    "            return \"France\"\n",
    "        elif name == \"Australia*\":\n",
    "            return \"Australia\"\n",
    "        elif name == \"United Kingdom*\":\n",
    "            return \"United Kingdom\"\n",
    "        elif name == \"China, Hong Kong SAR*\":\n",
    "            return \"hong kong\"                 \n",
    "        elif name == \"Ukraine*\":\n",
    "            return \"Ukraine\"\n",
    "        # agrega más verificaciones aquí para otros casos especiales\n",
    "        else:\n",
    "          return name"
   ]
  },
  {
   "cell_type": "code",
   "execution_count": 15,
   "metadata": {},
   "outputs": [],
   "source": [
    "#leemos la base de datos en este caso es WDI\n",
    "data = pd.read_csv('../../datasets/processed/world_development_indicators/world_development_indicators.csv')"
   ]
  },
  {
   "cell_type": "code",
   "execution_count": 16,
   "metadata": {},
   "outputs": [
    {
     "name": "stderr",
     "output_type": "stream",
     "text": [
      "C:\\Users\\USER\\AppData\\Local\\Temp\\ipykernel_15804\\1947174363.py:9: SettingWithCopyWarning: \n",
      "A value is trying to be set on a copy of a slice from a DataFrame\n",
      "\n",
      "See the caveats in the documentation: https://pandas.pydata.org/pandas-docs/stable/user_guide/indexing.html#returning-a-view-versus-a-copy\n",
      "  data['cod'].iloc[i] = y\n",
      "C:\\Users\\USER\\AppData\\Local\\Temp\\ipykernel_15804\\1947174363.py:11: SettingWithCopyWarning: \n",
      "A value is trying to be set on a copy of a slice from a DataFrame\n",
      "\n",
      "See the caveats in the documentation: https://pandas.pydata.org/pandas-docs/stable/user_guide/indexing.html#returning-a-view-versus-a-copy\n",
      "  data['cod'].iloc[i] = y\n"
     ]
    }
   ],
   "source": [
    "#creamos un codigo por pais\n",
    "y = 0\n",
    "data['cod'] = 0\n",
    "l = []\n",
    "for i in range(len(data)):\n",
    "  if data['Country Code'].iloc[i] not in l:\n",
    "    y += 1\n",
    "    l.append(data['Country Code'].iloc[i])\n",
    "    data['cod'].iloc[i] = y\n",
    "  else:\n",
    "    data['cod'].iloc[i] = y"
   ]
  },
  {
   "cell_type": "code",
   "execution_count": 17,
   "metadata": {},
   "outputs": [],
   "source": [
    "data_origen_2000['Region, development group, country or area'] = data_origen_2000['Region, development group, country or area'].apply(normalize_country).str.lower()\n",
    "data_destino_2000['Region, development group, country or area'] = data_destino_2000['Region, development group, country or area'].apply(normalize_country).str.lower()\n",
    "data['Country Name'] = data['Country Name'].apply(normalize_country).str.lower()"
   ]
  },
  {
   "cell_type": "code",
   "execution_count": 18,
   "metadata": {},
   "outputs": [],
   "source": [
    "filtro_or = data[(data['Country Name'].isin(data_origen_2000['Region, development group, country or area']))]\n",
    "filtro_or.to_csv('../../datasets/processed/proyecto_poblacion/top_16/WDI-top-or-2000.csv', index = False)\n",
    "\n",
    "filtro_de = data[(data['Country Name'].isin(data_destino_2000['Region, development group, country or area']))]\n",
    "filtro_de.to_csv('../../datasets/processed/proyecto_poblacion/top_16/WDI-top-de-2000.csv', index = False)"
   ]
  },
  {
   "cell_type": "code",
   "execution_count": 19,
   "metadata": {},
   "outputs": [],
   "source": [
    "data_origen_2005 = pd.read_csv('../../datasets/raw/proyecto_poblacion/top_16/top_16_origen_2005.csv')\n",
    "data_origen_2010 = pd.read_csv('../../datasets/raw/proyecto_poblacion/top_16/top_16_origen_2010.csv')\n",
    "data_origen_2015 = pd.read_csv('../../datasets/raw/proyecto_poblacion/top_16/top_16_origen_2015.csv')\n",
    "data_origen_2020 = pd.read_csv('../../datasets/raw/proyecto_poblacion/top_16/top_16_origen_2020.csv')\n",
    "data_destino_2005 = pd.read_csv('../../datasets/raw/proyecto_poblacion/top_16/top_16_destino_2005.csv')\n",
    "data_destino_2010 = pd.read_csv('../../datasets/raw/proyecto_poblacion/top_16/top_16_destino_2010.csv')\n",
    "data_destino_2015 = pd.read_csv('../../datasets/raw/proyecto_poblacion/top_16/top_16_destino_2015.csv')\n",
    "data_destino_2020 = pd.read_csv('../../datasets/raw/proyecto_poblacion/top_16/top_16_destino_2020.csv')\n"
   ]
  },
  {
   "cell_type": "code",
   "execution_count": 20,
   "metadata": {},
   "outputs": [],
   "source": [
    "data_origen_2005['Region, development group, country or area'] = data_origen_2005['Region, development group, country or area'].str.strip()\n",
    "data_origen_2010['Region, development group, country or area'] = data_origen_2010['Region, development group, country or area'].str.strip()\n",
    "data_origen_2015['Region, development group, country or area'] = data_origen_2015['Region, development group, country or area'].str.strip()\n",
    "data_origen_2020['Region, development group, country or area'] = data_origen_2020['Region, development group, country or area'].str.strip()\n",
    "data_destino_2005['Region, development group, country or area'] = data_destino_2005['Region, development group, country or area'].str.strip()\n",
    "data_destino_2010['Region, development group, country or area'] = data_destino_2010['Region, development group, country or area'].str.strip()\n",
    "data_destino_2015['Region, development group, country or area'] = data_destino_2015['Region, development group, country or area'].str.strip()\n",
    "data_destino_2020['Region, development group, country or area'] = data_destino_2020['Region, development group, country or area'].str.strip()"
   ]
  },
  {
   "cell_type": "code",
   "execution_count": 21,
   "metadata": {},
   "outputs": [],
   "source": [
    "data_origen_2005['Region, development group, country or area'] = data_origen_2005['Region, development group, country or area'].replace({\"Côte d'Ivoire\" : \"cote d'ivoire\"})\n",
    "data_origen_2010['Region, development group, country or area'] = data_origen_2010['Region, development group, country or area'].replace({\"Côte d'Ivoire\" : \"cote d'ivoire\"})\n",
    "data_origen_2015['Region, development group, country or area'] = data_origen_2015['Region, development group, country or area'].replace({\"Côte d'Ivoire\" : \"cote d'ivoire\"})\n",
    "data_origen_2020['Region, development group, country or area'] = data_origen_2020['Region, development group, country or area'].replace({\"Côte d'Ivoire\" : \"cote d'ivoire\"})\n",
    "data_destino_2005['Region, development group, country or area'] = data_destino_2005['Region, development group, country or area'].replace({\"Côte d'Ivoire\" : \"cote d'ivoire\"})\n",
    "data_destino_2010['Region, development group, country or area'] = data_destino_2010['Region, development group, country or area'].replace({\"Côte d'Ivoire\" : \"cote d'ivoire\"})\n",
    "data_destino_2015['Region, development group, country or area'] = data_destino_2015['Region, development group, country or area'].replace({\"Côte d'Ivoire\" : \"cote d'ivoire\"})\n",
    "data_destino_2020['Region, development group, country or area'] = data_destino_2020['Region, development group, country or area'].replace({\"Côte d'Ivoire\" : \"cote d'ivoire\"})"
   ]
  },
  {
   "cell_type": "code",
   "execution_count": 22,
   "metadata": {},
   "outputs": [],
   "source": [
    "data_origen_2005['Region, development group, country or area'] = data_origen_2005['Region, development group, country or area'].apply(normalize_country).str.lower()\n",
    "data_origen_2010['Region, development group, country or area'] = data_origen_2010['Region, development group, country or area'].apply(normalize_country).str.lower()\n",
    "data_origen_2015['Region, development group, country or area'] = data_origen_2015['Region, development group, country or area'].apply(normalize_country).str.lower()\n",
    "data_origen_2020['Region, development group, country or area'] = data_origen_2020['Region, development group, country or area'].apply(normalize_country).str.lower()\n",
    "data_destino_2005['Region, development group, country or area'] = data_destino_2005['Region, development group, country or area'].apply(normalize_country).str.lower()\n",
    "data_destino_2010['Region, development group, country or area'] = data_destino_2010['Region, development group, country or area'].apply(normalize_country).str.lower()\n",
    "data_destino_2015['Region, development group, country or area'] = data_destino_2015['Region, development group, country or area'].apply(normalize_country).str.lower()\n",
    "data_destino_2020['Region, development group, country or area'] = data_destino_2020['Region, development group, country or area'].apply(normalize_country).str.lower()"
   ]
  },
  {
   "cell_type": "code",
   "execution_count": 23,
   "metadata": {},
   "outputs": [],
   "source": [
    "filtro_or1 = data[(data['Country Name'].isin(data_origen_2005['Region, development group, country or area']))]\n",
    "filtro_or1.to_csv('../../datasets/processed/proyecto_poblacion/top_16/WDI-top-or-2005.csv', index = False)\n",
    "filtro_or2 = data[(data['Country Name'].isin(data_origen_2010['Region, development group, country or area']))]\n",
    "filtro_or2.to_csv('../../datasets/processed/proyecto_poblacion/top_16/WDI-top-or-2010.csv', index = False)\n",
    "filtro_or3 = data[(data['Country Name'].isin(data_origen_2015['Region, development group, country or area']))]\n",
    "filtro_or3.to_csv('../../datasets/processed/proyecto_poblacion/top_16/WDI-top-2015-or.csv', index = False)\n",
    "filtro_or4 = data[(data['Country Name'].isin(data_origen_2020['Region, development group, country or area']))]\n",
    "filtro_or4.to_csv('../../datasets/processed/proyecto_poblacion/top_16/WDI-top-2020-or.csv', index = False)"
   ]
  },
  {
   "cell_type": "code",
   "execution_count": 24,
   "metadata": {},
   "outputs": [],
   "source": [
    "filtro_de1 = data[(data['Country Name'].isin(data_destino_2005['Region, development group, country or area']))]\n",
    "filtro_de1.to_csv('../../datasets/processed/proyecto_poblacion/top_16/WDI-top-2005-de.csv', index = False)\n",
    "filtro_de2 = data[(data['Country Name'].isin(data_destino_2010['Region, development group, country or area']))]\n",
    "filtro_de2.to_csv('../../datasets/processed/proyecto_poblacion/top_16/WDI-top-2010-de.csv', index = False)\n",
    "filtro_de3 = data[(data['Country Name'].isin(data_destino_2015['Region, development group, country or area']))]\n",
    "filtro_de3.to_csv('../../datasets/processed/proyecto_poblacion/top_16/WDI-top-2015-de.csv', index = False)\n",
    "filtro_de4 = data[(data['Country Name'].isin(data_destino_2020['Region, development group, country or area']))]\n",
    "filtro_de4.to_csv('../../datasets/processed/proyecto_poblacion/top_16/WDI-top-2020-de.csv', index = False)"
   ]
  },
  {
   "cell_type": "code",
   "execution_count": 26,
   "metadata": {},
   "outputs": [],
   "source": [
    "data_origen_1990 = pd.read_csv('../../datasets/raw/proyecto_poblacion/top_16/top_16_origen_1990.csv')\n",
    "data_origen_1995 = pd.read_csv('../../datasets/raw/proyecto_poblacion/top_16/top_16_origen_1995.csv')\n",
    "data_destino_1990 = pd.read_csv('../../datasets/raw/proyecto_poblacion/top_16/top_16_destino_1990.csv')\n",
    "data_destino_1995 = pd.read_csv('../../datasets/raw/proyecto_poblacion/top_16/top_16_destino_1995.csv')"
   ]
  },
  {
   "cell_type": "code",
   "execution_count": 27,
   "metadata": {},
   "outputs": [],
   "source": [
    "data_origen_1990['Region, development group, country or area'] = data_origen_1990['Region, development group, country or area'].str.strip()\n",
    "data_origen_1995['Region, development group, country or area'] = data_origen_1995['Region, development group, country or area'].str.strip()"
   ]
  },
  {
   "cell_type": "code",
   "execution_count": 28,
   "metadata": {},
   "outputs": [],
   "source": [
    "data_destino_1990['Region, development group, country or area'] = data_destino_1990['Region, development group, country or area'].str.strip()\n",
    "data_destino_1995['Region, development group, country or area'] = data_destino_1995['Region, development group, country or area'].str.strip()"
   ]
  },
  {
   "cell_type": "code",
   "execution_count": 29,
   "metadata": {},
   "outputs": [],
   "source": [
    "data_origen_1990['Region, development group, country or area'] = data_origen_1990['Region, development group, country or area'].replace({\"Côte d'Ivoire\" : \"cote d'ivoire\"})\n",
    "data_origen_1995['Region, development group, country or area'] = data_origen_1995['Region, development group, country or area'].replace({\"Côte d'Ivoire\" : \"cote d'ivoire\"})\n",
    "data_destino_1990['Region, development group, country or area'] = data_destino_1990['Region, development group, country or area'].replace({\"Côte d'Ivoire\" : \"cote d'ivoire\"})\n",
    "data_destino_1995['Region, development group, country or area'] = data_destino_1995['Region, development group, country or area'].replace({\"Côte d'Ivoire\" : \"cote d'ivoire\"})"
   ]
  },
  {
   "cell_type": "code",
   "execution_count": 30,
   "metadata": {},
   "outputs": [],
   "source": [
    "data_origen_1990['Region, development group, country or area'] = data_origen_1990['Region, development group, country or area'].apply(normalize_country).str.lower()\n",
    "data_origen_1995['Region, development group, country or area'] = data_origen_1995['Region, development group, country or area'].apply(normalize_country).str.lower()\n",
    "data_destino_1990['Region, development group, country or area'] = data_destino_1990['Region, development group, country or area'].apply(normalize_country).str.lower()\n",
    "data_destino_1995['Region, development group, country or area'] = data_destino_1995['Region, development group, country or area'].apply(normalize_country).str.lower()"
   ]
  },
  {
   "cell_type": "code",
   "execution_count": 31,
   "metadata": {},
   "outputs": [],
   "source": [
    "filtro_or5 = data[(data['Country Name'].isin(data_origen_1990['Region, development group, country or area']))]\n",
    "filtro_or5.to_csv('../../datasets/processed/proyecto_poblacion/top_16/WDI-top-or-1990.csv', index = False)\n",
    "filtro_or6 = data[(data['Country Name'].isin(data_origen_1995['Region, development group, country or area']))]\n",
    "filtro_or6.to_csv('../../datasets/processed/proyecto_poblacion/top_16/WDI-top-or-1995.csv', index = False)"
   ]
  },
  {
   "cell_type": "code",
   "execution_count": 32,
   "metadata": {},
   "outputs": [],
   "source": [
    "filtro_de5 = data[(data['Country Name'].isin(data_destino_1990['Region, development group, country or area']))]\n",
    "filtro_de5.to_csv('../../datasets/processed/proyecto_poblacion/top_16/WDI-top-de-1990.csv', index = False)\n",
    "filtro_de6 = data[(data['Country Name'].isin(data_destino_1995['Region, development group, country or area']))]\n",
    "filtro_de6.to_csv('W../../datasets/processed/proyecto_poblacion/top_16/DI-top-de-1995.csv', index = False)"
   ]
  }
 ],
 "metadata": {
  "kernelspec": {
   "display_name": "venv",
   "language": "python",
   "name": "python3"
  },
  "language_info": {
   "codemirror_mode": {
    "name": "ipython",
    "version": 3
   },
   "file_extension": ".py",
   "mimetype": "text/x-python",
   "name": "python",
   "nbconvert_exporter": "python",
   "pygments_lexer": "ipython3",
   "version": "3.11.0"
  },
  "orig_nbformat": 4,
  "vscode": {
   "interpreter": {
    "hash": "9f51f3a78af393f2085a065c622ed6bb1d4ae12f91b310d8ac878fee426b316c"
   }
  }
 },
 "nbformat": 4,
 "nbformat_minor": 2
}
