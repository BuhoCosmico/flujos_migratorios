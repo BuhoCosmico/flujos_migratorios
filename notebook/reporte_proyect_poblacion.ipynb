{
 "cells": [
  {
   "cell_type": "code",
   "execution_count": 1,
   "metadata": {},
   "outputs": [],
   "source": [
    "import pandas as pd"
   ]
  },
  {
   "attachments": {},
   "cell_type": "markdown",
   "metadata": {},
   "source": [
    "                            Reporte de calidad poblacion total mundial"
   ]
  },
  {
   "cell_type": "code",
   "execution_count": 2,
   "metadata": {},
   "outputs": [],
   "source": [
    "data_total_poblacion = pd.read_csv('poblacion_mundial_total.csv')"
   ]
  },
  {
   "cell_type": "code",
   "execution_count": 3,
   "metadata": {},
   "outputs": [
    {
     "data": {
      "text/html": [
       "<div>\n",
       "<style scoped>\n",
       "    .dataframe tbody tr th:only-of-type {\n",
       "        vertical-align: middle;\n",
       "    }\n",
       "\n",
       "    .dataframe tbody tr th {\n",
       "        vertical-align: top;\n",
       "    }\n",
       "\n",
       "    .dataframe thead th {\n",
       "        text-align: right;\n",
       "    }\n",
       "</style>\n",
       "<table border=\"1\" class=\"dataframe\">\n",
       "  <thead>\n",
       "    <tr style=\"text-align: right;\">\n",
       "      <th></th>\n",
       "      <th>Region, development group, country or area</th>\n",
       "      <th>Notes</th>\n",
       "      <th>Location code</th>\n",
       "      <th>Type of data</th>\n",
       "      <th>1990</th>\n",
       "      <th>1995</th>\n",
       "      <th>2000</th>\n",
       "      <th>2005</th>\n",
       "      <th>2010</th>\n",
       "      <th>2015</th>\n",
       "      <th>2020</th>\n",
       "    </tr>\n",
       "  </thead>\n",
       "  <tbody>\n",
       "    <tr>\n",
       "      <th>0</th>\n",
       "      <td>WORLD</td>\n",
       "      <td>NaN</td>\n",
       "      <td>900</td>\n",
       "      <td>NaN</td>\n",
       "      <td>5 327 231</td>\n",
       "      <td>5 744 213</td>\n",
       "      <td>6 143 494</td>\n",
       "      <td>6 541 907</td>\n",
       "      <td>6 956 824</td>\n",
       "      <td>7 379 797</td>\n",
       "      <td>7 794 799</td>\n",
       "    </tr>\n",
       "    <tr>\n",
       "      <th>1</th>\n",
       "      <td>Sub-Saharan Africa</td>\n",
       "      <td>NaN</td>\n",
       "      <td>947</td>\n",
       "      <td>NaN</td>\n",
       "      <td>490 605</td>\n",
       "      <td>560 759</td>\n",
       "      <td>639 661</td>\n",
       "      <td>729 733</td>\n",
       "      <td>836 364</td>\n",
       "      <td>958 577</td>\n",
       "      <td>1 094 366</td>\n",
       "    </tr>\n",
       "    <tr>\n",
       "      <th>2</th>\n",
       "      <td>Northern Africa and Western Asia</td>\n",
       "      <td>NaN</td>\n",
       "      <td>1833</td>\n",
       "      <td>NaN</td>\n",
       "      <td>288 060</td>\n",
       "      <td>323 178</td>\n",
       "      <td>355 882</td>\n",
       "      <td>391 986</td>\n",
       "      <td>435 367</td>\n",
       "      <td>481 520</td>\n",
       "      <td>525 869</td>\n",
       "    </tr>\n",
       "    <tr>\n",
       "      <th>3</th>\n",
       "      <td>Central and Southern Asia</td>\n",
       "      <td>NaN</td>\n",
       "      <td>921</td>\n",
       "      <td>NaN</td>\n",
       "      <td>1 239 984</td>\n",
       "      <td>1 376 200</td>\n",
       "      <td>1 511 915</td>\n",
       "      <td>1 647 074</td>\n",
       "      <td>1 775 361</td>\n",
       "      <td>1 896 327</td>\n",
       "      <td>2 014 709</td>\n",
       "    </tr>\n",
       "    <tr>\n",
       "      <th>4</th>\n",
       "      <td>Eastern and South-Eastern Asia</td>\n",
       "      <td>NaN</td>\n",
       "      <td>1832</td>\n",
       "      <td>NaN</td>\n",
       "      <td>1 837 799</td>\n",
       "      <td>1 950 220</td>\n",
       "      <td>2 044 789</td>\n",
       "      <td>2 125 348</td>\n",
       "      <td>2 201 807</td>\n",
       "      <td>2 279 490</td>\n",
       "      <td>2 346 709</td>\n",
       "    </tr>\n",
       "  </tbody>\n",
       "</table>\n",
       "</div>"
      ],
      "text/plain": [
       "  Region, development group, country or area  Notes  Location code  \\\n",
       "0                                      WORLD    NaN            900   \n",
       "1                         Sub-Saharan Africa    NaN            947   \n",
       "2           Northern Africa and Western Asia    NaN           1833   \n",
       "3                  Central and Southern Asia    NaN            921   \n",
       "4             Eastern and South-Eastern Asia    NaN           1832   \n",
       "\n",
       "  Type of data       1990       1995       2000       2005       2010  \\\n",
       "0          NaN  5 327 231  5 744 213  6 143 494  6 541 907  6 956 824   \n",
       "1          NaN    490 605    560 759    639 661    729 733    836 364   \n",
       "2          NaN    288 060    323 178    355 882    391 986    435 367   \n",
       "3          NaN  1 239 984  1 376 200  1 511 915  1 647 074  1 775 361   \n",
       "4          NaN  1 837 799  1 950 220  2 044 789  2 125 348  2 201 807   \n",
       "\n",
       "        2015       2020  \n",
       "0  7 379 797  7 794 799  \n",
       "1    958 577  1 094 366  \n",
       "2    481 520    525 869  \n",
       "3  1 896 327  2 014 709  \n",
       "4  2 279 490  2 346 709  "
      ]
     },
     "execution_count": 3,
     "metadata": {},
     "output_type": "execute_result"
    }
   ],
   "source": [
    "data_total_poblacion.head()"
   ]
  },
  {
   "cell_type": "code",
   "execution_count": 4,
   "metadata": {},
   "outputs": [
    {
     "data": {
      "text/plain": [
       "Region, development group, country or area      0\n",
       "Notes                                         243\n",
       "Location code                                   0\n",
       "Type of data                                   51\n",
       "1990                                            0\n",
       "1995                                            0\n",
       "2000                                            0\n",
       "2005                                            0\n",
       "2010                                            0\n",
       "2015                                            0\n",
       "2020                                            0\n",
       "dtype: int64"
      ]
     },
     "execution_count": 4,
     "metadata": {},
     "output_type": "execute_result"
    }
   ],
   "source": [
    "data_total_poblacion.isna().sum() "
   ]
  },
  {
   "attachments": {},
   "cell_type": "markdown",
   "metadata": {},
   "source": [
    "las columnas Notes y Type of data tiene valores nulos ya que no aportan nada al modelo que se necesita se sugiere dropearlas"
   ]
  },
  {
   "cell_type": "code",
   "execution_count": 7,
   "metadata": {},
   "outputs": [
    {
     "name": "stdout",
     "output_type": "stream",
     "text": [
      "Numero de columnas: 11\n",
      "Numero de filas: 283\n"
     ]
    }
   ],
   "source": [
    "print(\"Numero de columnas:\", data_total_poblacion.shape[1])\n",
    "print(\"Numero de filas:\", data_total_poblacion.shape[0])"
   ]
  },
  {
   "cell_type": "code",
   "execution_count": 11,
   "metadata": {},
   "outputs": [
    {
     "name": "stdout",
     "output_type": "stream",
     "text": [
      "WORLD___  Sub-Saharan Africa___  Northern Africa and Western Asia___  Central and Southern Asia___  Eastern and South-Eastern Asia___  Latin America and the Caribbean___  Oceania (excluding Australia and New Zealand)___  Australia and New Zealand___  Europe and Northern America___  Developed regions___  Less developed regions___ Less developed regions, excluding least developed countries___ Less developed regions, excluding China___  Least developed countries___  Land-locked Developing Countries (LLDC)___  Small island developing States (SIDS)___  High-income countries___  Middle-income countries___ Upper-middle-income countries___ Lower-middle-income countries___  Low-income countries___ AFRICA___  Eastern Africa___   Burundi___   Comoros___   Djibouti___   Eritrea___   Ethiopia___   Kenya___   Madagascar___   Malawi___   Mauritius*___   Mayotte*___   Mozambique___   Réunion*___   Rwanda___   Seychelles___   Somalia___   South Sudan___   Uganda___   United Republic of Tanzania*___   Zambia___   Zimbabwe___  Middle Africa___   Angola___   Cameroon___   Central African Republic___   Chad___   Congo___   Democratic Republic of the Congo___   Equatorial Guinea___   Gabon___   Sao Tome and Principe___  Northern Africa___   Algeria___   Egypt___   Libya___   Morocco___   Sudan___   Tunisia___   Western Sahara___  Southern Africa___   Botswana___   Eswatini___   Lesotho___   Namibia___   South Africa___  Western Africa___   Benin___   Burkina Faso___   Cabo Verde___   Côte d'Ivoire___   Gambia___   Ghana___   Guinea___   Guinea-Bissau___   Liberia___   Mali___   Mauritania___   Niger___   Nigeria___   Saint Helena*___   Senegal___   Sierra Leone___   Togo___ ASIA___  Central Asia___   Kazakhstan___   Kyrgyzstan___   Tajikistan___   Turkmenistan___   Uzbekistan___  Eastern Asia___   China*___   China, Hong Kong SAR*___   China, Macao SAR*___   China, Taiwan Province of China*___   Dem. People's Republic of Korea___   Japan___   Mongolia___   Republic of Korea___  South-Eastern Asia___   Brunei Darussalam___   Cambodia___   Indonesia___   Lao People's Democratic Republic___   Malaysia*___   Myanmar___   Philippines___   Singapore___   Thailand___   Timor-Leste___   Viet Nam___  Southern Asia___   Afghanistan___   Bangladesh___   Bhutan___   India___   Iran (Islamic Republic of)___   Maldives___   Nepal___   Pakistan___   Sri Lanka___  Western Asia___   Armenia___   Azerbaijan*___   Bahrain___   Cyprus*___   Georgia*___   Iraq___   Israel___   Jordan___   Kuwait___   Lebanon___   Oman___   Qatar___   Saudi Arabia___   State of Palestine*___   Syrian Arab Republic___   Turkey___   United Arab Emirates___   Yemen___ EUROPE___  Eastern Europe___   Belarus___   Bulgaria___   Czechia___   Hungary___   Poland___   Republic of Moldova*___   Romania___   Russian Federation___   Slovakia___   Ukraine*___  Northern Europe___   Channel Islands*___   Denmark*___   Estonia___   Faroe Islands*___   Finland*___   Iceland___   Ireland___   Isle of Man*___   Latvia___   Lithuania___   Norway*___   Sweden___   United Kingdom*___  Southern Europe___   Albania___   Andorra___   Bosnia and Herzegovina___   Croatia___   Gibraltar*___   Greece___   Holy See*___   Italy___   Malta___   Montenegro___   North Macedonia___   Portugal___   San Marino___   Serbia*___   Slovenia___   Spain*___  Western Europe___   Austria___   Belgium___   France*___   Germany___   Liechtenstein___   Luxembourg___   Monaco___   Netherlands*___   Switzerland___ LATIN AMERICA AND THE CARIBBEAN___  Caribbean___   Anguilla*___   Antigua and Barbuda___   Aruba*___   Bahamas___   Barbados___   Bonaire, Sint Eustatius and Saba*___   British Virgin Islands*___   Cayman Islands*___   Cuba___   Curaçao*___   Dominica___   Dominican Republic___   Grenada___   Guadeloupe*___   Haiti___   Jamaica___   Martinique*___   Montserrat*___   Puerto Rico*___   Saint Barthélemy*___   Saint Kitts and Nevis___   Saint Lucia___   Saint Martin (French part)*___   Saint Vincent and the Grenadines___   Sint Maarten (Dutch part)*___   Trinidad and Tobago___   Turks and Caicos Islands*___   United States Virgin Islands*___  Central America___   Belize___   Costa Rica___   El Salvador___   Guatemala___   Honduras___   Mexico___   Nicaragua___   Panama___  South America___   Argentina___   Bolivia (Plurinational State of)___   Brazil___   Chile___   Colombia___   Ecuador___   Falkland Islands (Malvinas)*___   French Guiana*___   Guyana___   Paraguay___   Peru___   Suriname___   Uruguay___   Venezuela (Bolivarian Republic of)___ NORTHERN AMERICA___   Bermuda*___   Canada___   Greenland*___   Saint Pierre and Miquelon*___   United States of America*___ OCEANIA ___   Australia*___   New Zealand*___  Melanesia___   Fiji___   New Caledonia*___   Papua New Guinea___   Solomon Islands___   Vanuatu___  Micronesia___   Guam*___   Kiribati___   Marshall Islands___   Micronesia (Fed. States of)___   Nauru___   Northern Mariana Islands*___   Palau___  Polynesia*___   American Samoa*___   Cook Islands*___   French Polynesia*___   Niue*___   Samoa___   Tokelau*___   Tonga___   Tuvalu___   Wallis and Futuna Islands*___"
     ]
    },
    {
     "data": {
      "text/plain": [
       "'\"\\nExisten diferentes regiones con un * al final de sus nombre se deberia normalizar dichos nombres eliminando estos caracteres especiales\\nEliminar los espacios que estan al comienzo de cada dato en esta columna con el metodo strip()\\nNormalizar cada dato usando capitalize \\nNormalizar la región Dem. People\\'s Republic of Korea a North Korea\\nNormalizar la región Republic of Korea a solo South\\nNormalizar China, Macao SAR*, China, Hong Kong SAR*, China* a solo China\\nNormalizar Taiwan Province of China* a solo Taiwan\\nNormalizar  Iran (Islamic Republic of) a solo Iran\\nNormalizar Côte d\\'Ivoire a Solo Cote d\\'Ivoire\\n'"
      ]
     },
     "execution_count": 11,
     "metadata": {},
     "output_type": "execute_result"
    }
   ],
   "source": [
    "for item in data_total_poblacion['Region, development group, country or area'].unique():\n",
    "    print(item,end='___')\n",
    "\"\"\"\"\n",
    "Existen diferentes regiones con un * al final de sus nombre se deberia normalizar dichos nombres eliminando estos caracteres especiales\n",
    "Eliminar los espacios que estan al comienzo de cada dato en esta columna con el metodo strip()\n",
    "Normalizar cada dato usando capitalize \n",
    "Normalizar la región Dem. People's Republic of Korea a North Korea\n",
    "Normalizar la región Republic of Korea a solo South\n",
    "Normalizar China, Macao SAR*, China, Hong Kong SAR*, China* a solo China\n",
    "Normalizar Taiwan Province of China* a solo Taiwan\n",
    "Normalizar  Iran (Islamic Republic of) a solo Iran\n",
    "Normalizar Côte d'Ivoire a Solo Cote d'Ivoire\n",
    "\"\"\""
   ]
  },
  {
   "cell_type": "code",
   "execution_count": 17,
   "metadata": {},
   "outputs": [
    {
     "name": "stdout",
     "output_type": "stream",
     "text": [
      "<class 'pandas.core.frame.DataFrame'>\n",
      "RangeIndex: 283 entries, 0 to 282\n",
      "Data columns (total 11 columns):\n",
      " #   Column                                      Non-Null Count  Dtype  \n",
      "---  ------                                      --------------  -----  \n",
      " 0   Region, development group, country or area  283 non-null    object \n",
      " 1   Notes                                       40 non-null     float64\n",
      " 2   Location code                               283 non-null    int64  \n",
      " 3   Type of data                                232 non-null    object \n",
      " 4   1990                                        283 non-null    object \n",
      " 5   1995                                        283 non-null    object \n",
      " 6   2000                                        283 non-null    object \n",
      " 7   2005                                        283 non-null    object \n",
      " 8   2010                                        283 non-null    object \n",
      " 9   2015                                        283 non-null    object \n",
      " 10  2020                                        283 non-null    object \n",
      "dtypes: float64(1), int64(1), object(9)\n",
      "memory usage: 24.4+ KB\n"
     ]
    }
   ],
   "source": [
    "data_total_poblacion.info()"
   ]
  },
  {
   "attachments": {},
   "cell_type": "markdown",
   "metadata": {},
   "source": [
    "Los valores en los datos de las columnas anios deberian cambiar de tipo object a float"
   ]
  },
  {
   "attachments": {},
   "cell_type": "markdown",
   "metadata": {},
   "source": [
    "                                Reporte de calidad destino total de inmigrantes"
   ]
  },
  {
   "cell_type": "code",
   "execution_count": 18,
   "metadata": {},
   "outputs": [],
   "source": [
    "data_total_destino = pd.read_csv('destino_total_inmigrantes.csv')"
   ]
  },
  {
   "cell_type": "code",
   "execution_count": 19,
   "metadata": {},
   "outputs": [
    {
     "data": {
      "text/html": [
       "<div>\n",
       "<style scoped>\n",
       "    .dataframe tbody tr th:only-of-type {\n",
       "        vertical-align: middle;\n",
       "    }\n",
       "\n",
       "    .dataframe tbody tr th {\n",
       "        vertical-align: top;\n",
       "    }\n",
       "\n",
       "    .dataframe thead th {\n",
       "        text-align: right;\n",
       "    }\n",
       "</style>\n",
       "<table border=\"1\" class=\"dataframe\">\n",
       "  <thead>\n",
       "    <tr style=\"text-align: right;\">\n",
       "      <th></th>\n",
       "      <th>Region, development group, country or area</th>\n",
       "      <th>Notes</th>\n",
       "      <th>Location code</th>\n",
       "      <th>Type of data</th>\n",
       "      <th>1990</th>\n",
       "      <th>1995</th>\n",
       "      <th>2000</th>\n",
       "      <th>2005</th>\n",
       "      <th>2010</th>\n",
       "      <th>2015</th>\n",
       "      <th>2020</th>\n",
       "    </tr>\n",
       "  </thead>\n",
       "  <tbody>\n",
       "    <tr>\n",
       "      <th>0</th>\n",
       "      <td>WORLD</td>\n",
       "      <td>NaN</td>\n",
       "      <td>900</td>\n",
       "      <td>NaN</td>\n",
       "      <td>152 986 157</td>\n",
       "      <td>161 289 976</td>\n",
       "      <td>173 230 585</td>\n",
       "      <td>191 446 828</td>\n",
       "      <td>220 983 187</td>\n",
       "      <td>247 958 644</td>\n",
       "      <td>280 598 105</td>\n",
       "    </tr>\n",
       "    <tr>\n",
       "      <th>1</th>\n",
       "      <td>Sub-Saharan Africa</td>\n",
       "      <td>NaN</td>\n",
       "      <td>947</td>\n",
       "      <td>NaN</td>\n",
       "      <td>13 286 341</td>\n",
       "      <td>14 275 437</td>\n",
       "      <td>13 151 229</td>\n",
       "      <td>14 290 369</td>\n",
       "      <td>15 854 637</td>\n",
       "      <td>20 721 874</td>\n",
       "      <td>22 221 538</td>\n",
       "    </tr>\n",
       "    <tr>\n",
       "      <th>2</th>\n",
       "      <td>Northern Africa and Western Asia</td>\n",
       "      <td>NaN</td>\n",
       "      <td>1833</td>\n",
       "      <td>NaN</td>\n",
       "      <td>17 608 769</td>\n",
       "      <td>18 912 064</td>\n",
       "      <td>20 321 397</td>\n",
       "      <td>23 165 804</td>\n",
       "      <td>32 638 434</td>\n",
       "      <td>42 036 092</td>\n",
       "      <td>49 767 746</td>\n",
       "    </tr>\n",
       "    <tr>\n",
       "      <th>3</th>\n",
       "      <td>Central and Southern Asia</td>\n",
       "      <td>NaN</td>\n",
       "      <td>921</td>\n",
       "      <td>NaN</td>\n",
       "      <td>26 168 623</td>\n",
       "      <td>21 247 814</td>\n",
       "      <td>20 139 825</td>\n",
       "      <td>18 854 544</td>\n",
       "      <td>19 676 783</td>\n",
       "      <td>19 266 265</td>\n",
       "      <td>19 427 576</td>\n",
       "    </tr>\n",
       "    <tr>\n",
       "      <th>4</th>\n",
       "      <td>Eastern and South-Eastern Asia</td>\n",
       "      <td>NaN</td>\n",
       "      <td>1832</td>\n",
       "      <td>NaN</td>\n",
       "      <td>6 835 882</td>\n",
       "      <td>8 339 806</td>\n",
       "      <td>10 506 212</td>\n",
       "      <td>12 979 157</td>\n",
       "      <td>15 760 463</td>\n",
       "      <td>18 027 810</td>\n",
       "      <td>19 591 106</td>\n",
       "    </tr>\n",
       "  </tbody>\n",
       "</table>\n",
       "</div>"
      ],
      "text/plain": [
       "  Region, development group, country or area  Notes  Location code  \\\n",
       "0                                      WORLD    NaN            900   \n",
       "1                         Sub-Saharan Africa    NaN            947   \n",
       "2           Northern Africa and Western Asia    NaN           1833   \n",
       "3                  Central and Southern Asia    NaN            921   \n",
       "4             Eastern and South-Eastern Asia    NaN           1832   \n",
       "\n",
       "  Type of data         1990         1995         2000         2005  \\\n",
       "0          NaN  152 986 157  161 289 976  173 230 585  191 446 828   \n",
       "1          NaN   13 286 341   14 275 437   13 151 229   14 290 369   \n",
       "2          NaN   17 608 769   18 912 064   20 321 397   23 165 804   \n",
       "3          NaN   26 168 623   21 247 814   20 139 825   18 854 544   \n",
       "4          NaN    6 835 882    8 339 806   10 506 212   12 979 157   \n",
       "\n",
       "          2010         2015         2020  \n",
       "0  220 983 187  247 958 644  280 598 105  \n",
       "1   15 854 637   20 721 874   22 221 538  \n",
       "2   32 638 434   42 036 092   49 767 746  \n",
       "3   19 676 783   19 266 265   19 427 576  \n",
       "4   15 760 463   18 027 810   19 591 106  "
      ]
     },
     "execution_count": 19,
     "metadata": {},
     "output_type": "execute_result"
    }
   ],
   "source": [
    "data_total_destino.head()"
   ]
  },
  {
   "cell_type": "code",
   "execution_count": 20,
   "metadata": {},
   "outputs": [
    {
     "data": {
      "text/plain": [
       "Region, development group, country or area      0\n",
       "Notes                                         243\n",
       "Location code                                   0\n",
       "Type of data                                   51\n",
       "1990                                            0\n",
       "1995                                            0\n",
       "2000                                            0\n",
       "2005                                            0\n",
       "2010                                            0\n",
       "2015                                            0\n",
       "2020                                            0\n",
       "dtype: int64"
      ]
     },
     "execution_count": 20,
     "metadata": {},
     "output_type": "execute_result"
    }
   ],
   "source": [
    "data_total_destino.isna().sum()"
   ]
  },
  {
   "attachments": {},
   "cell_type": "markdown",
   "metadata": {},
   "source": [
    "Dropear las columnas Notes y type of data ya que no son necesarias y ademas tienen valores nulos"
   ]
  },
  {
   "cell_type": "code",
   "execution_count": 21,
   "metadata": {},
   "outputs": [
    {
     "data": {
      "text/html": [
       "<div>\n",
       "<style scoped>\n",
       "    .dataframe tbody tr th:only-of-type {\n",
       "        vertical-align: middle;\n",
       "    }\n",
       "\n",
       "    .dataframe tbody tr th {\n",
       "        vertical-align: top;\n",
       "    }\n",
       "\n",
       "    .dataframe thead th {\n",
       "        text-align: right;\n",
       "    }\n",
       "</style>\n",
       "<table border=\"1\" class=\"dataframe\">\n",
       "  <thead>\n",
       "    <tr style=\"text-align: right;\">\n",
       "      <th></th>\n",
       "      <th>Region, development group, country or area</th>\n",
       "      <th>Notes</th>\n",
       "      <th>Location code</th>\n",
       "      <th>Type of data</th>\n",
       "      <th>1990</th>\n",
       "      <th>1995</th>\n",
       "      <th>2000</th>\n",
       "      <th>2005</th>\n",
       "      <th>2010</th>\n",
       "      <th>2015</th>\n",
       "      <th>2020</th>\n",
       "    </tr>\n",
       "  </thead>\n",
       "  <tbody>\n",
       "    <tr>\n",
       "      <th>256</th>\n",
       "      <td>Australia and New Zealand</td>\n",
       "      <td>NaN</td>\n",
       "      <td>927</td>\n",
       "      <td>NaN</td>\n",
       "      <td>4 473 260</td>\n",
       "      <td>4 741 947</td>\n",
       "      <td>5 065 063</td>\n",
       "      <td>5 717 982</td>\n",
       "      <td>6 830 423</td>\n",
       "      <td>7 769 466</td>\n",
       "      <td>9 067 584</td>\n",
       "    </tr>\n",
       "  </tbody>\n",
       "</table>\n",
       "</div>"
      ],
      "text/plain": [
       "    Region, development group, country or area  Notes  Location code  \\\n",
       "256                  Australia and New Zealand    NaN            927   \n",
       "\n",
       "    Type of data       1990       1995       2000       2005       2010  \\\n",
       "256          NaN  4 473 260  4 741 947  5 065 063  5 717 982  6 830 423   \n",
       "\n",
       "          2015       2020  \n",
       "256  7 769 466  9 067 584  "
      ]
     },
     "execution_count": 21,
     "metadata": {},
     "output_type": "execute_result"
    }
   ],
   "source": [
    "data_total_destino[data_total_destino.duplicated()]"
   ]
  },
  {
   "cell_type": "code",
   "execution_count": 23,
   "metadata": {},
   "outputs": [
    {
     "data": {
      "text/html": [
       "<div>\n",
       "<style scoped>\n",
       "    .dataframe tbody tr th:only-of-type {\n",
       "        vertical-align: middle;\n",
       "    }\n",
       "\n",
       "    .dataframe tbody tr th {\n",
       "        vertical-align: top;\n",
       "    }\n",
       "\n",
       "    .dataframe thead th {\n",
       "        text-align: right;\n",
       "    }\n",
       "</style>\n",
       "<table border=\"1\" class=\"dataframe\">\n",
       "  <thead>\n",
       "    <tr style=\"text-align: right;\">\n",
       "      <th></th>\n",
       "      <th>Region, development group, country or area</th>\n",
       "      <th>Notes</th>\n",
       "      <th>Location code</th>\n",
       "      <th>Type of data</th>\n",
       "      <th>1990</th>\n",
       "      <th>1995</th>\n",
       "      <th>2000</th>\n",
       "      <th>2005</th>\n",
       "      <th>2010</th>\n",
       "      <th>2015</th>\n",
       "      <th>2020</th>\n",
       "    </tr>\n",
       "  </thead>\n",
       "  <tbody>\n",
       "    <tr>\n",
       "      <th>7</th>\n",
       "      <td>Australia and New Zealand</td>\n",
       "      <td>NaN</td>\n",
       "      <td>927</td>\n",
       "      <td>NaN</td>\n",
       "      <td>4 473 260</td>\n",
       "      <td>4 741 947</td>\n",
       "      <td>5 065 063</td>\n",
       "      <td>5 717 982</td>\n",
       "      <td>6 830 423</td>\n",
       "      <td>7 769 466</td>\n",
       "      <td>9 067 584</td>\n",
       "    </tr>\n",
       "    <tr>\n",
       "      <th>256</th>\n",
       "      <td>Australia and New Zealand</td>\n",
       "      <td>NaN</td>\n",
       "      <td>927</td>\n",
       "      <td>NaN</td>\n",
       "      <td>4 473 260</td>\n",
       "      <td>4 741 947</td>\n",
       "      <td>5 065 063</td>\n",
       "      <td>5 717 982</td>\n",
       "      <td>6 830 423</td>\n",
       "      <td>7 769 466</td>\n",
       "      <td>9 067 584</td>\n",
       "    </tr>\n",
       "  </tbody>\n",
       "</table>\n",
       "</div>"
      ],
      "text/plain": [
       "    Region, development group, country or area  Notes  Location code  \\\n",
       "7                    Australia and New Zealand    NaN            927   \n",
       "256                  Australia and New Zealand    NaN            927   \n",
       "\n",
       "    Type of data       1990       1995       2000       2005       2010  \\\n",
       "7            NaN  4 473 260  4 741 947  5 065 063  5 717 982  6 830 423   \n",
       "256          NaN  4 473 260  4 741 947  5 065 063  5 717 982  6 830 423   \n",
       "\n",
       "          2015       2020  \n",
       "7    7 769 466  9 067 584  \n",
       "256  7 769 466  9 067 584  "
      ]
     },
     "execution_count": 23,
     "metadata": {},
     "output_type": "execute_result"
    }
   ],
   "source": [
    "data_total_destino[data_total_destino['Region, development group, country or area']  == '  Australia and New Zealand' ]"
   ]
  },
  {
   "attachments": {},
   "cell_type": "markdown",
   "metadata": {},
   "source": [
    "Se sugiere dropear alguna de estas filas ya que estan duplicados"
   ]
  },
  {
   "cell_type": "code",
   "execution_count": 24,
   "metadata": {},
   "outputs": [
    {
     "name": "stdout",
     "output_type": "stream",
     "text": [
      "<class 'pandas.core.frame.DataFrame'>\n",
      "RangeIndex: 283 entries, 0 to 282\n",
      "Data columns (total 11 columns):\n",
      " #   Column                                      Non-Null Count  Dtype  \n",
      "---  ------                                      --------------  -----  \n",
      " 0   Region, development group, country or area  283 non-null    object \n",
      " 1   Notes                                       40 non-null     float64\n",
      " 2   Location code                               283 non-null    int64  \n",
      " 3   Type of data                                232 non-null    object \n",
      " 4   1990                                        283 non-null    object \n",
      " 5   1995                                        283 non-null    object \n",
      " 6   2000                                        283 non-null    object \n",
      " 7   2005                                        283 non-null    object \n",
      " 8   2010                                        283 non-null    object \n",
      " 9   2015                                        283 non-null    object \n",
      " 10  2020                                        283 non-null    object \n",
      "dtypes: float64(1), int64(1), object(9)\n",
      "memory usage: 24.4+ KB\n"
     ]
    }
   ],
   "source": [
    "data_total_destino.info()"
   ]
  },
  {
   "attachments": {},
   "cell_type": "markdown",
   "metadata": {},
   "source": [
    "Cambiar las columnas años de tipo object a tipo float"
   ]
  },
  {
   "attachments": {},
   "cell_type": "markdown",
   "metadata": {},
   "source": [
    "Normalizar la columna Region, development group, country or area como en el dataframe anterior"
   ]
  },
  {
   "attachments": {},
   "cell_type": "markdown",
   "metadata": {},
   "source": [
    "                                Reporte de calidad del dato para el dataset Origen total emigrantes"
   ]
  },
  {
   "cell_type": "code",
   "execution_count": 25,
   "metadata": {},
   "outputs": [],
   "source": [
    "data_origen_emigrantes = pd.read_csv('origen_total_emigrantes.csv')"
   ]
  },
  {
   "cell_type": "code",
   "execution_count": 26,
   "metadata": {},
   "outputs": [
    {
     "data": {
      "text/html": [
       "<div>\n",
       "<style scoped>\n",
       "    .dataframe tbody tr th:only-of-type {\n",
       "        vertical-align: middle;\n",
       "    }\n",
       "\n",
       "    .dataframe tbody tr th {\n",
       "        vertical-align: top;\n",
       "    }\n",
       "\n",
       "    .dataframe thead th {\n",
       "        text-align: right;\n",
       "    }\n",
       "</style>\n",
       "<table border=\"1\" class=\"dataframe\">\n",
       "  <thead>\n",
       "    <tr style=\"text-align: right;\">\n",
       "      <th></th>\n",
       "      <th>Region, development group, country or area</th>\n",
       "      <th>Location code</th>\n",
       "      <th>1990</th>\n",
       "      <th>1995</th>\n",
       "      <th>2000</th>\n",
       "      <th>2005</th>\n",
       "      <th>2010</th>\n",
       "      <th>2015</th>\n",
       "      <th>2020</th>\n",
       "    </tr>\n",
       "  </thead>\n",
       "  <tbody>\n",
       "    <tr>\n",
       "      <th>0</th>\n",
       "      <td>WORLD</td>\n",
       "      <td>900</td>\n",
       "      <td>152 986 157</td>\n",
       "      <td>161 289 976</td>\n",
       "      <td>173 230 585</td>\n",
       "      <td>191 446 828</td>\n",
       "      <td>220 983 187</td>\n",
       "      <td>247 958 644</td>\n",
       "      <td>280 598 105</td>\n",
       "    </tr>\n",
       "    <tr>\n",
       "      <th>1</th>\n",
       "      <td>Sub-Saharan Africa</td>\n",
       "      <td>947</td>\n",
       "      <td>15 334 807</td>\n",
       "      <td>16 488 973</td>\n",
       "      <td>15 638 014</td>\n",
       "      <td>17 274 985</td>\n",
       "      <td>19 942 724</td>\n",
       "      <td>24 197 211</td>\n",
       "      <td>28 284 538</td>\n",
       "    </tr>\n",
       "    <tr>\n",
       "      <th>2</th>\n",
       "      <td>Northern Africa and Western Asia</td>\n",
       "      <td>1833</td>\n",
       "      <td>16 365 218</td>\n",
       "      <td>18 069 437</td>\n",
       "      <td>19 437 054</td>\n",
       "      <td>21 867 791</td>\n",
       "      <td>25 313 711</td>\n",
       "      <td>32 606 047</td>\n",
       "      <td>37 563 820</td>\n",
       "    </tr>\n",
       "    <tr>\n",
       "      <th>3</th>\n",
       "      <td>Central and Southern Asia</td>\n",
       "      <td>921</td>\n",
       "      <td>31 104 020</td>\n",
       "      <td>29 069 983</td>\n",
       "      <td>30 897 694</td>\n",
       "      <td>33 347 690</td>\n",
       "      <td>41 082 388</td>\n",
       "      <td>46 481 130</td>\n",
       "      <td>51 229 549</td>\n",
       "    </tr>\n",
       "    <tr>\n",
       "      <th>4</th>\n",
       "      <td>Eastern and South-Eastern Asia</td>\n",
       "      <td>1832</td>\n",
       "      <td>14 774 419</td>\n",
       "      <td>17 860 923</td>\n",
       "      <td>21 440 854</td>\n",
       "      <td>25 556 983</td>\n",
       "      <td>30 977 206</td>\n",
       "      <td>35 205 590</td>\n",
       "      <td>38 400 740</td>\n",
       "    </tr>\n",
       "  </tbody>\n",
       "</table>\n",
       "</div>"
      ],
      "text/plain": [
       "  Region, development group, country or area  Location code         1990  \\\n",
       "0                                      WORLD            900  152 986 157   \n",
       "1                         Sub-Saharan Africa            947   15 334 807   \n",
       "2           Northern Africa and Western Asia           1833   16 365 218   \n",
       "3                  Central and Southern Asia            921   31 104 020   \n",
       "4             Eastern and South-Eastern Asia           1832   14 774 419   \n",
       "\n",
       "          1995         2000         2005         2010         2015  \\\n",
       "0  161 289 976  173 230 585  191 446 828  220 983 187  247 958 644   \n",
       "1   16 488 973   15 638 014   17 274 985   19 942 724   24 197 211   \n",
       "2   18 069 437   19 437 054   21 867 791   25 313 711   32 606 047   \n",
       "3   29 069 983   30 897 694   33 347 690   41 082 388   46 481 130   \n",
       "4   17 860 923   21 440 854   25 556 983   30 977 206   35 205 590   \n",
       "\n",
       "          2020  \n",
       "0  280 598 105  \n",
       "1   28 284 538  \n",
       "2   37 563 820  \n",
       "3   51 229 549  \n",
       "4   38 400 740  "
      ]
     },
     "execution_count": 26,
     "metadata": {},
     "output_type": "execute_result"
    }
   ],
   "source": [
    "data_origen_emigrantes.head()"
   ]
  },
  {
   "cell_type": "code",
   "execution_count": 27,
   "metadata": {},
   "outputs": [
    {
     "name": "stdout",
     "output_type": "stream",
     "text": [
      "<class 'pandas.core.frame.DataFrame'>\n",
      "RangeIndex: 284 entries, 0 to 283\n",
      "Data columns (total 9 columns):\n",
      " #   Column                                      Non-Null Count  Dtype \n",
      "---  ------                                      --------------  ----- \n",
      " 0   Region, development group, country or area  284 non-null    object\n",
      " 1   Location code                               284 non-null    int64 \n",
      " 2   1990                                        284 non-null    object\n",
      " 3   1995                                        284 non-null    object\n",
      " 4   2000                                        284 non-null    object\n",
      " 5   2005                                        284 non-null    object\n",
      " 6   2010                                        284 non-null    object\n",
      " 7   2015                                        284 non-null    object\n",
      " 8   2020                                        284 non-null    object\n",
      "dtypes: int64(1), object(8)\n",
      "memory usage: 20.1+ KB\n"
     ]
    }
   ],
   "source": [
    "data_origen_emigrantes.info()"
   ]
  },
  {
   "attachments": {},
   "cell_type": "markdown",
   "metadata": {},
   "source": [
    "Las columnas años que van desde 1990 hasta 2020 cada 5 años se debe cambiar su tipo de object a float"
   ]
  },
  {
   "cell_type": "code",
   "execution_count": 28,
   "metadata": {},
   "outputs": [
    {
     "data": {
      "text/plain": [
       "Region, development group, country or area    0\n",
       "Location code                                 0\n",
       "1990                                          0\n",
       "1995                                          0\n",
       "2000                                          0\n",
       "2005                                          0\n",
       "2010                                          0\n",
       "2015                                          0\n",
       "2020                                          0\n",
       "dtype: int64"
      ]
     },
     "execution_count": 28,
     "metadata": {},
     "output_type": "execute_result"
    }
   ],
   "source": [
    "data_origen_emigrantes.isna().sum()"
   ]
  },
  {
   "attachments": {},
   "cell_type": "markdown",
   "metadata": {},
   "source": [
    "Este dataset no contiene valores nulos "
   ]
  },
  {
   "cell_type": "code",
   "execution_count": 29,
   "metadata": {},
   "outputs": [
    {
     "data": {
      "text/html": [
       "<div>\n",
       "<style scoped>\n",
       "    .dataframe tbody tr th:only-of-type {\n",
       "        vertical-align: middle;\n",
       "    }\n",
       "\n",
       "    .dataframe tbody tr th {\n",
       "        vertical-align: top;\n",
       "    }\n",
       "\n",
       "    .dataframe thead th {\n",
       "        text-align: right;\n",
       "    }\n",
       "</style>\n",
       "<table border=\"1\" class=\"dataframe\">\n",
       "  <thead>\n",
       "    <tr style=\"text-align: right;\">\n",
       "      <th></th>\n",
       "      <th>Region, development group, country or area</th>\n",
       "      <th>Location code</th>\n",
       "      <th>1990</th>\n",
       "      <th>1995</th>\n",
       "      <th>2000</th>\n",
       "      <th>2005</th>\n",
       "      <th>2010</th>\n",
       "      <th>2015</th>\n",
       "      <th>2020</th>\n",
       "    </tr>\n",
       "  </thead>\n",
       "  <tbody>\n",
       "    <tr>\n",
       "      <th>256</th>\n",
       "      <td>Australia and New Zealand</td>\n",
       "      <td>927</td>\n",
       "      <td>689 030</td>\n",
       "      <td>758 234</td>\n",
       "      <td>871 660</td>\n",
       "      <td>984 280</td>\n",
       "      <td>1 149 265</td>\n",
       "      <td>1 256 202</td>\n",
       "      <td>1 404 924</td>\n",
       "    </tr>\n",
       "  </tbody>\n",
       "</table>\n",
       "</div>"
      ],
      "text/plain": [
       "    Region, development group, country or area  Location code      1990  \\\n",
       "256                  Australia and New Zealand            927   689 030   \n",
       "\n",
       "         1995      2000      2005       2010       2015       2020  \n",
       "256   758 234   871 660   984 280  1 149 265  1 256 202  1 404 924  "
      ]
     },
     "execution_count": 29,
     "metadata": {},
     "output_type": "execute_result"
    }
   ],
   "source": [
    "data_origen_emigrantes[data_origen_emigrantes.duplicated()]"
   ]
  },
  {
   "cell_type": "code",
   "execution_count": 30,
   "metadata": {},
   "outputs": [
    {
     "data": {
      "text/html": [
       "<div>\n",
       "<style scoped>\n",
       "    .dataframe tbody tr th:only-of-type {\n",
       "        vertical-align: middle;\n",
       "    }\n",
       "\n",
       "    .dataframe tbody tr th {\n",
       "        vertical-align: top;\n",
       "    }\n",
       "\n",
       "    .dataframe thead th {\n",
       "        text-align: right;\n",
       "    }\n",
       "</style>\n",
       "<table border=\"1\" class=\"dataframe\">\n",
       "  <thead>\n",
       "    <tr style=\"text-align: right;\">\n",
       "      <th></th>\n",
       "      <th>Region, development group, country or area</th>\n",
       "      <th>Location code</th>\n",
       "      <th>1990</th>\n",
       "      <th>1995</th>\n",
       "      <th>2000</th>\n",
       "      <th>2005</th>\n",
       "      <th>2010</th>\n",
       "      <th>2015</th>\n",
       "      <th>2020</th>\n",
       "    </tr>\n",
       "  </thead>\n",
       "  <tbody>\n",
       "    <tr>\n",
       "      <th>7</th>\n",
       "      <td>Australia and New Zealand</td>\n",
       "      <td>927</td>\n",
       "      <td>689 030</td>\n",
       "      <td>758 234</td>\n",
       "      <td>871 660</td>\n",
       "      <td>984 280</td>\n",
       "      <td>1 149 265</td>\n",
       "      <td>1 256 202</td>\n",
       "      <td>1 404 924</td>\n",
       "    </tr>\n",
       "    <tr>\n",
       "      <th>256</th>\n",
       "      <td>Australia and New Zealand</td>\n",
       "      <td>927</td>\n",
       "      <td>689 030</td>\n",
       "      <td>758 234</td>\n",
       "      <td>871 660</td>\n",
       "      <td>984 280</td>\n",
       "      <td>1 149 265</td>\n",
       "      <td>1 256 202</td>\n",
       "      <td>1 404 924</td>\n",
       "    </tr>\n",
       "  </tbody>\n",
       "</table>\n",
       "</div>"
      ],
      "text/plain": [
       "    Region, development group, country or area  Location code      1990  \\\n",
       "7                    Australia and New Zealand            927   689 030   \n",
       "256                  Australia and New Zealand            927   689 030   \n",
       "\n",
       "         1995      2000      2005       2010       2015       2020  \n",
       "7     758 234   871 660   984 280  1 149 265  1 256 202  1 404 924  \n",
       "256   758 234   871 660   984 280  1 149 265  1 256 202  1 404 924  "
      ]
     },
     "execution_count": 30,
     "metadata": {},
     "output_type": "execute_result"
    }
   ],
   "source": [
    "data_origen_emigrantes[data_origen_emigrantes['Region, development group, country or area'] == '  Australia and New Zealand']"
   ]
  },
  {
   "attachments": {},
   "cell_type": "markdown",
   "metadata": {},
   "source": [
    "Eliminar alguno de estos duplicados\n",
    " \n",
    "Normalizar la columna Region, development group, country or area eliminar caracteres especiales y el mismo tratamiento sugerido en el primer dataset"
   ]
  }
 ],
 "metadata": {
  "kernelspec": {
   "display_name": "Python 3",
   "language": "python",
   "name": "python3"
  },
  "language_info": {
   "codemirror_mode": {
    "name": "ipython",
    "version": 3
   },
   "file_extension": ".py",
   "mimetype": "text/x-python",
   "name": "python",
   "nbconvert_exporter": "python",
   "pygments_lexer": "ipython3",
   "version": "3.10.7"
  },
  "orig_nbformat": 4,
  "vscode": {
   "interpreter": {
    "hash": "df95319d8ce4e1d89f5365ae10992bc1f65da593082b1d264e8f529830ec2f02"
   }
  }
 },
 "nbformat": 4,
 "nbformat_minor": 2
}
