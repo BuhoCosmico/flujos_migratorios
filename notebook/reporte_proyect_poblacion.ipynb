{
  "cells": [
    {
      "cell_type": "markdown",
      "metadata": {
        "id": "FMi9Cg__HDVk"
      },
      "source": [
        "                            Reporte de calidad poblacion total mundial"
      ]
    },
    {
      "cell_type": "code",
      "execution_count": 24,
      "metadata": {
        "id": "oC-M9oXOHDVH"
      },
      "outputs": [],
      "source": [
        "import pandas as pd\n",
        "import numpy as np"
      ]
    },
    {
      "cell_type": "code",
      "execution_count": 3,
      "metadata": {
        "id": "ziX4EMlYHDVp"
      },
      "outputs": [],
      "source": [
        "data_total_poblacion = pd.read_csv('/content/poblacion_mundial_total.csv')"
      ]
    },
    {
      "cell_type": "code",
      "execution_count": 4,
      "metadata": {
        "colab": {
          "base_uri": "https://localhost:8080/",
          "height": 206
        },
        "id": "ho8dpT5bHDVq",
        "outputId": "dfdb451a-0460-47d1-98f9-803a0ad3ab9d"
      },
      "outputs": [
        {
          "output_type": "execute_result",
          "data": {
            "text/plain": [
              "  Region, development group, country or area  Notes  Location code  \\\n",
              "0                                      WORLD    NaN            900   \n",
              "1                         Sub-Saharan Africa    NaN            947   \n",
              "2           Northern Africa and Western Asia    NaN           1833   \n",
              "3                  Central and Southern Asia    NaN            921   \n",
              "4             Eastern and South-Eastern Asia    NaN           1832   \n",
              "\n",
              "  Type of data       1990       1995       2000       2005       2010  \\\n",
              "0          NaN  5 327 231  5 744 213  6 143 494  6 541 907  6 956 824   \n",
              "1          NaN    490 605    560 759    639 661    729 733    836 364   \n",
              "2          NaN    288 060    323 178    355 882    391 986    435 367   \n",
              "3          NaN  1 239 984  1 376 200  1 511 915  1 647 074  1 775 361   \n",
              "4          NaN  1 837 799  1 950 220  2 044 789  2 125 348  2 201 807   \n",
              "\n",
              "        2015       2020  \n",
              "0  7 379 797  7 794 799  \n",
              "1    958 577  1 094 366  \n",
              "2    481 520    525 869  \n",
              "3  1 896 327  2 014 709  \n",
              "4  2 279 490  2 346 709  "
            ],
            "text/html": [
              "\n",
              "  <div id=\"df-77a65683-0987-425b-b72e-550b18ba2de1\">\n",
              "    <div class=\"colab-df-container\">\n",
              "      <div>\n",
              "<style scoped>\n",
              "    .dataframe tbody tr th:only-of-type {\n",
              "        vertical-align: middle;\n",
              "    }\n",
              "\n",
              "    .dataframe tbody tr th {\n",
              "        vertical-align: top;\n",
              "    }\n",
              "\n",
              "    .dataframe thead th {\n",
              "        text-align: right;\n",
              "    }\n",
              "</style>\n",
              "<table border=\"1\" class=\"dataframe\">\n",
              "  <thead>\n",
              "    <tr style=\"text-align: right;\">\n",
              "      <th></th>\n",
              "      <th>Region, development group, country or area</th>\n",
              "      <th>Notes</th>\n",
              "      <th>Location code</th>\n",
              "      <th>Type of data</th>\n",
              "      <th>1990</th>\n",
              "      <th>1995</th>\n",
              "      <th>2000</th>\n",
              "      <th>2005</th>\n",
              "      <th>2010</th>\n",
              "      <th>2015</th>\n",
              "      <th>2020</th>\n",
              "    </tr>\n",
              "  </thead>\n",
              "  <tbody>\n",
              "    <tr>\n",
              "      <th>0</th>\n",
              "      <td>WORLD</td>\n",
              "      <td>NaN</td>\n",
              "      <td>900</td>\n",
              "      <td>NaN</td>\n",
              "      <td>5 327 231</td>\n",
              "      <td>5 744 213</td>\n",
              "      <td>6 143 494</td>\n",
              "      <td>6 541 907</td>\n",
              "      <td>6 956 824</td>\n",
              "      <td>7 379 797</td>\n",
              "      <td>7 794 799</td>\n",
              "    </tr>\n",
              "    <tr>\n",
              "      <th>1</th>\n",
              "      <td>Sub-Saharan Africa</td>\n",
              "      <td>NaN</td>\n",
              "      <td>947</td>\n",
              "      <td>NaN</td>\n",
              "      <td>490 605</td>\n",
              "      <td>560 759</td>\n",
              "      <td>639 661</td>\n",
              "      <td>729 733</td>\n",
              "      <td>836 364</td>\n",
              "      <td>958 577</td>\n",
              "      <td>1 094 366</td>\n",
              "    </tr>\n",
              "    <tr>\n",
              "      <th>2</th>\n",
              "      <td>Northern Africa and Western Asia</td>\n",
              "      <td>NaN</td>\n",
              "      <td>1833</td>\n",
              "      <td>NaN</td>\n",
              "      <td>288 060</td>\n",
              "      <td>323 178</td>\n",
              "      <td>355 882</td>\n",
              "      <td>391 986</td>\n",
              "      <td>435 367</td>\n",
              "      <td>481 520</td>\n",
              "      <td>525 869</td>\n",
              "    </tr>\n",
              "    <tr>\n",
              "      <th>3</th>\n",
              "      <td>Central and Southern Asia</td>\n",
              "      <td>NaN</td>\n",
              "      <td>921</td>\n",
              "      <td>NaN</td>\n",
              "      <td>1 239 984</td>\n",
              "      <td>1 376 200</td>\n",
              "      <td>1 511 915</td>\n",
              "      <td>1 647 074</td>\n",
              "      <td>1 775 361</td>\n",
              "      <td>1 896 327</td>\n",
              "      <td>2 014 709</td>\n",
              "    </tr>\n",
              "    <tr>\n",
              "      <th>4</th>\n",
              "      <td>Eastern and South-Eastern Asia</td>\n",
              "      <td>NaN</td>\n",
              "      <td>1832</td>\n",
              "      <td>NaN</td>\n",
              "      <td>1 837 799</td>\n",
              "      <td>1 950 220</td>\n",
              "      <td>2 044 789</td>\n",
              "      <td>2 125 348</td>\n",
              "      <td>2 201 807</td>\n",
              "      <td>2 279 490</td>\n",
              "      <td>2 346 709</td>\n",
              "    </tr>\n",
              "  </tbody>\n",
              "</table>\n",
              "</div>\n",
              "      <button class=\"colab-df-convert\" onclick=\"convertToInteractive('df-77a65683-0987-425b-b72e-550b18ba2de1')\"\n",
              "              title=\"Convert this dataframe to an interactive table.\"\n",
              "              style=\"display:none;\">\n",
              "        \n",
              "  <svg xmlns=\"http://www.w3.org/2000/svg\" height=\"24px\"viewBox=\"0 0 24 24\"\n",
              "       width=\"24px\">\n",
              "    <path d=\"M0 0h24v24H0V0z\" fill=\"none\"/>\n",
              "    <path d=\"M18.56 5.44l.94 2.06.94-2.06 2.06-.94-2.06-.94-.94-2.06-.94 2.06-2.06.94zm-11 1L8.5 8.5l.94-2.06 2.06-.94-2.06-.94L8.5 2.5l-.94 2.06-2.06.94zm10 10l.94 2.06.94-2.06 2.06-.94-2.06-.94-.94-2.06-.94 2.06-2.06.94z\"/><path d=\"M17.41 7.96l-1.37-1.37c-.4-.4-.92-.59-1.43-.59-.52 0-1.04.2-1.43.59L10.3 9.45l-7.72 7.72c-.78.78-.78 2.05 0 2.83L4 21.41c.39.39.9.59 1.41.59.51 0 1.02-.2 1.41-.59l7.78-7.78 2.81-2.81c.8-.78.8-2.07 0-2.86zM5.41 20L4 18.59l7.72-7.72 1.47 1.35L5.41 20z\"/>\n",
              "  </svg>\n",
              "      </button>\n",
              "      \n",
              "  <style>\n",
              "    .colab-df-container {\n",
              "      display:flex;\n",
              "      flex-wrap:wrap;\n",
              "      gap: 12px;\n",
              "    }\n",
              "\n",
              "    .colab-df-convert {\n",
              "      background-color: #E8F0FE;\n",
              "      border: none;\n",
              "      border-radius: 50%;\n",
              "      cursor: pointer;\n",
              "      display: none;\n",
              "      fill: #1967D2;\n",
              "      height: 32px;\n",
              "      padding: 0 0 0 0;\n",
              "      width: 32px;\n",
              "    }\n",
              "\n",
              "    .colab-df-convert:hover {\n",
              "      background-color: #E2EBFA;\n",
              "      box-shadow: 0px 1px 2px rgba(60, 64, 67, 0.3), 0px 1px 3px 1px rgba(60, 64, 67, 0.15);\n",
              "      fill: #174EA6;\n",
              "    }\n",
              "\n",
              "    [theme=dark] .colab-df-convert {\n",
              "      background-color: #3B4455;\n",
              "      fill: #D2E3FC;\n",
              "    }\n",
              "\n",
              "    [theme=dark] .colab-df-convert:hover {\n",
              "      background-color: #434B5C;\n",
              "      box-shadow: 0px 1px 3px 1px rgba(0, 0, 0, 0.15);\n",
              "      filter: drop-shadow(0px 1px 2px rgba(0, 0, 0, 0.3));\n",
              "      fill: #FFFFFF;\n",
              "    }\n",
              "  </style>\n",
              "\n",
              "      <script>\n",
              "        const buttonEl =\n",
              "          document.querySelector('#df-77a65683-0987-425b-b72e-550b18ba2de1 button.colab-df-convert');\n",
              "        buttonEl.style.display =\n",
              "          google.colab.kernel.accessAllowed ? 'block' : 'none';\n",
              "\n",
              "        async function convertToInteractive(key) {\n",
              "          const element = document.querySelector('#df-77a65683-0987-425b-b72e-550b18ba2de1');\n",
              "          const dataTable =\n",
              "            await google.colab.kernel.invokeFunction('convertToInteractive',\n",
              "                                                     [key], {});\n",
              "          if (!dataTable) return;\n",
              "\n",
              "          const docLinkHtml = 'Like what you see? Visit the ' +\n",
              "            '<a target=\"_blank\" href=https://colab.research.google.com/notebooks/data_table.ipynb>data table notebook</a>'\n",
              "            + ' to learn more about interactive tables.';\n",
              "          element.innerHTML = '';\n",
              "          dataTable['output_type'] = 'display_data';\n",
              "          await google.colab.output.renderOutput(dataTable, element);\n",
              "          const docLink = document.createElement('div');\n",
              "          docLink.innerHTML = docLinkHtml;\n",
              "          element.appendChild(docLink);\n",
              "        }\n",
              "      </script>\n",
              "    </div>\n",
              "  </div>\n",
              "  "
            ]
          },
          "metadata": {},
          "execution_count": 4
        }
      ],
      "source": [
        "data_total_poblacion.head()"
      ]
    },
    {
      "cell_type": "code",
      "execution_count": null,
      "metadata": {
        "id": "jImOZCb0HDVt",
        "outputId": "08ca4a1b-b142-431e-9f12-51aaf1e55673"
      },
      "outputs": [
        {
          "data": {
            "text/plain": [
              "Region, development group, country or area      0\n",
              "Notes                                         243\n",
              "Location code                                   0\n",
              "Type of data                                   51\n",
              "1990                                            0\n",
              "1995                                            0\n",
              "2000                                            0\n",
              "2005                                            0\n",
              "2010                                            0\n",
              "2015                                            0\n",
              "2020                                            0\n",
              "dtype: int64"
            ]
          },
          "execution_count": 4,
          "metadata": {},
          "output_type": "execute_result"
        }
      ],
      "source": [
        "data_total_poblacion.isna().sum() "
      ]
    },
    {
      "cell_type": "code",
      "source": [
        "data_total_poblacion.isnull().sum() "
      ],
      "metadata": {
        "colab": {
          "base_uri": "https://localhost:8080/"
        },
        "id": "YX0jirQGKCiY",
        "outputId": "2a1a8353-f500-4769-8beb-01536326bf41"
      },
      "execution_count": 5,
      "outputs": [
        {
          "output_type": "execute_result",
          "data": {
            "text/plain": [
              "Region, development group, country or area      0\n",
              "Notes                                         243\n",
              "Location code                                   0\n",
              "Type of data                                   51\n",
              "1990                                            0\n",
              "1995                                            0\n",
              "2000                                            0\n",
              "2005                                            0\n",
              "2010                                            0\n",
              "2015                                            0\n",
              "2020                                            0\n",
              "dtype: int64"
            ]
          },
          "metadata": {},
          "execution_count": 5
        }
      ]
    },
    {
      "cell_type": "code",
      "source": [
        "j = []\n",
        "for i in data_total_poblacion.iloc[:,0:9].columns:\n",
        "    j.append(len(data_total_poblacion[data_total_poblacion[i] == '..']))\n",
        "print('Numero total de valores faltantes: ' + str(np.sum(j) ))"
      ],
      "metadata": {
        "colab": {
          "base_uri": "https://localhost:8080/"
        },
        "id": "eKq-yXP4WQYh",
        "outputId": "0e56c2ae-1b4d-44e1-dbbe-0d1b5fbb2b35"
      },
      "execution_count": 32,
      "outputs": [
        {
          "output_type": "stream",
          "name": "stdout",
          "text": [
            "Numero total de valores faltantes: 0\n"
          ]
        }
      ]
    },
    {
      "cell_type": "markdown",
      "metadata": {
        "id": "hAw_7mM7HDVu"
      },
      "source": [
        "las columnas Notes y Type of data tiene valores nulos ya que no aportan nada al modelo que se necesita se sugiere dropearlas"
      ]
    },
    {
      "cell_type": "code",
      "execution_count": null,
      "metadata": {
        "id": "8aZOhQr_HDVw",
        "outputId": "0a995476-6aa8-4b0e-bb9c-909f319e6b0c"
      },
      "outputs": [
        {
          "name": "stdout",
          "output_type": "stream",
          "text": [
            "Numero de columnas: 11\n",
            "Numero de filas: 283\n"
          ]
        }
      ],
      "source": [
        "print(\"Numero de columnas:\", data_total_poblacion.shape[1])\n",
        "print(\"Numero de filas:\", data_total_poblacion.shape[0])"
      ]
    },
    {
      "cell_type": "code",
      "execution_count": null,
      "metadata": {
        "id": "qUs08mHkHDVx",
        "outputId": "ccfa233a-535c-468c-fbf4-29613d620669"
      },
      "outputs": [
        {
          "name": "stdout",
          "output_type": "stream",
          "text": [
            "WORLD___  Sub-Saharan Africa___  Northern Africa and Western Asia___  Central and Southern Asia___  Eastern and South-Eastern Asia___  Latin America and the Caribbean___  Oceania (excluding Australia and New Zealand)___  Australia and New Zealand___  Europe and Northern America___  Developed regions___  Less developed regions___ Less developed regions, excluding least developed countries___ Less developed regions, excluding China___  Least developed countries___  Land-locked Developing Countries (LLDC)___  Small island developing States (SIDS)___  High-income countries___  Middle-income countries___ Upper-middle-income countries___ Lower-middle-income countries___  Low-income countries___ AFRICA___  Eastern Africa___   Burundi___   Comoros___   Djibouti___   Eritrea___   Ethiopia___   Kenya___   Madagascar___   Malawi___   Mauritius*___   Mayotte*___   Mozambique___   Réunion*___   Rwanda___   Seychelles___   Somalia___   South Sudan___   Uganda___   United Republic of Tanzania*___   Zambia___   Zimbabwe___  Middle Africa___   Angola___   Cameroon___   Central African Republic___   Chad___   Congo___   Democratic Republic of the Congo___   Equatorial Guinea___   Gabon___   Sao Tome and Principe___  Northern Africa___   Algeria___   Egypt___   Libya___   Morocco___   Sudan___   Tunisia___   Western Sahara___  Southern Africa___   Botswana___   Eswatini___   Lesotho___   Namibia___   South Africa___  Western Africa___   Benin___   Burkina Faso___   Cabo Verde___   Côte d'Ivoire___   Gambia___   Ghana___   Guinea___   Guinea-Bissau___   Liberia___   Mali___   Mauritania___   Niger___   Nigeria___   Saint Helena*___   Senegal___   Sierra Leone___   Togo___ ASIA___  Central Asia___   Kazakhstan___   Kyrgyzstan___   Tajikistan___   Turkmenistan___   Uzbekistan___  Eastern Asia___   China*___   China, Hong Kong SAR*___   China, Macao SAR*___   China, Taiwan Province of China*___   Dem. People's Republic of Korea___   Japan___   Mongolia___   Republic of Korea___  South-Eastern Asia___   Brunei Darussalam___   Cambodia___   Indonesia___   Lao People's Democratic Republic___   Malaysia*___   Myanmar___   Philippines___   Singapore___   Thailand___   Timor-Leste___   Viet Nam___  Southern Asia___   Afghanistan___   Bangladesh___   Bhutan___   India___   Iran (Islamic Republic of)___   Maldives___   Nepal___   Pakistan___   Sri Lanka___  Western Asia___   Armenia___   Azerbaijan*___   Bahrain___   Cyprus*___   Georgia*___   Iraq___   Israel___   Jordan___   Kuwait___   Lebanon___   Oman___   Qatar___   Saudi Arabia___   State of Palestine*___   Syrian Arab Republic___   Turkey___   United Arab Emirates___   Yemen___ EUROPE___  Eastern Europe___   Belarus___   Bulgaria___   Czechia___   Hungary___   Poland___   Republic of Moldova*___   Romania___   Russian Federation___   Slovakia___   Ukraine*___  Northern Europe___   Channel Islands*___   Denmark*___   Estonia___   Faroe Islands*___   Finland*___   Iceland___   Ireland___   Isle of Man*___   Latvia___   Lithuania___   Norway*___   Sweden___   United Kingdom*___  Southern Europe___   Albania___   Andorra___   Bosnia and Herzegovina___   Croatia___   Gibraltar*___   Greece___   Holy See*___   Italy___   Malta___   Montenegro___   North Macedonia___   Portugal___   San Marino___   Serbia*___   Slovenia___   Spain*___  Western Europe___   Austria___   Belgium___   France*___   Germany___   Liechtenstein___   Luxembourg___   Monaco___   Netherlands*___   Switzerland___ LATIN AMERICA AND THE CARIBBEAN___  Caribbean___   Anguilla*___   Antigua and Barbuda___   Aruba*___   Bahamas___   Barbados___   Bonaire, Sint Eustatius and Saba*___   British Virgin Islands*___   Cayman Islands*___   Cuba___   Curaçao*___   Dominica___   Dominican Republic___   Grenada___   Guadeloupe*___   Haiti___   Jamaica___   Martinique*___   Montserrat*___   Puerto Rico*___   Saint Barthélemy*___   Saint Kitts and Nevis___   Saint Lucia___   Saint Martin (French part)*___   Saint Vincent and the Grenadines___   Sint Maarten (Dutch part)*___   Trinidad and Tobago___   Turks and Caicos Islands*___   United States Virgin Islands*___  Central America___   Belize___   Costa Rica___   El Salvador___   Guatemala___   Honduras___   Mexico___   Nicaragua___   Panama___  South America___   Argentina___   Bolivia (Plurinational State of)___   Brazil___   Chile___   Colombia___   Ecuador___   Falkland Islands (Malvinas)*___   French Guiana*___   Guyana___   Paraguay___   Peru___   Suriname___   Uruguay___   Venezuela (Bolivarian Republic of)___ NORTHERN AMERICA___   Bermuda*___   Canada___   Greenland*___   Saint Pierre and Miquelon*___   United States of America*___ OCEANIA ___   Australia*___   New Zealand*___  Melanesia___   Fiji___   New Caledonia*___   Papua New Guinea___   Solomon Islands___   Vanuatu___  Micronesia___   Guam*___   Kiribati___   Marshall Islands___   Micronesia (Fed. States of)___   Nauru___   Northern Mariana Islands*___   Palau___  Polynesia*___   American Samoa*___   Cook Islands*___   French Polynesia*___   Niue*___   Samoa___   Tokelau*___   Tonga___   Tuvalu___   Wallis and Futuna Islands*___"
          ]
        },
        {
          "data": {
            "text/plain": [
              "'\"\\nExisten diferentes regiones con un * al final de sus nombre se deberia normalizar dichos nombres eliminando estos caracteres especiales\\nEliminar los espacios que estan al comienzo de cada dato en esta columna con el metodo strip()\\nNormalizar cada dato usando capitalize \\nNormalizar la región Dem. People\\'s Republic of Korea a North Korea\\nNormalizar la región Republic of Korea a solo South\\nNormalizar China, Macao SAR*, China, Hong Kong SAR*, China* a solo China\\nNormalizar Taiwan Province of China* a solo Taiwan\\nNormalizar  Iran (Islamic Republic of) a solo Iran\\nNormalizar Côte d\\'Ivoire a Solo Cote d\\'Ivoire\\n'"
            ]
          },
          "execution_count": 11,
          "metadata": {},
          "output_type": "execute_result"
        }
      ],
      "source": [
        "for item in data_total_poblacion['Region, development group, country or area'].unique():\n",
        "    print(item,end='___')\n",
        "\"\"\"\"\n",
        "Existen diferentes regiones con un * al final de sus nombre se deberia normalizar dichos nombres eliminando estos caracteres especiales\n",
        "Eliminar los espacios que estan al comienzo de cada dato en esta columna con el metodo strip()\n",
        "Normalizar cada dato usando capitalize \n",
        "Normalizar la región Dem. People's Republic of Korea a North Korea\n",
        "Normalizar la región Republic of Korea a solo South\n",
        "Normalizar China, Macao SAR*, China, Hong Kong SAR*, China* a solo China\n",
        "Normalizar Taiwan Province of China* a solo Taiwan\n",
        "Normalizar  Iran (Islamic Republic of) a solo Iran\n",
        "Normalizar Côte d'Ivoire a Solo Cote d'Ivoire\n",
        "\"\"\""
      ]
    },
    {
      "cell_type": "code",
      "execution_count": null,
      "metadata": {
        "id": "80QkFPqgHDVz",
        "outputId": "79a5acce-5309-401c-e7bf-d95116e44ba5"
      },
      "outputs": [
        {
          "name": "stdout",
          "output_type": "stream",
          "text": [
            "<class 'pandas.core.frame.DataFrame'>\n",
            "RangeIndex: 283 entries, 0 to 282\n",
            "Data columns (total 11 columns):\n",
            " #   Column                                      Non-Null Count  Dtype  \n",
            "---  ------                                      --------------  -----  \n",
            " 0   Region, development group, country or area  283 non-null    object \n",
            " 1   Notes                                       40 non-null     float64\n",
            " 2   Location code                               283 non-null    int64  \n",
            " 3   Type of data                                232 non-null    object \n",
            " 4   1990                                        283 non-null    object \n",
            " 5   1995                                        283 non-null    object \n",
            " 6   2000                                        283 non-null    object \n",
            " 7   2005                                        283 non-null    object \n",
            " 8   2010                                        283 non-null    object \n",
            " 9   2015                                        283 non-null    object \n",
            " 10  2020                                        283 non-null    object \n",
            "dtypes: float64(1), int64(1), object(9)\n",
            "memory usage: 24.4+ KB\n"
          ]
        }
      ],
      "source": [
        "data_total_poblacion.info()"
      ]
    },
    {
      "cell_type": "markdown",
      "metadata": {
        "id": "lx6DE0pxHDV1"
      },
      "source": [
        "Los valores en los datos de las columnas anios deberian cambiar de tipo object a float"
      ]
    },
    {
      "cell_type": "markdown",
      "metadata": {
        "id": "7OBJC1_uHDV3"
      },
      "source": [
        "                                Reporte de calidad destino total de inmigrantes"
      ]
    },
    {
      "cell_type": "code",
      "execution_count": 6,
      "metadata": {
        "id": "_obu3bEmHDV4"
      },
      "outputs": [],
      "source": [
        "data_total_destino = pd.read_csv('/content/destino_total_inmigrantes.csv')"
      ]
    },
    {
      "cell_type": "code",
      "execution_count": 7,
      "metadata": {
        "colab": {
          "base_uri": "https://localhost:8080/",
          "height": 250
        },
        "id": "u7BjMBJHHDV5",
        "outputId": "fa7a7e1d-89c2-49a8-928f-45fde972fd82"
      },
      "outputs": [
        {
          "output_type": "execute_result",
          "data": {
            "text/plain": [
              "  Region, development group, country or area  Notes  Location code  \\\n",
              "0                                      WORLD    NaN            900   \n",
              "1                         Sub-Saharan Africa    NaN            947   \n",
              "2           Northern Africa and Western Asia    NaN           1833   \n",
              "3                  Central and Southern Asia    NaN            921   \n",
              "4             Eastern and South-Eastern Asia    NaN           1832   \n",
              "\n",
              "  Type of data         1990         1995         2000         2005  \\\n",
              "0          NaN  152 986 157  161 289 976  173 230 585  191 446 828   \n",
              "1          NaN   13 286 341   14 275 437   13 151 229   14 290 369   \n",
              "2          NaN   17 608 769   18 912 064   20 321 397   23 165 804   \n",
              "3          NaN   26 168 623   21 247 814   20 139 825   18 854 544   \n",
              "4          NaN    6 835 882    8 339 806   10 506 212   12 979 157   \n",
              "\n",
              "          2010         2015         2020  \n",
              "0  220 983 187  247 958 644  280 598 105  \n",
              "1   15 854 637   20 721 874   22 221 538  \n",
              "2   32 638 434   42 036 092   49 767 746  \n",
              "3   19 676 783   19 266 265   19 427 576  \n",
              "4   15 760 463   18 027 810   19 591 106  "
            ],
            "text/html": [
              "\n",
              "  <div id=\"df-1277a63e-e1e9-40cd-949e-7103dbe2a763\">\n",
              "    <div class=\"colab-df-container\">\n",
              "      <div>\n",
              "<style scoped>\n",
              "    .dataframe tbody tr th:only-of-type {\n",
              "        vertical-align: middle;\n",
              "    }\n",
              "\n",
              "    .dataframe tbody tr th {\n",
              "        vertical-align: top;\n",
              "    }\n",
              "\n",
              "    .dataframe thead th {\n",
              "        text-align: right;\n",
              "    }\n",
              "</style>\n",
              "<table border=\"1\" class=\"dataframe\">\n",
              "  <thead>\n",
              "    <tr style=\"text-align: right;\">\n",
              "      <th></th>\n",
              "      <th>Region, development group, country or area</th>\n",
              "      <th>Notes</th>\n",
              "      <th>Location code</th>\n",
              "      <th>Type of data</th>\n",
              "      <th>1990</th>\n",
              "      <th>1995</th>\n",
              "      <th>2000</th>\n",
              "      <th>2005</th>\n",
              "      <th>2010</th>\n",
              "      <th>2015</th>\n",
              "      <th>2020</th>\n",
              "    </tr>\n",
              "  </thead>\n",
              "  <tbody>\n",
              "    <tr>\n",
              "      <th>0</th>\n",
              "      <td>WORLD</td>\n",
              "      <td>NaN</td>\n",
              "      <td>900</td>\n",
              "      <td>NaN</td>\n",
              "      <td>152 986 157</td>\n",
              "      <td>161 289 976</td>\n",
              "      <td>173 230 585</td>\n",
              "      <td>191 446 828</td>\n",
              "      <td>220 983 187</td>\n",
              "      <td>247 958 644</td>\n",
              "      <td>280 598 105</td>\n",
              "    </tr>\n",
              "    <tr>\n",
              "      <th>1</th>\n",
              "      <td>Sub-Saharan Africa</td>\n",
              "      <td>NaN</td>\n",
              "      <td>947</td>\n",
              "      <td>NaN</td>\n",
              "      <td>13 286 341</td>\n",
              "      <td>14 275 437</td>\n",
              "      <td>13 151 229</td>\n",
              "      <td>14 290 369</td>\n",
              "      <td>15 854 637</td>\n",
              "      <td>20 721 874</td>\n",
              "      <td>22 221 538</td>\n",
              "    </tr>\n",
              "    <tr>\n",
              "      <th>2</th>\n",
              "      <td>Northern Africa and Western Asia</td>\n",
              "      <td>NaN</td>\n",
              "      <td>1833</td>\n",
              "      <td>NaN</td>\n",
              "      <td>17 608 769</td>\n",
              "      <td>18 912 064</td>\n",
              "      <td>20 321 397</td>\n",
              "      <td>23 165 804</td>\n",
              "      <td>32 638 434</td>\n",
              "      <td>42 036 092</td>\n",
              "      <td>49 767 746</td>\n",
              "    </tr>\n",
              "    <tr>\n",
              "      <th>3</th>\n",
              "      <td>Central and Southern Asia</td>\n",
              "      <td>NaN</td>\n",
              "      <td>921</td>\n",
              "      <td>NaN</td>\n",
              "      <td>26 168 623</td>\n",
              "      <td>21 247 814</td>\n",
              "      <td>20 139 825</td>\n",
              "      <td>18 854 544</td>\n",
              "      <td>19 676 783</td>\n",
              "      <td>19 266 265</td>\n",
              "      <td>19 427 576</td>\n",
              "    </tr>\n",
              "    <tr>\n",
              "      <th>4</th>\n",
              "      <td>Eastern and South-Eastern Asia</td>\n",
              "      <td>NaN</td>\n",
              "      <td>1832</td>\n",
              "      <td>NaN</td>\n",
              "      <td>6 835 882</td>\n",
              "      <td>8 339 806</td>\n",
              "      <td>10 506 212</td>\n",
              "      <td>12 979 157</td>\n",
              "      <td>15 760 463</td>\n",
              "      <td>18 027 810</td>\n",
              "      <td>19 591 106</td>\n",
              "    </tr>\n",
              "  </tbody>\n",
              "</table>\n",
              "</div>\n",
              "      <button class=\"colab-df-convert\" onclick=\"convertToInteractive('df-1277a63e-e1e9-40cd-949e-7103dbe2a763')\"\n",
              "              title=\"Convert this dataframe to an interactive table.\"\n",
              "              style=\"display:none;\">\n",
              "        \n",
              "  <svg xmlns=\"http://www.w3.org/2000/svg\" height=\"24px\"viewBox=\"0 0 24 24\"\n",
              "       width=\"24px\">\n",
              "    <path d=\"M0 0h24v24H0V0z\" fill=\"none\"/>\n",
              "    <path d=\"M18.56 5.44l.94 2.06.94-2.06 2.06-.94-2.06-.94-.94-2.06-.94 2.06-2.06.94zm-11 1L8.5 8.5l.94-2.06 2.06-.94-2.06-.94L8.5 2.5l-.94 2.06-2.06.94zm10 10l.94 2.06.94-2.06 2.06-.94-2.06-.94-.94-2.06-.94 2.06-2.06.94z\"/><path d=\"M17.41 7.96l-1.37-1.37c-.4-.4-.92-.59-1.43-.59-.52 0-1.04.2-1.43.59L10.3 9.45l-7.72 7.72c-.78.78-.78 2.05 0 2.83L4 21.41c.39.39.9.59 1.41.59.51 0 1.02-.2 1.41-.59l7.78-7.78 2.81-2.81c.8-.78.8-2.07 0-2.86zM5.41 20L4 18.59l7.72-7.72 1.47 1.35L5.41 20z\"/>\n",
              "  </svg>\n",
              "      </button>\n",
              "      \n",
              "  <style>\n",
              "    .colab-df-container {\n",
              "      display:flex;\n",
              "      flex-wrap:wrap;\n",
              "      gap: 12px;\n",
              "    }\n",
              "\n",
              "    .colab-df-convert {\n",
              "      background-color: #E8F0FE;\n",
              "      border: none;\n",
              "      border-radius: 50%;\n",
              "      cursor: pointer;\n",
              "      display: none;\n",
              "      fill: #1967D2;\n",
              "      height: 32px;\n",
              "      padding: 0 0 0 0;\n",
              "      width: 32px;\n",
              "    }\n",
              "\n",
              "    .colab-df-convert:hover {\n",
              "      background-color: #E2EBFA;\n",
              "      box-shadow: 0px 1px 2px rgba(60, 64, 67, 0.3), 0px 1px 3px 1px rgba(60, 64, 67, 0.15);\n",
              "      fill: #174EA6;\n",
              "    }\n",
              "\n",
              "    [theme=dark] .colab-df-convert {\n",
              "      background-color: #3B4455;\n",
              "      fill: #D2E3FC;\n",
              "    }\n",
              "\n",
              "    [theme=dark] .colab-df-convert:hover {\n",
              "      background-color: #434B5C;\n",
              "      box-shadow: 0px 1px 3px 1px rgba(0, 0, 0, 0.15);\n",
              "      filter: drop-shadow(0px 1px 2px rgba(0, 0, 0, 0.3));\n",
              "      fill: #FFFFFF;\n",
              "    }\n",
              "  </style>\n",
              "\n",
              "      <script>\n",
              "        const buttonEl =\n",
              "          document.querySelector('#df-1277a63e-e1e9-40cd-949e-7103dbe2a763 button.colab-df-convert');\n",
              "        buttonEl.style.display =\n",
              "          google.colab.kernel.accessAllowed ? 'block' : 'none';\n",
              "\n",
              "        async function convertToInteractive(key) {\n",
              "          const element = document.querySelector('#df-1277a63e-e1e9-40cd-949e-7103dbe2a763');\n",
              "          const dataTable =\n",
              "            await google.colab.kernel.invokeFunction('convertToInteractive',\n",
              "                                                     [key], {});\n",
              "          if (!dataTable) return;\n",
              "\n",
              "          const docLinkHtml = 'Like what you see? Visit the ' +\n",
              "            '<a target=\"_blank\" href=https://colab.research.google.com/notebooks/data_table.ipynb>data table notebook</a>'\n",
              "            + ' to learn more about interactive tables.';\n",
              "          element.innerHTML = '';\n",
              "          dataTable['output_type'] = 'display_data';\n",
              "          await google.colab.output.renderOutput(dataTable, element);\n",
              "          const docLink = document.createElement('div');\n",
              "          docLink.innerHTML = docLinkHtml;\n",
              "          element.appendChild(docLink);\n",
              "        }\n",
              "      </script>\n",
              "    </div>\n",
              "  </div>\n",
              "  "
            ]
          },
          "metadata": {},
          "execution_count": 7
        }
      ],
      "source": [
        "data_total_destino.head()"
      ]
    },
    {
      "cell_type": "code",
      "execution_count": null,
      "metadata": {
        "id": "c-Fh03oVHDV5",
        "outputId": "d455faf4-23d2-4a32-cbca-70c566b92e53"
      },
      "outputs": [
        {
          "data": {
            "text/plain": [
              "Region, development group, country or area      0\n",
              "Notes                                         243\n",
              "Location code                                   0\n",
              "Type of data                                   51\n",
              "1990                                            0\n",
              "1995                                            0\n",
              "2000                                            0\n",
              "2005                                            0\n",
              "2010                                            0\n",
              "2015                                            0\n",
              "2020                                            0\n",
              "dtype: int64"
            ]
          },
          "execution_count": 20,
          "metadata": {},
          "output_type": "execute_result"
        }
      ],
      "source": [
        "data_total_destino.isna().sum()"
      ]
    },
    {
      "cell_type": "code",
      "source": [
        "j = []\n",
        "for i in data_total_destino.iloc[:,0:9].columns:\n",
        "    j.append(len(data_total_destino[data_total_destino[i] == '..']))\n",
        "print('Numero total de valores faltantes: ' + str(np.sum(j) ))"
      ],
      "metadata": {
        "colab": {
          "base_uri": "https://localhost:8080/"
        },
        "id": "yQWLrxDTVgIv",
        "outputId": "2b3496db-8276-4108-b21c-fe478a98716f"
      },
      "execution_count": 27,
      "outputs": [
        {
          "output_type": "stream",
          "name": "stdout",
          "text": [
            "Numero total de valores faltantes: 30\n"
          ]
        }
      ]
    },
    {
      "cell_type": "code",
      "source": [
        "data_total_destino.shape"
      ],
      "metadata": {
        "colab": {
          "base_uri": "https://localhost:8080/"
        },
        "id": "NvKW8yXkVlcw",
        "outputId": "cfe2b0a3-d63d-42bf-ceef-53876176e83f"
      },
      "execution_count": 28,
      "outputs": [
        {
          "output_type": "execute_result",
          "data": {
            "text/plain": [
              "(283, 11)"
            ]
          },
          "metadata": {},
          "execution_count": 28
        }
      ]
    },
    {
      "cell_type": "code",
      "source": [
        "print('Numero total de valores: ' + str(283* 11))"
      ],
      "metadata": {
        "colab": {
          "base_uri": "https://localhost:8080/"
        },
        "id": "EkiZO_ZdVnLg",
        "outputId": "d4cb3885-9f4d-4cc1-f30f-9fa7f77fdf7c"
      },
      "execution_count": 30,
      "outputs": [
        {
          "output_type": "stream",
          "name": "stdout",
          "text": [
            "Numero total de valores: 3113\n"
          ]
        }
      ]
    },
    {
      "cell_type": "code",
      "source": [
        "print('Porcentaje de valores faltantes: ' + str(( 30 / 3113) * 100) + '%')"
      ],
      "metadata": {
        "colab": {
          "base_uri": "https://localhost:8080/"
        },
        "id": "6CcMAiKnVvWI",
        "outputId": "fcd0d5f7-7b76-4c36-ccff-bfc58b3879fb"
      },
      "execution_count": 31,
      "outputs": [
        {
          "output_type": "stream",
          "name": "stdout",
          "text": [
            "Porcentaje de valores faltantes: 0.9637006103437198%\n"
          ]
        }
      ]
    },
    {
      "cell_type": "markdown",
      "metadata": {
        "id": "pmCDeaKtHDV7"
      },
      "source": [
        "Dropear las columnas Notes y type of data ya que no son necesarias y ademas tienen valores nulos. Tambien como se puede apreciar disponemos de un 0.96% de valores faltantes (en una escala de 0-100)"
      ]
    },
    {
      "cell_type": "code",
      "execution_count": 8,
      "metadata": {
        "colab": {
          "base_uri": "https://localhost:8080/",
          "height": 81
        },
        "id": "z--f7f_zHDV7",
        "outputId": "912e2961-44c1-4039-c4b8-0c0be9b7cebc"
      },
      "outputs": [
        {
          "output_type": "execute_result",
          "data": {
            "text/plain": [
              "    Region, development group, country or area  Notes  Location code  \\\n",
              "256                  Australia and New Zealand    NaN            927   \n",
              "\n",
              "    Type of data       1990       1995       2000       2005       2010  \\\n",
              "256          NaN  4 473 260  4 741 947  5 065 063  5 717 982  6 830 423   \n",
              "\n",
              "          2015       2020  \n",
              "256  7 769 466  9 067 584  "
            ],
            "text/html": [
              "\n",
              "  <div id=\"df-1ef408fe-49ca-4592-8474-33e47743d766\">\n",
              "    <div class=\"colab-df-container\">\n",
              "      <div>\n",
              "<style scoped>\n",
              "    .dataframe tbody tr th:only-of-type {\n",
              "        vertical-align: middle;\n",
              "    }\n",
              "\n",
              "    .dataframe tbody tr th {\n",
              "        vertical-align: top;\n",
              "    }\n",
              "\n",
              "    .dataframe thead th {\n",
              "        text-align: right;\n",
              "    }\n",
              "</style>\n",
              "<table border=\"1\" class=\"dataframe\">\n",
              "  <thead>\n",
              "    <tr style=\"text-align: right;\">\n",
              "      <th></th>\n",
              "      <th>Region, development group, country or area</th>\n",
              "      <th>Notes</th>\n",
              "      <th>Location code</th>\n",
              "      <th>Type of data</th>\n",
              "      <th>1990</th>\n",
              "      <th>1995</th>\n",
              "      <th>2000</th>\n",
              "      <th>2005</th>\n",
              "      <th>2010</th>\n",
              "      <th>2015</th>\n",
              "      <th>2020</th>\n",
              "    </tr>\n",
              "  </thead>\n",
              "  <tbody>\n",
              "    <tr>\n",
              "      <th>256</th>\n",
              "      <td>Australia and New Zealand</td>\n",
              "      <td>NaN</td>\n",
              "      <td>927</td>\n",
              "      <td>NaN</td>\n",
              "      <td>4 473 260</td>\n",
              "      <td>4 741 947</td>\n",
              "      <td>5 065 063</td>\n",
              "      <td>5 717 982</td>\n",
              "      <td>6 830 423</td>\n",
              "      <td>7 769 466</td>\n",
              "      <td>9 067 584</td>\n",
              "    </tr>\n",
              "  </tbody>\n",
              "</table>\n",
              "</div>\n",
              "      <button class=\"colab-df-convert\" onclick=\"convertToInteractive('df-1ef408fe-49ca-4592-8474-33e47743d766')\"\n",
              "              title=\"Convert this dataframe to an interactive table.\"\n",
              "              style=\"display:none;\">\n",
              "        \n",
              "  <svg xmlns=\"http://www.w3.org/2000/svg\" height=\"24px\"viewBox=\"0 0 24 24\"\n",
              "       width=\"24px\">\n",
              "    <path d=\"M0 0h24v24H0V0z\" fill=\"none\"/>\n",
              "    <path d=\"M18.56 5.44l.94 2.06.94-2.06 2.06-.94-2.06-.94-.94-2.06-.94 2.06-2.06.94zm-11 1L8.5 8.5l.94-2.06 2.06-.94-2.06-.94L8.5 2.5l-.94 2.06-2.06.94zm10 10l.94 2.06.94-2.06 2.06-.94-2.06-.94-.94-2.06-.94 2.06-2.06.94z\"/><path d=\"M17.41 7.96l-1.37-1.37c-.4-.4-.92-.59-1.43-.59-.52 0-1.04.2-1.43.59L10.3 9.45l-7.72 7.72c-.78.78-.78 2.05 0 2.83L4 21.41c.39.39.9.59 1.41.59.51 0 1.02-.2 1.41-.59l7.78-7.78 2.81-2.81c.8-.78.8-2.07 0-2.86zM5.41 20L4 18.59l7.72-7.72 1.47 1.35L5.41 20z\"/>\n",
              "  </svg>\n",
              "      </button>\n",
              "      \n",
              "  <style>\n",
              "    .colab-df-container {\n",
              "      display:flex;\n",
              "      flex-wrap:wrap;\n",
              "      gap: 12px;\n",
              "    }\n",
              "\n",
              "    .colab-df-convert {\n",
              "      background-color: #E8F0FE;\n",
              "      border: none;\n",
              "      border-radius: 50%;\n",
              "      cursor: pointer;\n",
              "      display: none;\n",
              "      fill: #1967D2;\n",
              "      height: 32px;\n",
              "      padding: 0 0 0 0;\n",
              "      width: 32px;\n",
              "    }\n",
              "\n",
              "    .colab-df-convert:hover {\n",
              "      background-color: #E2EBFA;\n",
              "      box-shadow: 0px 1px 2px rgba(60, 64, 67, 0.3), 0px 1px 3px 1px rgba(60, 64, 67, 0.15);\n",
              "      fill: #174EA6;\n",
              "    }\n",
              "\n",
              "    [theme=dark] .colab-df-convert {\n",
              "      background-color: #3B4455;\n",
              "      fill: #D2E3FC;\n",
              "    }\n",
              "\n",
              "    [theme=dark] .colab-df-convert:hover {\n",
              "      background-color: #434B5C;\n",
              "      box-shadow: 0px 1px 3px 1px rgba(0, 0, 0, 0.15);\n",
              "      filter: drop-shadow(0px 1px 2px rgba(0, 0, 0, 0.3));\n",
              "      fill: #FFFFFF;\n",
              "    }\n",
              "  </style>\n",
              "\n",
              "      <script>\n",
              "        const buttonEl =\n",
              "          document.querySelector('#df-1ef408fe-49ca-4592-8474-33e47743d766 button.colab-df-convert');\n",
              "        buttonEl.style.display =\n",
              "          google.colab.kernel.accessAllowed ? 'block' : 'none';\n",
              "\n",
              "        async function convertToInteractive(key) {\n",
              "          const element = document.querySelector('#df-1ef408fe-49ca-4592-8474-33e47743d766');\n",
              "          const dataTable =\n",
              "            await google.colab.kernel.invokeFunction('convertToInteractive',\n",
              "                                                     [key], {});\n",
              "          if (!dataTable) return;\n",
              "\n",
              "          const docLinkHtml = 'Like what you see? Visit the ' +\n",
              "            '<a target=\"_blank\" href=https://colab.research.google.com/notebooks/data_table.ipynb>data table notebook</a>'\n",
              "            + ' to learn more about interactive tables.';\n",
              "          element.innerHTML = '';\n",
              "          dataTable['output_type'] = 'display_data';\n",
              "          await google.colab.output.renderOutput(dataTable, element);\n",
              "          const docLink = document.createElement('div');\n",
              "          docLink.innerHTML = docLinkHtml;\n",
              "          element.appendChild(docLink);\n",
              "        }\n",
              "      </script>\n",
              "    </div>\n",
              "  </div>\n",
              "  "
            ]
          },
          "metadata": {},
          "execution_count": 8
        }
      ],
      "source": [
        "data_total_destino[data_total_destino.duplicated()]"
      ]
    },
    {
      "cell_type": "code",
      "execution_count": null,
      "metadata": {
        "id": "FGqt9xNRHDV8",
        "outputId": "1775b2db-b2b6-4ffe-df3f-4408b5b2be28"
      },
      "outputs": [
        {
          "data": {
            "text/html": [
              "<div>\n",
              "<style scoped>\n",
              "    .dataframe tbody tr th:only-of-type {\n",
              "        vertical-align: middle;\n",
              "    }\n",
              "\n",
              "    .dataframe tbody tr th {\n",
              "        vertical-align: top;\n",
              "    }\n",
              "\n",
              "    .dataframe thead th {\n",
              "        text-align: right;\n",
              "    }\n",
              "</style>\n",
              "<table border=\"1\" class=\"dataframe\">\n",
              "  <thead>\n",
              "    <tr style=\"text-align: right;\">\n",
              "      <th></th>\n",
              "      <th>Region, development group, country or area</th>\n",
              "      <th>Notes</th>\n",
              "      <th>Location code</th>\n",
              "      <th>Type of data</th>\n",
              "      <th>1990</th>\n",
              "      <th>1995</th>\n",
              "      <th>2000</th>\n",
              "      <th>2005</th>\n",
              "      <th>2010</th>\n",
              "      <th>2015</th>\n",
              "      <th>2020</th>\n",
              "    </tr>\n",
              "  </thead>\n",
              "  <tbody>\n",
              "    <tr>\n",
              "      <th>7</th>\n",
              "      <td>Australia and New Zealand</td>\n",
              "      <td>NaN</td>\n",
              "      <td>927</td>\n",
              "      <td>NaN</td>\n",
              "      <td>4 473 260</td>\n",
              "      <td>4 741 947</td>\n",
              "      <td>5 065 063</td>\n",
              "      <td>5 717 982</td>\n",
              "      <td>6 830 423</td>\n",
              "      <td>7 769 466</td>\n",
              "      <td>9 067 584</td>\n",
              "    </tr>\n",
              "    <tr>\n",
              "      <th>256</th>\n",
              "      <td>Australia and New Zealand</td>\n",
              "      <td>NaN</td>\n",
              "      <td>927</td>\n",
              "      <td>NaN</td>\n",
              "      <td>4 473 260</td>\n",
              "      <td>4 741 947</td>\n",
              "      <td>5 065 063</td>\n",
              "      <td>5 717 982</td>\n",
              "      <td>6 830 423</td>\n",
              "      <td>7 769 466</td>\n",
              "      <td>9 067 584</td>\n",
              "    </tr>\n",
              "  </tbody>\n",
              "</table>\n",
              "</div>"
            ],
            "text/plain": [
              "    Region, development group, country or area  Notes  Location code  \\\n",
              "7                    Australia and New Zealand    NaN            927   \n",
              "256                  Australia and New Zealand    NaN            927   \n",
              "\n",
              "    Type of data       1990       1995       2000       2005       2010  \\\n",
              "7            NaN  4 473 260  4 741 947  5 065 063  5 717 982  6 830 423   \n",
              "256          NaN  4 473 260  4 741 947  5 065 063  5 717 982  6 830 423   \n",
              "\n",
              "          2015       2020  \n",
              "7    7 769 466  9 067 584  \n",
              "256  7 769 466  9 067 584  "
            ]
          },
          "execution_count": 23,
          "metadata": {},
          "output_type": "execute_result"
        }
      ],
      "source": [
        "data_total_destino[data_total_destino['Region, development group, country or area']  == '  Australia and New Zealand' ]"
      ]
    },
    {
      "cell_type": "markdown",
      "metadata": {
        "id": "LI4WpeqSHDV9"
      },
      "source": [
        "Se sugiere dropear alguna de estas filas ya que estan duplicados"
      ]
    },
    {
      "cell_type": "code",
      "execution_count": null,
      "metadata": {
        "id": "aX6V2dfdHDV9",
        "outputId": "5ea0b62d-eaa8-43e8-9be5-aee6d2bdfcc4"
      },
      "outputs": [
        {
          "name": "stdout",
          "output_type": "stream",
          "text": [
            "<class 'pandas.core.frame.DataFrame'>\n",
            "RangeIndex: 283 entries, 0 to 282\n",
            "Data columns (total 11 columns):\n",
            " #   Column                                      Non-Null Count  Dtype  \n",
            "---  ------                                      --------------  -----  \n",
            " 0   Region, development group, country or area  283 non-null    object \n",
            " 1   Notes                                       40 non-null     float64\n",
            " 2   Location code                               283 non-null    int64  \n",
            " 3   Type of data                                232 non-null    object \n",
            " 4   1990                                        283 non-null    object \n",
            " 5   1995                                        283 non-null    object \n",
            " 6   2000                                        283 non-null    object \n",
            " 7   2005                                        283 non-null    object \n",
            " 8   2010                                        283 non-null    object \n",
            " 9   2015                                        283 non-null    object \n",
            " 10  2020                                        283 non-null    object \n",
            "dtypes: float64(1), int64(1), object(9)\n",
            "memory usage: 24.4+ KB\n"
          ]
        }
      ],
      "source": [
        "data_total_destino.info()"
      ]
    },
    {
      "cell_type": "markdown",
      "metadata": {
        "id": "zbgynRFpHDV_"
      },
      "source": [
        "Cambiar las columnas años de tipo object a tipo float"
      ]
    },
    {
      "cell_type": "markdown",
      "metadata": {
        "id": "gU4nxWDvHDV_"
      },
      "source": [
        "Normalizar la columna Region, development group, country or area como en el dataframe anterior"
      ]
    },
    {
      "cell_type": "markdown",
      "metadata": {
        "id": "0bb96ZPHHDWA"
      },
      "source": [
        "                                Reporte de calidad del dato para el dataset Origen total emigrantes"
      ]
    },
    {
      "cell_type": "code",
      "execution_count": 13,
      "metadata": {
        "id": "ZKbmbtXZHDWD"
      },
      "outputs": [],
      "source": [
        "data_origen_emigrantes = pd.read_csv('/content/origen.csv')"
      ]
    },
    {
      "cell_type": "code",
      "execution_count": 14,
      "metadata": {
        "colab": {
          "base_uri": "https://localhost:8080/",
          "height": 206
        },
        "id": "VwjEpI0bHDWE",
        "outputId": "e4d4c4fe-7e9e-429a-bdc3-82e0faeb0138"
      },
      "outputs": [
        {
          "output_type": "execute_result",
          "data": {
            "text/plain": [
              "  Region, development group, country or area  Location code       1990  \\\n",
              "0                                    Burundi            108   333110.0   \n",
              "1                                    Comoros            174    14079.0   \n",
              "2                                   Djibouti            262   122221.0   \n",
              "3                                    Eritrea            232    11848.0   \n",
              "4                                   Ethiopia            231  1155390.0   \n",
              "\n",
              "       1995      2000      2005      2010       2015       2020  \n",
              "0  254853.0  125628.0  192774.0  247321.0   298299.0   344767.0  \n",
              "1   13939.0   13799.0   13209.0   12618.0    12555.0    12496.0  \n",
              "2   99774.0  100507.0   92110.0  102307.0   112351.0   119738.0  \n",
              "3   12400.0   12952.0   15905.0   15813.0    15941.0    13934.0  \n",
              "4  806904.0  611384.0  514451.0  568748.0  1161642.0  1085517.0  "
            ],
            "text/html": [
              "\n",
              "  <div id=\"df-e70305e9-9905-44e9-b0ca-e7dffec5155c\">\n",
              "    <div class=\"colab-df-container\">\n",
              "      <div>\n",
              "<style scoped>\n",
              "    .dataframe tbody tr th:only-of-type {\n",
              "        vertical-align: middle;\n",
              "    }\n",
              "\n",
              "    .dataframe tbody tr th {\n",
              "        vertical-align: top;\n",
              "    }\n",
              "\n",
              "    .dataframe thead th {\n",
              "        text-align: right;\n",
              "    }\n",
              "</style>\n",
              "<table border=\"1\" class=\"dataframe\">\n",
              "  <thead>\n",
              "    <tr style=\"text-align: right;\">\n",
              "      <th></th>\n",
              "      <th>Region, development group, country or area</th>\n",
              "      <th>Location code</th>\n",
              "      <th>1990</th>\n",
              "      <th>1995</th>\n",
              "      <th>2000</th>\n",
              "      <th>2005</th>\n",
              "      <th>2010</th>\n",
              "      <th>2015</th>\n",
              "      <th>2020</th>\n",
              "    </tr>\n",
              "  </thead>\n",
              "  <tbody>\n",
              "    <tr>\n",
              "      <th>0</th>\n",
              "      <td>Burundi</td>\n",
              "      <td>108</td>\n",
              "      <td>333110.0</td>\n",
              "      <td>254853.0</td>\n",
              "      <td>125628.0</td>\n",
              "      <td>192774.0</td>\n",
              "      <td>247321.0</td>\n",
              "      <td>298299.0</td>\n",
              "      <td>344767.0</td>\n",
              "    </tr>\n",
              "    <tr>\n",
              "      <th>1</th>\n",
              "      <td>Comoros</td>\n",
              "      <td>174</td>\n",
              "      <td>14079.0</td>\n",
              "      <td>13939.0</td>\n",
              "      <td>13799.0</td>\n",
              "      <td>13209.0</td>\n",
              "      <td>12618.0</td>\n",
              "      <td>12555.0</td>\n",
              "      <td>12496.0</td>\n",
              "    </tr>\n",
              "    <tr>\n",
              "      <th>2</th>\n",
              "      <td>Djibouti</td>\n",
              "      <td>262</td>\n",
              "      <td>122221.0</td>\n",
              "      <td>99774.0</td>\n",
              "      <td>100507.0</td>\n",
              "      <td>92110.0</td>\n",
              "      <td>102307.0</td>\n",
              "      <td>112351.0</td>\n",
              "      <td>119738.0</td>\n",
              "    </tr>\n",
              "    <tr>\n",
              "      <th>3</th>\n",
              "      <td>Eritrea</td>\n",
              "      <td>232</td>\n",
              "      <td>11848.0</td>\n",
              "      <td>12400.0</td>\n",
              "      <td>12952.0</td>\n",
              "      <td>15905.0</td>\n",
              "      <td>15813.0</td>\n",
              "      <td>15941.0</td>\n",
              "      <td>13934.0</td>\n",
              "    </tr>\n",
              "    <tr>\n",
              "      <th>4</th>\n",
              "      <td>Ethiopia</td>\n",
              "      <td>231</td>\n",
              "      <td>1155390.0</td>\n",
              "      <td>806904.0</td>\n",
              "      <td>611384.0</td>\n",
              "      <td>514451.0</td>\n",
              "      <td>568748.0</td>\n",
              "      <td>1161642.0</td>\n",
              "      <td>1085517.0</td>\n",
              "    </tr>\n",
              "  </tbody>\n",
              "</table>\n",
              "</div>\n",
              "      <button class=\"colab-df-convert\" onclick=\"convertToInteractive('df-e70305e9-9905-44e9-b0ca-e7dffec5155c')\"\n",
              "              title=\"Convert this dataframe to an interactive table.\"\n",
              "              style=\"display:none;\">\n",
              "        \n",
              "  <svg xmlns=\"http://www.w3.org/2000/svg\" height=\"24px\"viewBox=\"0 0 24 24\"\n",
              "       width=\"24px\">\n",
              "    <path d=\"M0 0h24v24H0V0z\" fill=\"none\"/>\n",
              "    <path d=\"M18.56 5.44l.94 2.06.94-2.06 2.06-.94-2.06-.94-.94-2.06-.94 2.06-2.06.94zm-11 1L8.5 8.5l.94-2.06 2.06-.94-2.06-.94L8.5 2.5l-.94 2.06-2.06.94zm10 10l.94 2.06.94-2.06 2.06-.94-2.06-.94-.94-2.06-.94 2.06-2.06.94z\"/><path d=\"M17.41 7.96l-1.37-1.37c-.4-.4-.92-.59-1.43-.59-.52 0-1.04.2-1.43.59L10.3 9.45l-7.72 7.72c-.78.78-.78 2.05 0 2.83L4 21.41c.39.39.9.59 1.41.59.51 0 1.02-.2 1.41-.59l7.78-7.78 2.81-2.81c.8-.78.8-2.07 0-2.86zM5.41 20L4 18.59l7.72-7.72 1.47 1.35L5.41 20z\"/>\n",
              "  </svg>\n",
              "      </button>\n",
              "      \n",
              "  <style>\n",
              "    .colab-df-container {\n",
              "      display:flex;\n",
              "      flex-wrap:wrap;\n",
              "      gap: 12px;\n",
              "    }\n",
              "\n",
              "    .colab-df-convert {\n",
              "      background-color: #E8F0FE;\n",
              "      border: none;\n",
              "      border-radius: 50%;\n",
              "      cursor: pointer;\n",
              "      display: none;\n",
              "      fill: #1967D2;\n",
              "      height: 32px;\n",
              "      padding: 0 0 0 0;\n",
              "      width: 32px;\n",
              "    }\n",
              "\n",
              "    .colab-df-convert:hover {\n",
              "      background-color: #E2EBFA;\n",
              "      box-shadow: 0px 1px 2px rgba(60, 64, 67, 0.3), 0px 1px 3px 1px rgba(60, 64, 67, 0.15);\n",
              "      fill: #174EA6;\n",
              "    }\n",
              "\n",
              "    [theme=dark] .colab-df-convert {\n",
              "      background-color: #3B4455;\n",
              "      fill: #D2E3FC;\n",
              "    }\n",
              "\n",
              "    [theme=dark] .colab-df-convert:hover {\n",
              "      background-color: #434B5C;\n",
              "      box-shadow: 0px 1px 3px 1px rgba(0, 0, 0, 0.15);\n",
              "      filter: drop-shadow(0px 1px 2px rgba(0, 0, 0, 0.3));\n",
              "      fill: #FFFFFF;\n",
              "    }\n",
              "  </style>\n",
              "\n",
              "      <script>\n",
              "        const buttonEl =\n",
              "          document.querySelector('#df-e70305e9-9905-44e9-b0ca-e7dffec5155c button.colab-df-convert');\n",
              "        buttonEl.style.display =\n",
              "          google.colab.kernel.accessAllowed ? 'block' : 'none';\n",
              "\n",
              "        async function convertToInteractive(key) {\n",
              "          const element = document.querySelector('#df-e70305e9-9905-44e9-b0ca-e7dffec5155c');\n",
              "          const dataTable =\n",
              "            await google.colab.kernel.invokeFunction('convertToInteractive',\n",
              "                                                     [key], {});\n",
              "          if (!dataTable) return;\n",
              "\n",
              "          const docLinkHtml = 'Like what you see? Visit the ' +\n",
              "            '<a target=\"_blank\" href=https://colab.research.google.com/notebooks/data_table.ipynb>data table notebook</a>'\n",
              "            + ' to learn more about interactive tables.';\n",
              "          element.innerHTML = '';\n",
              "          dataTable['output_type'] = 'display_data';\n",
              "          await google.colab.output.renderOutput(dataTable, element);\n",
              "          const docLink = document.createElement('div');\n",
              "          docLink.innerHTML = docLinkHtml;\n",
              "          element.appendChild(docLink);\n",
              "        }\n",
              "      </script>\n",
              "    </div>\n",
              "  </div>\n",
              "  "
            ]
          },
          "metadata": {},
          "execution_count": 14
        }
      ],
      "source": [
        "data_origen_emigrantes.head()"
      ]
    },
    {
      "cell_type": "code",
      "execution_count": 15,
      "metadata": {
        "colab": {
          "base_uri": "https://localhost:8080/"
        },
        "id": "xxe2gpkrHDWG",
        "outputId": "107f3dd9-62f6-4503-e364-a58640119eb6"
      },
      "outputs": [
        {
          "output_type": "stream",
          "name": "stdout",
          "text": [
            "<class 'pandas.core.frame.DataFrame'>\n",
            "RangeIndex: 236 entries, 0 to 235\n",
            "Data columns (total 9 columns):\n",
            " #   Column                                      Non-Null Count  Dtype  \n",
            "---  ------                                      --------------  -----  \n",
            " 0   Region, development group, country or area  236 non-null    object \n",
            " 1   Location code                               236 non-null    int64  \n",
            " 2   1990                                        236 non-null    float64\n",
            " 3   1995                                        236 non-null    float64\n",
            " 4   2000                                        236 non-null    float64\n",
            " 5   2005                                        236 non-null    float64\n",
            " 6   2010                                        236 non-null    float64\n",
            " 7   2015                                        236 non-null    float64\n",
            " 8   2020                                        236 non-null    float64\n",
            "dtypes: float64(7), int64(1), object(1)\n",
            "memory usage: 16.7+ KB\n"
          ]
        }
      ],
      "source": [
        "data_origen_emigrantes.info()"
      ]
    },
    {
      "cell_type": "markdown",
      "metadata": {
        "id": "DqRH-WSBHDWH"
      },
      "source": [
        "Las columnas años que van desde 1990 hasta 2020 cada 5 años se debe cambiar su tipo de object a float"
      ]
    },
    {
      "cell_type": "code",
      "execution_count": 18,
      "metadata": {
        "colab": {
          "base_uri": "https://localhost:8080/"
        },
        "id": "DvoeAkGuHDWH",
        "outputId": "81631fdf-6771-4479-93b6-3cab3573fb72"
      },
      "outputs": [
        {
          "output_type": "execute_result",
          "data": {
            "text/plain": [
              "Region, development group, country or area    0\n",
              "Location code                                 0\n",
              "1990                                          0\n",
              "1995                                          0\n",
              "2000                                          0\n",
              "2005                                          0\n",
              "2010                                          0\n",
              "2015                                          0\n",
              "2020                                          0\n",
              "dtype: int64"
            ]
          },
          "metadata": {},
          "execution_count": 18
        }
      ],
      "source": [
        "data_origen_emigrantes.isnull().sum()"
      ]
    },
    {
      "cell_type": "code",
      "source": [
        "j = []\n",
        "for i in data_origen_emigrantes.iloc[:,0:9].columns:\n",
        "    j.append(len(data_origen_emigrantes[data_origen_emigrantes[i] == '..']))\n",
        "print('Numero total de valores faltantes: ' + str(np.sum(j) ))"
      ],
      "metadata": {
        "colab": {
          "base_uri": "https://localhost:8080/"
        },
        "id": "GVwx6etuLlTa",
        "outputId": "ba044b06-35ce-4924-8213-494b9511b03e"
      },
      "execution_count": 25,
      "outputs": [
        {
          "output_type": "stream",
          "name": "stdout",
          "text": [
            "Numero total de valores faltantes: 0\n"
          ]
        }
      ]
    },
    {
      "cell_type": "markdown",
      "metadata": {
        "id": "i8iJ89Z9HDWJ"
      },
      "source": [
        "Este dataset no contiene valores nulos "
      ]
    },
    {
      "cell_type": "code",
      "execution_count": 19,
      "metadata": {
        "colab": {
          "base_uri": "https://localhost:8080/",
          "height": 50
        },
        "id": "qkgIohYkHDWK",
        "outputId": "04265316-5c7d-422a-c2ce-38065070b1f1"
      },
      "outputs": [
        {
          "output_type": "execute_result",
          "data": {
            "text/plain": [
              "Empty DataFrame\n",
              "Columns: [Region, development group, country or area, Location code, 1990, 1995, 2000, 2005, 2010, 2015, 2020]\n",
              "Index: []"
            ],
            "text/html": [
              "\n",
              "  <div id=\"df-f0b24c20-ebd9-4240-ac39-20a3f458cbff\">\n",
              "    <div class=\"colab-df-container\">\n",
              "      <div>\n",
              "<style scoped>\n",
              "    .dataframe tbody tr th:only-of-type {\n",
              "        vertical-align: middle;\n",
              "    }\n",
              "\n",
              "    .dataframe tbody tr th {\n",
              "        vertical-align: top;\n",
              "    }\n",
              "\n",
              "    .dataframe thead th {\n",
              "        text-align: right;\n",
              "    }\n",
              "</style>\n",
              "<table border=\"1\" class=\"dataframe\">\n",
              "  <thead>\n",
              "    <tr style=\"text-align: right;\">\n",
              "      <th></th>\n",
              "      <th>Region, development group, country or area</th>\n",
              "      <th>Location code</th>\n",
              "      <th>1990</th>\n",
              "      <th>1995</th>\n",
              "      <th>2000</th>\n",
              "      <th>2005</th>\n",
              "      <th>2010</th>\n",
              "      <th>2015</th>\n",
              "      <th>2020</th>\n",
              "    </tr>\n",
              "  </thead>\n",
              "  <tbody>\n",
              "  </tbody>\n",
              "</table>\n",
              "</div>\n",
              "      <button class=\"colab-df-convert\" onclick=\"convertToInteractive('df-f0b24c20-ebd9-4240-ac39-20a3f458cbff')\"\n",
              "              title=\"Convert this dataframe to an interactive table.\"\n",
              "              style=\"display:none;\">\n",
              "        \n",
              "  <svg xmlns=\"http://www.w3.org/2000/svg\" height=\"24px\"viewBox=\"0 0 24 24\"\n",
              "       width=\"24px\">\n",
              "    <path d=\"M0 0h24v24H0V0z\" fill=\"none\"/>\n",
              "    <path d=\"M18.56 5.44l.94 2.06.94-2.06 2.06-.94-2.06-.94-.94-2.06-.94 2.06-2.06.94zm-11 1L8.5 8.5l.94-2.06 2.06-.94-2.06-.94L8.5 2.5l-.94 2.06-2.06.94zm10 10l.94 2.06.94-2.06 2.06-.94-2.06-.94-.94-2.06-.94 2.06-2.06.94z\"/><path d=\"M17.41 7.96l-1.37-1.37c-.4-.4-.92-.59-1.43-.59-.52 0-1.04.2-1.43.59L10.3 9.45l-7.72 7.72c-.78.78-.78 2.05 0 2.83L4 21.41c.39.39.9.59 1.41.59.51 0 1.02-.2 1.41-.59l7.78-7.78 2.81-2.81c.8-.78.8-2.07 0-2.86zM5.41 20L4 18.59l7.72-7.72 1.47 1.35L5.41 20z\"/>\n",
              "  </svg>\n",
              "      </button>\n",
              "      \n",
              "  <style>\n",
              "    .colab-df-container {\n",
              "      display:flex;\n",
              "      flex-wrap:wrap;\n",
              "      gap: 12px;\n",
              "    }\n",
              "\n",
              "    .colab-df-convert {\n",
              "      background-color: #E8F0FE;\n",
              "      border: none;\n",
              "      border-radius: 50%;\n",
              "      cursor: pointer;\n",
              "      display: none;\n",
              "      fill: #1967D2;\n",
              "      height: 32px;\n",
              "      padding: 0 0 0 0;\n",
              "      width: 32px;\n",
              "    }\n",
              "\n",
              "    .colab-df-convert:hover {\n",
              "      background-color: #E2EBFA;\n",
              "      box-shadow: 0px 1px 2px rgba(60, 64, 67, 0.3), 0px 1px 3px 1px rgba(60, 64, 67, 0.15);\n",
              "      fill: #174EA6;\n",
              "    }\n",
              "\n",
              "    [theme=dark] .colab-df-convert {\n",
              "      background-color: #3B4455;\n",
              "      fill: #D2E3FC;\n",
              "    }\n",
              "\n",
              "    [theme=dark] .colab-df-convert:hover {\n",
              "      background-color: #434B5C;\n",
              "      box-shadow: 0px 1px 3px 1px rgba(0, 0, 0, 0.15);\n",
              "      filter: drop-shadow(0px 1px 2px rgba(0, 0, 0, 0.3));\n",
              "      fill: #FFFFFF;\n",
              "    }\n",
              "  </style>\n",
              "\n",
              "      <script>\n",
              "        const buttonEl =\n",
              "          document.querySelector('#df-f0b24c20-ebd9-4240-ac39-20a3f458cbff button.colab-df-convert');\n",
              "        buttonEl.style.display =\n",
              "          google.colab.kernel.accessAllowed ? 'block' : 'none';\n",
              "\n",
              "        async function convertToInteractive(key) {\n",
              "          const element = document.querySelector('#df-f0b24c20-ebd9-4240-ac39-20a3f458cbff');\n",
              "          const dataTable =\n",
              "            await google.colab.kernel.invokeFunction('convertToInteractive',\n",
              "                                                     [key], {});\n",
              "          if (!dataTable) return;\n",
              "\n",
              "          const docLinkHtml = 'Like what you see? Visit the ' +\n",
              "            '<a target=\"_blank\" href=https://colab.research.google.com/notebooks/data_table.ipynb>data table notebook</a>'\n",
              "            + ' to learn more about interactive tables.';\n",
              "          element.innerHTML = '';\n",
              "          dataTable['output_type'] = 'display_data';\n",
              "          await google.colab.output.renderOutput(dataTable, element);\n",
              "          const docLink = document.createElement('div');\n",
              "          docLink.innerHTML = docLinkHtml;\n",
              "          element.appendChild(docLink);\n",
              "        }\n",
              "      </script>\n",
              "    </div>\n",
              "  </div>\n",
              "  "
            ]
          },
          "metadata": {},
          "execution_count": 19
        }
      ],
      "source": [
        "data_origen_emigrantes[data_origen_emigrantes.duplicated()]"
      ]
    }
  ],
  "metadata": {
    "kernelspec": {
      "display_name": "Python 3",
      "language": "python",
      "name": "python3"
    },
    "language_info": {
      "codemirror_mode": {
        "name": "ipython",
        "version": 3
      },
      "file_extension": ".py",
      "mimetype": "text/x-python",
      "name": "python",
      "nbconvert_exporter": "python",
      "pygments_lexer": "ipython3",
      "version": "3.10.7"
    },
    "orig_nbformat": 4,
    "vscode": {
      "interpreter": {
        "hash": "df95319d8ce4e1d89f5365ae10992bc1f65da593082b1d264e8f529830ec2f02"
      }
    },
    "colab": {
      "provenance": []
    }
  },
  "nbformat": 4,
  "nbformat_minor": 0
}