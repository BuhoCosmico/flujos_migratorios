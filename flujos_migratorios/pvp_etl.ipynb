{
 "cells": [
  {
   "cell_type": "code",
   "execution_count": 1,
   "metadata": {},
   "outputs": [],
   "source": [
    "import pandas as pd\n",
    "import numpy as np\n",
    "import etl"
   ]
  },
  {
   "cell_type": "code",
   "execution_count": 2,
   "metadata": {},
   "outputs": [],
   "source": [
    "total_pvp = pd.read_csv('../datasets/processed/proyecto_poblacion/total_pvp.csv')\n",
    "total_pvp = total_pvp.drop(['Unnamed: 0','Index','Notes of destination','Location code of destination','Type of data of destination','Location code of origin'],axis=1)\n",
    "total_pvp.columns = ['destination','origin','1990','1995','2000','2005','2010','2015','2020']"
   ]
  },
  {
   "cell_type": "code",
   "execution_count": 3,
   "metadata": {},
   "outputs": [],
   "source": [
    "total_pvp.destination = total_pvp.destination.apply(etl.remove_special_characters).str.lower()\n",
    "total_pvp.destination = total_pvp.destination.astype(str)\n",
    "total_pvp.destination = total_pvp.destination.str.strip()\n",
    "total_pvp.destination = total_pvp.destination.apply(etl.normalize_country).str.lower()\n",
    "\n",
    "total_pvp.origin = total_pvp.origin.apply(etl.remove_special_characters).str.lower()\n",
    "total_pvp.origin = total_pvp.origin.astype(str)\n",
    "total_pvp.origin = total_pvp.origin.str.strip()\n",
    "total_pvp.origin = total_pvp.origin.apply(etl.normalize_country).str.lower()\n"
   ]
  },
  {
   "cell_type": "code",
   "execution_count": 4,
   "metadata": {},
   "outputs": [],
   "source": [
    "total_pvp = total_pvp.drop(total_pvp.where(~total_pvp.destination.isin(etl.country_code_df['name'])).dropna().index,axis=0)\n",
    "total_pvp = total_pvp.drop(total_pvp.where(~total_pvp.origin.isin(etl.country_code_df['name'])).dropna().index,axis=0)\n"
   ]
  },
  {
   "cell_type": "code",
   "execution_count": 5,
   "metadata": {},
   "outputs": [],
   "source": [
    "total_pvp = total_pvp.rename({'destination':'name'},axis=1)\n",
    "etl.insert_country_code(total_pvp)\n",
    "total_pvp = total_pvp.rename({'name':'destination','region_id':'destination_id','origin':'name'},axis=1)\n",
    "etl.insert_country_code(total_pvp)\n",
    "total_pvp = total_pvp.rename({'name':'origin','region_id':'origin_id'},axis=1)"
   ]
  },
  {
   "cell_type": "code",
   "execution_count": 6,
   "metadata": {},
   "outputs": [],
   "source": [
    "total_pvp.insert(1,'destination_id',total_pvp.pop('destination_id'))"
   ]
  },
  {
   "cell_type": "code",
   "execution_count": 7,
   "metadata": {},
   "outputs": [],
   "source": [
    "total_pvp.insert(3,'origin_id',total_pvp.pop('origin_id'))"
   ]
  },
  {
   "cell_type": "code",
   "execution_count": 8,
   "metadata": {},
   "outputs": [
    {
     "data": {
      "text/html": [
       "<div>\n",
       "<style scoped>\n",
       "    .dataframe tbody tr th:only-of-type {\n",
       "        vertical-align: middle;\n",
       "    }\n",
       "\n",
       "    .dataframe tbody tr th {\n",
       "        vertical-align: top;\n",
       "    }\n",
       "\n",
       "    .dataframe thead th {\n",
       "        text-align: right;\n",
       "    }\n",
       "</style>\n",
       "<table border=\"1\" class=\"dataframe\">\n",
       "  <thead>\n",
       "    <tr style=\"text-align: right;\">\n",
       "      <th></th>\n",
       "      <th>destination</th>\n",
       "      <th>destination_id</th>\n",
       "      <th>origin</th>\n",
       "      <th>origin_id</th>\n",
       "      <th>1990</th>\n",
       "      <th>1995</th>\n",
       "      <th>2000</th>\n",
       "      <th>2005</th>\n",
       "      <th>2010</th>\n",
       "      <th>2015</th>\n",
       "      <th>2020</th>\n",
       "    </tr>\n",
       "  </thead>\n",
       "  <tbody>\n",
       "    <tr>\n",
       "      <th>6557</th>\n",
       "      <td>burundi</td>\n",
       "      <td>116</td>\n",
       "      <td>belgium</td>\n",
       "      <td>67</td>\n",
       "      <td>642</td>\n",
       "      <td>621</td>\n",
       "      <td>475</td>\n",
       "      <td>466</td>\n",
       "      <td>497</td>\n",
       "      <td>605</td>\n",
       "      <td>718</td>\n",
       "    </tr>\n",
       "    <tr>\n",
       "      <th>6558</th>\n",
       "      <td>burundi</td>\n",
       "      <td>116</td>\n",
       "      <td>congo</td>\n",
       "      <td>137</td>\n",
       "      <td>36654</td>\n",
       "      <td>41447</td>\n",
       "      <td>37951</td>\n",
       "      <td>99099</td>\n",
       "      <td>147611</td>\n",
       "      <td>175768</td>\n",
       "      <td>199585</td>\n",
       "    </tr>\n",
       "    <tr>\n",
       "      <th>6559</th>\n",
       "      <td>burundi</td>\n",
       "      <td>116</td>\n",
       "      <td>france</td>\n",
       "      <td>68</td>\n",
       "      <td>321</td>\n",
       "      <td>310</td>\n",
       "      <td>237</td>\n",
       "      <td>232</td>\n",
       "      <td>248</td>\n",
       "      <td>302</td>\n",
       "      <td>358</td>\n",
       "    </tr>\n",
       "    <tr>\n",
       "      <th>6560</th>\n",
       "      <td>burundi</td>\n",
       "      <td>116</td>\n",
       "      <td>kenya</td>\n",
       "      <td>121</td>\n",
       "      <td>186</td>\n",
       "      <td>216</td>\n",
       "      <td>202</td>\n",
       "      <td>502</td>\n",
       "      <td>847</td>\n",
       "      <td>1032</td>\n",
       "      <td>1226</td>\n",
       "    </tr>\n",
       "    <tr>\n",
       "      <th>6561</th>\n",
       "      <td>burundi</td>\n",
       "      <td>116</td>\n",
       "      <td>rwanda</td>\n",
       "      <td>126</td>\n",
       "      <td>221943</td>\n",
       "      <td>160197</td>\n",
       "      <td>66415</td>\n",
       "      <td>61104</td>\n",
       "      <td>54794</td>\n",
       "      <td>64363</td>\n",
       "      <td>76567</td>\n",
       "    </tr>\n",
       "    <tr>\n",
       "      <th>...</th>\n",
       "      <td>...</td>\n",
       "      <td>...</td>\n",
       "      <td>...</td>\n",
       "      <td>...</td>\n",
       "      <td>...</td>\n",
       "      <td>...</td>\n",
       "      <td>...</td>\n",
       "      <td>...</td>\n",
       "      <td>...</td>\n",
       "      <td>...</td>\n",
       "      <td>...</td>\n",
       "    </tr>\n",
       "    <tr>\n",
       "      <th>32904</th>\n",
       "      <td>uruguay</td>\n",
       "      <td>114</td>\n",
       "      <td>poland</td>\n",
       "      <td>33</td>\n",
       "      <td>4067</td>\n",
       "      <td>2465</td>\n",
       "      <td>1318</td>\n",
       "      <td>1220</td>\n",
       "      <td>1130</td>\n",
       "      <td>1166</td>\n",
       "      <td>1390</td>\n",
       "    </tr>\n",
       "    <tr>\n",
       "      <th>32905</th>\n",
       "      <td>uruguay</td>\n",
       "      <td>114</td>\n",
       "      <td>portugal</td>\n",
       "      <td>61</td>\n",
       "      <td>1216</td>\n",
       "      <td>877</td>\n",
       "      <td>633</td>\n",
       "      <td>586</td>\n",
       "      <td>543</td>\n",
       "      <td>560</td>\n",
       "      <td>668</td>\n",
       "    </tr>\n",
       "    <tr>\n",
       "      <th>32906</th>\n",
       "      <td>uruguay</td>\n",
       "      <td>114</td>\n",
       "      <td>romania</td>\n",
       "      <td>35</td>\n",
       "      <td>811</td>\n",
       "      <td>748</td>\n",
       "      <td>690</td>\n",
       "      <td>639</td>\n",
       "      <td>592</td>\n",
       "      <td>611</td>\n",
       "      <td>728</td>\n",
       "    </tr>\n",
       "    <tr>\n",
       "      <th>32907</th>\n",
       "      <td>uruguay</td>\n",
       "      <td>114</td>\n",
       "      <td>spain</td>\n",
       "      <td>65</td>\n",
       "      <td>34478</td>\n",
       "      <td>29447</td>\n",
       "      <td>24303</td>\n",
       "      <td>18858</td>\n",
       "      <td>15718</td>\n",
       "      <td>16232</td>\n",
       "      <td>19374</td>\n",
       "    </tr>\n",
       "    <tr>\n",
       "      <th>32908</th>\n",
       "      <td>uruguay</td>\n",
       "      <td>114</td>\n",
       "      <td>united kingdom</td>\n",
       "      <td>50</td>\n",
       "      <td>535</td>\n",
       "      <td>523</td>\n",
       "      <td>513</td>\n",
       "      <td>475</td>\n",
       "      <td>440</td>\n",
       "      <td>454</td>\n",
       "      <td>541</td>\n",
       "    </tr>\n",
       "  </tbody>\n",
       "</table>\n",
       "<p>8578 rows × 11 columns</p>\n",
       "</div>"
      ],
      "text/plain": [
       "      destination destination_id          origin origin_id    1990    1995  \\\n",
       "6557      burundi            116         belgium        67     642     621   \n",
       "6558      burundi            116           congo       137   36654   41447   \n",
       "6559      burundi            116          france        68     321     310   \n",
       "6560      burundi            116           kenya       121     186     216   \n",
       "6561      burundi            116          rwanda       126  221943  160197   \n",
       "...           ...            ...             ...       ...     ...     ...   \n",
       "32904     uruguay            114          poland        33    4067    2465   \n",
       "32905     uruguay            114        portugal        61    1216     877   \n",
       "32906     uruguay            114         romania        35     811     748   \n",
       "32907     uruguay            114           spain        65   34478   29447   \n",
       "32908     uruguay            114  united kingdom        50     535     523   \n",
       "\n",
       "        2000   2005    2010    2015    2020  \n",
       "6557     475    466     497     605     718  \n",
       "6558   37951  99099  147611  175768  199585  \n",
       "6559     237    232     248     302     358  \n",
       "6560     202    502     847    1032    1226  \n",
       "6561   66415  61104   54794   64363   76567  \n",
       "...      ...    ...     ...     ...     ...  \n",
       "32904   1318   1220    1130    1166    1390  \n",
       "32905    633    586     543     560     668  \n",
       "32906    690    639     592     611     728  \n",
       "32907  24303  18858   15718   16232   19374  \n",
       "32908    513    475     440     454     541  \n",
       "\n",
       "[8578 rows x 11 columns]"
      ]
     },
     "execution_count": 8,
     "metadata": {},
     "output_type": "execute_result"
    }
   ],
   "source": [
    "total_pvp"
   ]
  },
  {
   "cell_type": "code",
   "execution_count": 9,
   "metadata": {},
   "outputs": [],
   "source": [
    "total_pvp.to_csv('../datasets/processed/proyecto_poblacion/total_pvp_codigo_pais.csv')"
   ]
  },
  {
   "cell_type": "code",
   "execution_count": 10,
   "metadata": {},
   "outputs": [],
   "source": [
    "total_pvp = (\n",
    "    total_pvp.set_index([\"destination\", \"destination_id\", \"origin\", \"origin_id\"])\n",
    "    .rename_axis(\"year\", axis=1)\n",
    "    .stack()\n",
    "    .reset_index()\n",
    "    .sort_values(['year','destination'])\n",
    "    .rename({0:'migrants'},axis=1)\n",
    "    .reset_index(drop=True)\n",
    "    .rename_axis(None, axis=1)\n",
    "    .rename_axis(\"id\")\n",
    ")"
   ]
  },
  {
   "cell_type": "code",
   "execution_count": 11,
   "metadata": {},
   "outputs": [
    {
     "data": {
      "text/plain": [
       "PeriodIndex(['1990', '1991', '1992', '1993', '1994', '1995', '1996', '1997',\n",
       "             '1998', '1999', '2000', '2001', '2002', '2003', '2004', '2005',\n",
       "             '2006', '2007', '2008', '2009', '2010', '2011', '2012', '2013',\n",
       "             '2014', '2015', '2016', '2017', '2018', '2019', '2020'],\n",
       "            dtype='period[A-DEC]')"
      ]
     },
     "execution_count": 11,
     "metadata": {},
     "output_type": "execute_result"
    }
   ],
   "source": [
    "pd.period_range(start=pd.Period(total_pvp['year'].min(), freq='Y'),end=pd.Period(total_pvp['year'].max(), freq='Y'))"
   ]
  },
  {
   "cell_type": "code",
   "execution_count": 12,
   "metadata": {},
   "outputs": [],
   "source": [
    "total_pvp = total_pvp.drop(['destination','origin'],axis=1).rename({'destination_id':'destination','origin_id':'origin'},axis=1)\n",
    "total_pvp.to_csv('../datasets/sql/migration.csv')"
   ]
  }
 ],
 "metadata": {
  "kernelspec": {
   "display_name": "venv",
   "language": "python",
   "name": "python3"
  },
  "language_info": {
   "codemirror_mode": {
    "name": "ipython",
    "version": 3
   },
   "file_extension": ".py",
   "mimetype": "text/x-python",
   "name": "python",
   "nbconvert_exporter": "python",
   "pygments_lexer": "ipython3",
   "version": "3.11.0"
  },
  "orig_nbformat": 4,
  "vscode": {
   "interpreter": {
    "hash": "9f51f3a78af393f2085a065c622ed6bb1d4ae12f91b310d8ac878fee426b316c"
   }
  }
 },
 "nbformat": 4,
 "nbformat_minor": 2
}
